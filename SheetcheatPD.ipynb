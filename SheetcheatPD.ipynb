{
  "nbformat": 4,
  "nbformat_minor": 0,
  "metadata": {
    "colab": {
      "name": "SheetcheatPD.ipynb",
      "provenance": [],
      "collapsed_sections": [],
      "authorship_tag": "ABX9TyP8eVq8J++ZhW5j0uJhF02I",
      "include_colab_link": true
    },
    "kernelspec": {
      "name": "python3",
      "display_name": "Python 3"
    },
    "language_info": {
      "name": "python"
    }
  },
  "cells": [
    {
      "cell_type": "markdown",
      "metadata": {
        "id": "view-in-github",
        "colab_type": "text"
      },
      "source": [
        "<a href=\"https://colab.research.google.com/github/xanasa14/DataScienceSheetCheats/blob/main/SheetcheatPD.ipynb\" target=\"_parent\"><img src=\"https://colab.research.google.com/assets/colab-badge.svg\" alt=\"Open In Colab\"/></a>"
      ]
    },
    {
      "cell_type": "code",
      "execution_count": 1,
      "metadata": {
        "id": "fPCgV5egtaMp"
      },
      "outputs": [],
      "source": [
        "#Important recognition to https://www.machinelearningplus.com/python/101-pandas-exercises-python/ for putting everything together \n",
        "#Some methods are deprecated. I updated them in this Colab. \n",
        "import numpy as np \n",
        "import pandas as pd \n"
      ]
    },
    {
      "cell_type": "code",
      "source": [
        "\n",
        "#2 How to create a series from a list, numpy array and dict?\n",
        "'''Create a pandas series from each of the items below: a list, numpy and a dictionary Input\n",
        "\n",
        "mylist = list('abcedfghijklmnopqrstuvwxyz')\n",
        "myarr = np.arange(26)\n",
        "mydict = dict(zip(mylist, myarr))'''\n",
        "mylist = list('abcedfghijklmnopqrstuvwxyz')\n",
        "myarr = np.arange(26)\n",
        "mydict = dict(zip(mylist, myarr))\n",
        "\n",
        "# Solution\n",
        "ser1 = pd.Series(mylist)\n",
        "ser2 = pd.Series(myarr)\n",
        "ser3 = pd.Series(mydict)\n",
        "ser3"
      ],
      "metadata": {
        "colab": {
          "base_uri": "https://localhost:8080/"
        },
        "id": "ZSzQTPe4wpqh",
        "outputId": "9929d18b-f80f-4dcd-ecfb-6d24f8835c2a"
      },
      "execution_count": null,
      "outputs": [
        {
          "output_type": "execute_result",
          "data": {
            "text/plain": [
              "a     0\n",
              "b     1\n",
              "c     2\n",
              "e     3\n",
              "d     4\n",
              "f     5\n",
              "g     6\n",
              "h     7\n",
              "i     8\n",
              "j     9\n",
              "k    10\n",
              "l    11\n",
              "m    12\n",
              "n    13\n",
              "o    14\n",
              "p    15\n",
              "q    16\n",
              "r    17\n",
              "s    18\n",
              "t    19\n",
              "u    20\n",
              "v    21\n",
              "w    22\n",
              "x    23\n",
              "y    24\n",
              "z    25\n",
              "dtype: int64"
            ]
          },
          "metadata": {},
          "execution_count": 2
        }
      ]
    },
    {
      "cell_type": "code",
      "source": [
        "#3. How to convert the index of a series into a column of a dataframe?\n",
        "# Solution\n",
        "df = ser3.to_frame().reset_index()\n",
        "print(df.head())"
      ],
      "metadata": {
        "colab": {
          "base_uri": "https://localhost:8080/"
        },
        "id": "G7hVlkfewpJa",
        "outputId": "d72a2c6b-9731-452a-86c2-61a48f77d44f"
      },
      "execution_count": null,
      "outputs": [
        {
          "output_type": "stream",
          "name": "stdout",
          "text": [
            "  index  0\n",
            "0     a  0\n",
            "1     b  1\n",
            "2     c  2\n",
            "3     e  3\n",
            "4     d  4\n"
          ]
        }
      ]
    },
    {
      "cell_type": "code",
      "source": [
        "#4. How to combine many series to form a dataframe?\n",
        "import numpy as np\n",
        "ser1 = pd.Series(list('abcedfghijklmnopqrstuvwxyz'))\n",
        "ser2 = pd.Series(np.arange(26))\n",
        "\n",
        "\n",
        "# Solution \n",
        "df = pd.DataFrame({'col1': ser1, 'col2': ser2})\n",
        "\n",
        "print(df.head())"
      ],
      "metadata": {
        "colab": {
          "base_uri": "https://localhost:8080/"
        },
        "id": "M93-YU4SwUJc",
        "outputId": "a4bd3045-a766-40cd-f7e2-8d226699376f"
      },
      "execution_count": null,
      "outputs": [
        {
          "output_type": "stream",
          "name": "stdout",
          "text": [
            "  col1  col2\n",
            "0    a     0\n",
            "1    b     1\n",
            "2    c     2\n",
            "3    e     3\n",
            "4    d     4\n"
          ]
        }
      ]
    },
    {
      "cell_type": "code",
      "source": [
        "#5. How to assign name to the series’ index?\n",
        "ser.name = 'alphabets'\n",
        "ser.head()"
      ],
      "metadata": {
        "colab": {
          "base_uri": "https://localhost:8080/"
        },
        "id": "_5fwW1IvwUMH",
        "outputId": "32feafce-ce44-4f78-c868-d9a04882b255"
      },
      "execution_count": null,
      "outputs": [
        {
          "output_type": "execute_result",
          "data": {
            "text/plain": [
              "0    -1.916373\n",
              "1     0.397661\n",
              "2    -2.230446\n",
              "3    29.490942\n",
              "4     3.411988\n",
              "Name: alphabets, dtype: float64"
            ]
          },
          "metadata": {},
          "execution_count": 58
        }
      ]
    },
    {
      "cell_type": "code",
      "source": [
        "#6. How to get the items of series A not present in series B?\n",
        "# Input\n",
        "ser1 = pd.Series([1, 2, 3, 4, 5])\n",
        "ser2 = pd.Series([4, 5, 6, 7, 8])\n",
        "\n",
        "# Solution\n",
        "ser1[~ser1.isin(ser2)]"
      ],
      "metadata": {
        "id": "-5NEkJiJwUOn"
      },
      "execution_count": null,
      "outputs": []
    },
    {
      "cell_type": "code",
      "source": [
        "#7. How to get the items not common to both series A and series B?\n",
        "ser1 = pd.Series([1, 2, 3, 4, 5])\n",
        "ser2 = pd.Series([4, 5, 6, 7, 8])\n",
        "# Solution\n",
        "ser_u = pd.Series(np.union1d(ser1, ser2))  # union\n",
        "ser_i = pd.Series(np.intersect1d(ser1, ser2))  # intersect\n",
        "ser_u[~ser_u.isin(ser_i)]"
      ],
      "metadata": {
        "id": "MoMUu1_QwURR"
      },
      "execution_count": null,
      "outputs": []
    },
    {
      "cell_type": "code",
      "source": [
        "#8. How to get the minimum, 25th percentile, median, 75th, and max of a numeric series?\n",
        "# Input\n",
        "state = np.random.RandomState(100)\n",
        "ser = pd.Series(state.normal(10, 5, 25))\n",
        "\n",
        "# Solution\n",
        "np.percentile(ser, q=[0, 25, 50, 75, 100])"
      ],
      "metadata": {
        "colab": {
          "base_uri": "https://localhost:8080/"
        },
        "id": "oVL-GuNBwUUG",
        "outputId": "450c6d08-8dbe-426a-d075-01034ebb06a7"
      },
      "execution_count": null,
      "outputs": [
        {
          "output_type": "execute_result",
          "data": {
            "text/plain": [
              "array([ 1.25117263,  7.70986507, 10.92259345, 13.36360403, 18.0949083 ])"
            ]
          },
          "metadata": {},
          "execution_count": 6
        }
      ]
    },
    {
      "cell_type": "code",
      "source": [
        "#9. How to get frequency counts of unique items of a series?\n",
        "# Input\n",
        "ser = pd.Series(np.take(list('abcdefgh'), np.random.randint(8, size=30)))\n",
        "\n",
        "# Solution\n",
        "ser.value_counts()"
      ],
      "metadata": {
        "colab": {
          "base_uri": "https://localhost:8080/"
        },
        "id": "2xolNLmnwUWx",
        "outputId": "5bc298e6-8599-4a93-a6b6-589e87703fce"
      },
      "execution_count": null,
      "outputs": [
        {
          "output_type": "execute_result",
          "data": {
            "text/plain": [
              "d    7\n",
              "h    6\n",
              "a    4\n",
              "g    4\n",
              "b    3\n",
              "c    2\n",
              "f    2\n",
              "e    2\n",
              "dtype: int64"
            ]
          },
          "metadata": {},
          "execution_count": 7
        }
      ]
    },
    {
      "cell_type": "code",
      "source": [
        "#10. How to keep only top 2 most frequent values as it is and replace everything else as ‘Other’?\n",
        "# Input\n",
        "np.random.RandomState(100)\n",
        "ser = pd.Series(np.random.randint(1, 5, [12]))\n",
        "\n",
        "# Solution\n",
        "print(\"Top 2 Freq:\", ser.value_counts())\n",
        "ser[~ser.isin(ser.value_counts().index[:2])] = 'Other'\n",
        "ser"
      ],
      "metadata": {
        "colab": {
          "base_uri": "https://localhost:8080/"
        },
        "id": "yMCPr07lwUcm",
        "outputId": "c3428d41-dc77-4f37-890c-fdcf176e011c"
      },
      "execution_count": null,
      "outputs": [
        {
          "output_type": "stream",
          "name": "stdout",
          "text": [
            "Top 2 Freq: 1    5\n",
            "4    3\n",
            "2    3\n",
            "3    1\n",
            "dtype: int64\n"
          ]
        },
        {
          "output_type": "execute_result",
          "data": {
            "text/plain": [
              "0         4\n",
              "1         4\n",
              "2         1\n",
              "3     Other\n",
              "4         4\n",
              "5     Other\n",
              "6         1\n",
              "7         1\n",
              "8     Other\n",
              "9     Other\n",
              "10        1\n",
              "11        1\n",
              "dtype: object"
            ]
          },
          "metadata": {},
          "execution_count": 8
        }
      ]
    },
    {
      "cell_type": "code",
      "source": [
        "#11. How to bin a numeric series to 10 groups of equal size?\n",
        "# Input\n",
        "ser = pd.Series(np.random.random(20))\n",
        "print(ser.head(10))\n",
        "\n",
        "# Solution\n",
        "pd.qcut(ser, q=[0, .10, .20, .3, .4, .5, .6, .7, .8, .9, 1], \n",
        "        labels=['1st', '2nd', '3rd', '4th', '5th', '6th', '7th', '8th', '9th', '10th']).head()"
      ],
      "metadata": {
        "colab": {
          "base_uri": "https://localhost:8080/"
        },
        "id": "WgJ9sCJYwUfV",
        "outputId": "73ad8c22-2d82-4139-bb64-3da52a4023a1"
      },
      "execution_count": null,
      "outputs": [
        {
          "output_type": "stream",
          "name": "stdout",
          "text": [
            "0    0.789806\n",
            "1    0.307398\n",
            "2    0.746696\n",
            "3    0.318541\n",
            "4    0.891209\n",
            "5    0.475945\n",
            "6    0.505793\n",
            "7    0.133092\n",
            "8    0.195532\n",
            "9    0.190104\n",
            "dtype: float64\n"
          ]
        },
        {
          "output_type": "execute_result",
          "data": {
            "text/plain": [
              "0     9th\n",
              "1     4th\n",
              "2     8th\n",
              "3     4th\n",
              "4    10th\n",
              "dtype: category\n",
              "Categories (10, object): ['1st' < '2nd' < '3rd' < '4th' ... '7th' < '8th' < '9th' < '10th']"
            ]
          },
          "metadata": {},
          "execution_count": 9
        }
      ]
    },
    {
      "cell_type": "code",
      "source": [
        "#12. How to convert a numpy array to a dataframe of given shape? (L1)\n",
        "# Input\n",
        "ser = pd.Series(np.random.randint(1, 10, 20))\n",
        "print(ser)\n",
        "# Solution\n",
        "df = pd.DataFrame(ser.values.reshape(4,5))\n",
        "print(df)"
      ],
      "metadata": {
        "colab": {
          "base_uri": "https://localhost:8080/"
        },
        "id": "NCfBnDUTwUiO",
        "outputId": "fbb0e6c7-62dc-46a3-bc35-61afc4b7c31f"
      },
      "execution_count": null,
      "outputs": [
        {
          "output_type": "stream",
          "name": "stdout",
          "text": [
            "0     2\n",
            "1     8\n",
            "2     3\n",
            "3     6\n",
            "4     4\n",
            "5     8\n",
            "6     2\n",
            "7     5\n",
            "8     6\n",
            "9     1\n",
            "10    9\n",
            "11    4\n",
            "12    8\n",
            "13    3\n",
            "14    1\n",
            "15    4\n",
            "16    2\n",
            "17    4\n",
            "18    5\n",
            "19    4\n",
            "dtype: int64\n",
            "   0  1  2  3  4\n",
            "0  2  8  3  6  4\n",
            "1  8  2  5  6  1\n",
            "2  9  4  8  3  1\n",
            "3  4  2  4  5  4\n"
          ]
        }
      ]
    },
    {
      "cell_type": "code",
      "source": [
        "#13. How to find the positions of numbers that are multiples of 3 from a series?\n",
        "# Input\n",
        "ser = pd.Series(np.random.randint(1, 10, 7))\n",
        "ser\n",
        "\n",
        "# Solution\n",
        "print(ser)\n",
        "result = np.where(ser % 3==0)\n",
        "result"
      ],
      "metadata": {
        "colab": {
          "base_uri": "https://localhost:8080/"
        },
        "id": "8fYHAK_S76K0",
        "outputId": "f245e957-bb06-4828-fa7e-c5e468216ff5"
      },
      "execution_count": null,
      "outputs": [
        {
          "output_type": "stream",
          "name": "stdout",
          "text": [
            "0    3\n",
            "1    1\n",
            "2    6\n",
            "3    6\n",
            "4    6\n",
            "5    8\n",
            "6    1\n",
            "dtype: int64\n"
          ]
        },
        {
          "output_type": "execute_result",
          "data": {
            "text/plain": [
              "(array([0, 2, 3, 4]),)"
            ]
          },
          "metadata": {},
          "execution_count": 11
        }
      ]
    },
    {
      "cell_type": "code",
      "source": [
        "#14. How to extract items at given positions from a series\n",
        "# Input\n",
        "ser = pd.Series(list('abcdefghijklmnopqrstuvwxyz'))\n",
        "pos = [0, 4, 8, 14, 20]\n",
        "\n",
        "# Solution\n",
        "ser.take(pos)"
      ],
      "metadata": {
        "colab": {
          "base_uri": "https://localhost:8080/"
        },
        "id": "0-WjLkrU8PCY",
        "outputId": "ba09421f-0fb6-4d2b-84b8-3248beae7288"
      },
      "execution_count": null,
      "outputs": [
        {
          "output_type": "execute_result",
          "data": {
            "text/plain": [
              "0     a\n",
              "4     e\n",
              "8     i\n",
              "14    o\n",
              "20    u\n",
              "dtype: object"
            ]
          },
          "metadata": {},
          "execution_count": 12
        }
      ]
    },
    {
      "cell_type": "code",
      "source": [
        "#15. How to stack two series vertically and horizontally ?\n",
        "# Input\n",
        "ser1 = pd.Series(range(5))\n",
        "ser2 = pd.Series(list('abcde'))\n",
        "\n",
        "# Output\n",
        "# Vertical\n",
        "ser1.append(ser2)\n",
        "\n",
        "# Horizontal\n",
        "df = pd.concat([ser1, ser2], axis=1)\n",
        "print(df)"
      ],
      "metadata": {
        "colab": {
          "base_uri": "https://localhost:8080/"
        },
        "id": "l6wQY29S805B",
        "outputId": "c5eb49c1-755d-4b12-b0c3-6cc173ee7383"
      },
      "execution_count": null,
      "outputs": [
        {
          "output_type": "stream",
          "name": "stdout",
          "text": [
            "   0  1\n",
            "0  0  a\n",
            "1  1  b\n",
            "2  2  c\n",
            "3  3  d\n",
            "4  4  e\n"
          ]
        }
      ]
    },
    {
      "cell_type": "code",
      "source": [
        "#16. How to get the positions of items of series A in another series B?\n",
        "# Input\n",
        "ser1 = pd.Series([10, 9, 6, 5, 3, 1, 12, 8, 13])\n",
        "ser2 = pd.Series([1, 3, 10, 13])\n",
        "print(ser1)\n",
        "print(ser2)\n",
        "# Solution 1\n",
        "[np.where(i == ser1)[0].tolist()[0] for i in ser2]\n",
        "# Solution 2\n",
        "[pd.Index(ser1).get_loc(i) for i in ser2]\n"
      ],
      "metadata": {
        "colab": {
          "base_uri": "https://localhost:8080/"
        },
        "id": "otwOKErq-GyY",
        "outputId": "625a85bd-b14b-4506-a486-6199a55c7a88"
      },
      "execution_count": null,
      "outputs": [
        {
          "output_type": "stream",
          "name": "stdout",
          "text": [
            "0    10\n",
            "1     9\n",
            "2     6\n",
            "3     5\n",
            "4     3\n",
            "5     1\n",
            "6    12\n",
            "7     8\n",
            "8    13\n",
            "dtype: int64\n",
            "0     1\n",
            "1     3\n",
            "2    10\n",
            "3    13\n",
            "dtype: int64\n"
          ]
        },
        {
          "output_type": "execute_result",
          "data": {
            "text/plain": [
              "[5, 4, 0, 8]"
            ]
          },
          "metadata": {},
          "execution_count": 14
        }
      ]
    },
    {
      "cell_type": "code",
      "source": [
        "#17. How to compute the mean squared error on a truth and predicted series?\n",
        "# Input\n",
        "truth = pd.Series(range(10))\n",
        "pred = pd.Series(range(10)) + np.random.random(10)\n",
        "\n",
        "# Solution\n",
        "np.mean((truth-pred)**2)"
      ],
      "metadata": {
        "colab": {
          "base_uri": "https://localhost:8080/"
        },
        "id": "v4RZ1CNo-7_p",
        "outputId": "bea4a2ac-6388-4ba5-f1df-58db4822bce2"
      },
      "execution_count": null,
      "outputs": [
        {
          "output_type": "execute_result",
          "data": {
            "text/plain": [
              "0.419654473789171"
            ]
          },
          "metadata": {},
          "execution_count": 15
        }
      ]
    },
    {
      "cell_type": "code",
      "source": [
        "#18. How to convert the first character of each element in a series to uppercase?\n",
        "# Input\n",
        "ser = pd.Series(['how', 'to', 'kick', 'ass?'])\n",
        "\n",
        "# Solution 1\n",
        "ser.map(lambda x: x.title())\n",
        "\n",
        "# Solution 2\n",
        "ser.map(lambda x: x[0].upper() + x[1:])\n",
        "\n",
        "# Solution 3\n",
        "pd.Series([i.title() for i in ser])"
      ],
      "metadata": {
        "colab": {
          "base_uri": "https://localhost:8080/"
        },
        "id": "0iEXajVZ_Yv8",
        "outputId": "19f0a55b-e516-4c73-955a-3837f6414fe4"
      },
      "execution_count": null,
      "outputs": [
        {
          "output_type": "execute_result",
          "data": {
            "text/plain": [
              "0     How\n",
              "1      To\n",
              "2    Kick\n",
              "3    Ass?\n",
              "dtype: object"
            ]
          },
          "metadata": {},
          "execution_count": 16
        }
      ]
    },
    {
      "cell_type": "code",
      "source": [
        "#19. How to calculate the number of characters in each word in a series?\n",
        "# Input\n",
        "ser = pd.Series(['how', 'to', 'kick', 'ass?'])\n",
        "\n",
        "# Solution\n",
        "ser.map(lambda x: len(x))"
      ],
      "metadata": {
        "colab": {
          "base_uri": "https://localhost:8080/"
        },
        "id": "V2d_GiFs_gMY",
        "outputId": "3c9bc19b-8859-4d69-eec5-ccc2c03091f4"
      },
      "execution_count": null,
      "outputs": [
        {
          "output_type": "execute_result",
          "data": {
            "text/plain": [
              "0    3\n",
              "1    2\n",
              "2    4\n",
              "3    4\n",
              "dtype: int64"
            ]
          },
          "metadata": {},
          "execution_count": 17
        }
      ]
    },
    {
      "cell_type": "code",
      "source": [
        "#20. How to compute difference of differences between consequtive numbers of a series?\n",
        "# Input\n",
        "ser = pd.Series([1, 3, 6, 10, 15, 21, 27, 35])\n",
        "\n",
        "# Solution\n",
        "print(ser.diff().tolist())\n",
        "print(ser.diff().diff().tolist())"
      ],
      "metadata": {
        "colab": {
          "base_uri": "https://localhost:8080/"
        },
        "id": "gBJ1ihC2BZtP",
        "outputId": "a92c6da9-c555-4e93-868e-3a6db81f15bc"
      },
      "execution_count": null,
      "outputs": [
        {
          "output_type": "stream",
          "name": "stdout",
          "text": [
            "[nan, 2.0, 3.0, 4.0, 5.0, 6.0, 6.0, 8.0]\n",
            "[nan, nan, 1.0, 1.0, 1.0, 1.0, 0.0, 2.0]\n"
          ]
        }
      ]
    },
    {
      "cell_type": "code",
      "source": [
        "#21. How to convert a series of date-strings to a timeseries?\n",
        "# Input\n",
        "ser = pd.Series(['01 Jan 2010', '02-02-2011', '20120303', '2013/04/04', '2014-05-05', '2015-06-06T12:20'])\n",
        "\n",
        "# Solution 1\n",
        "from dateutil.parser import parse\n",
        "ser.map(lambda x: parse(x))\n",
        "\n",
        "# Solution 2\n",
        "pd.to_datetime(ser)"
      ],
      "metadata": {
        "colab": {
          "base_uri": "https://localhost:8080/"
        },
        "id": "1YFlWMb5BiL9",
        "outputId": "f6cd0198-fd0f-447e-accd-faa1e19249b6"
      },
      "execution_count": null,
      "outputs": [
        {
          "output_type": "execute_result",
          "data": {
            "text/plain": [
              "0   2010-01-01 00:00:00\n",
              "1   2011-02-02 00:00:00\n",
              "2   2012-03-03 00:00:00\n",
              "3   2013-04-04 00:00:00\n",
              "4   2014-05-05 00:00:00\n",
              "5   2015-06-06 12:20:00\n",
              "dtype: datetime64[ns]"
            ]
          },
          "metadata": {},
          "execution_count": 19
        }
      ]
    },
    {
      "cell_type": "code",
      "source": [
        "#22. How to get the day of month, week number, day of year and day of week from a series of date strings?\n",
        "# Input\n",
        "ser = pd.Series(['01 Jan 2010', '02-02-2011', '20120303', '2013/04/04', '2014-05-05', '2015-06-06T12:20'])\n",
        "\n",
        "# Solution\n",
        "from dateutil.parser import parse\n",
        "ser_ts = ser.map(lambda x: parse(x))\n",
        "\n",
        "# day of month\n",
        "print(\"Date: \", ser_ts.dt.day.tolist())\n",
        "\n",
        "# week number\n",
        "print(\"Week number: \", ser_ts.dt.weekofyear.tolist())\n",
        "\n",
        "# day of year\n",
        "print(\"Day number of year: \", ser_ts.dt.dayofyear.tolist())\n",
        "\n",
        "# day of week\n",
        "print(\"Day of week: \", ser_ts.dt.day_of_week.to_list())\n",
        "\n",
        "\n"
      ],
      "metadata": {
        "colab": {
          "base_uri": "https://localhost:8080/"
        },
        "id": "k04xHbVkB9QS",
        "outputId": "233fa39b-750f-43f8-b509-862216863ca9"
      },
      "execution_count": null,
      "outputs": [
        {
          "output_type": "stream",
          "name": "stdout",
          "text": [
            "Date:  [1, 2, 3, 4, 5, 6]\n",
            "Week number:  [53, 5, 9, 14, 19, 23]\n",
            "Day number of year:  [1, 33, 63, 94, 125, 157]\n",
            "Day of week:  [4, 2, 5, 3, 0, 5]\n"
          ]
        },
        {
          "output_type": "stream",
          "name": "stderr",
          "text": [
            "/usr/local/lib/python3.7/dist-packages/ipykernel_launcher.py:13: FutureWarning: Series.dt.weekofyear and Series.dt.week have been deprecated.  Please use Series.dt.isocalendar().week instead.\n",
            "  del sys.path[0]\n"
          ]
        }
      ]
    },
    {
      "cell_type": "code",
      "source": [
        "#23. How to convert year-month string to dates corresponding to the 4th day of the month?\n",
        "import pandas as pd\n",
        "# Input\n",
        "ser = pd.Series(['Jan 2010', 'Feb 2011', 'Mar 2012'])\n",
        "\n",
        "# Solution 1\n",
        "from dateutil.parser import parse\n",
        "# Parse the date\n",
        "ser_ts = ser.map(lambda x: parse(x))\n",
        "\n",
        "# Construct date string with date as 4\n",
        "ser_datestr = ser_ts.dt.year.astype('str') + '-' + ser_ts.dt.month.astype('str') + '-' + '04'\n",
        "\n",
        "# Format it.\n",
        "[parse(i).strftime('%Y-%m-%d') for i in ser_datestr]\n",
        "\n",
        "# Solution 2\n",
        "ser.map(lambda x: parse('04 ' + x))"
      ],
      "metadata": {
        "colab": {
          "base_uri": "https://localhost:8080/"
        },
        "id": "46flKwHRCGDi",
        "outputId": "4124afe2-7c0c-4766-91b6-7959aa4780d5"
      },
      "execution_count": null,
      "outputs": [
        {
          "output_type": "execute_result",
          "data": {
            "text/plain": [
              "0   2010-01-04\n",
              "1   2011-02-04\n",
              "2   2012-03-04\n",
              "dtype: datetime64[ns]"
            ]
          },
          "metadata": {},
          "execution_count": 21
        }
      ]
    },
    {
      "cell_type": "code",
      "source": [
        "#24. How to filter words that contain atleast 2 vowels from a series?\n",
        "# Input\n",
        "ser = pd.Series(['Apple', 'Orange', 'Plan', 'Python', 'Money'])\n",
        "\n",
        "# Solution\n",
        "from collections import Counter\n",
        "mask = ser.map(lambda x: sum([Counter(x.lower()).get(i, 0) for i in list('aeiou')]) >= 2)\n",
        "ser[mask]"
      ],
      "metadata": {
        "colab": {
          "base_uri": "https://localhost:8080/"
        },
        "id": "kzEJOPsZC6Ou",
        "outputId": "fde56217-ffad-4b01-e5d6-395c85ec70cb"
      },
      "execution_count": null,
      "outputs": [
        {
          "output_type": "execute_result",
          "data": {
            "text/plain": [
              "0     Apple\n",
              "1    Orange\n",
              "4     Money\n",
              "dtype: object"
            ]
          },
          "metadata": {},
          "execution_count": 22
        }
      ]
    },
    {
      "cell_type": "code",
      "source": [
        "#25. How to filter valid emails from a series?\n",
        "# Input\n",
        "emails = pd.Series(['buying books at amazom.com', 'rameses@egypt.com', 'matt@t.co', 'narendra@modi.com'])\n",
        "\n",
        "# Solution 1 (as series of strings)\n",
        "import re\n",
        "pattern ='[A-Za-z0-9._%+-]+@[A-Za-z0-9.-]+\\\\.[A-Za-z]{2,4}'\n",
        "mask = emails.map(lambda x: bool(re.match(pattern, x)))\n",
        "emails[mask]\n",
        "\n",
        "# Solution 2 (as series of list)\n",
        "emails.str.findall(pattern, flags=re.IGNORECASE)\n",
        "\n",
        "# Solution 3 (as list)\n",
        "[x[0] for x in [re.findall(pattern, email) for email in emails] if len(x) > 0]"
      ],
      "metadata": {
        "colab": {
          "base_uri": "https://localhost:8080/"
        },
        "id": "Hn4fIksHDN_d",
        "outputId": "6f935b92-4159-4913-a9f0-2f2b0287ead1"
      },
      "execution_count": null,
      "outputs": [
        {
          "output_type": "execute_result",
          "data": {
            "text/plain": [
              "['rameses@egypt.com', 'matt@t.co', 'narendra@modi.com']"
            ]
          },
          "metadata": {},
          "execution_count": 23
        }
      ]
    },
    {
      "cell_type": "code",
      "source": [
        "#26. How to get the mean of a series grouped by another series?\n",
        "# Input\n",
        "fruit = pd.Series(np.random.choice(['apple', 'banana', 'carrot'], 10))\n",
        "weights = pd.Series(np.linspace(1, 10, 10))\n",
        "print(fruit.tolist())\n",
        "print(weights.tolist())\n",
        "\n",
        "# Solution\n",
        "weights.groupby(fruit).mean()"
      ],
      "metadata": {
        "colab": {
          "base_uri": "https://localhost:8080/"
        },
        "id": "fIY8ebzHaVP7",
        "outputId": "dee76b0b-9d9b-4794-b76e-4bae4e8fcd6a"
      },
      "execution_count": null,
      "outputs": [
        {
          "output_type": "stream",
          "name": "stdout",
          "text": [
            "['carrot', 'banana', 'apple', 'apple', 'apple', 'banana', 'banana', 'carrot', 'apple', 'banana']\n",
            "[1.0, 2.0, 3.0, 4.0, 5.0, 6.0, 7.0, 8.0, 9.0, 10.0]\n"
          ]
        },
        {
          "output_type": "execute_result",
          "data": {
            "text/plain": [
              "apple     5.25\n",
              "banana    6.25\n",
              "carrot    4.50\n",
              "dtype: float64"
            ]
          },
          "metadata": {},
          "execution_count": 24
        }
      ]
    },
    {
      "cell_type": "code",
      "source": [
        "#27. How to compute the euclidean distance between two series?\n",
        "p = pd.Series([1, 2, 3, 4, 5, 6, 7, 8, 9, 10])\n",
        "q = pd.Series([10, 9, 8, 7, 6, 5, 4, 3, 2, 1])\n",
        "\n",
        "# Solution \n",
        "sum((p - q)**2)**.5\n",
        "\n",
        "# Solution (using func)\n",
        "np.linalg.norm(p-q)"
      ],
      "metadata": {
        "colab": {
          "base_uri": "https://localhost:8080/"
        },
        "id": "R8fm5-EUanSY",
        "outputId": "06a3915b-b58c-46e8-ad3b-d3571f479671"
      },
      "execution_count": null,
      "outputs": [
        {
          "output_type": "execute_result",
          "data": {
            "text/plain": [
              "18.16590212458495"
            ]
          },
          "metadata": {},
          "execution_count": 25
        }
      ]
    },
    {
      "cell_type": "code",
      "source": [
        "#28. How to find all the local maxima (or peaks) in a numeric series?\n",
        "# Input\n",
        "ser = pd.Series([2, 10, 3, 4, 9, 10, 2, 7, 3])\n",
        "\n",
        "# Solution\n",
        "dd = np.diff(np.sign(np.diff(ser)))\n",
        "peak_locs = np.where(dd == -2)[0] + 1\n",
        "peak_locs"
      ],
      "metadata": {
        "colab": {
          "base_uri": "https://localhost:8080/"
        },
        "id": "0l5nBJHnbEvQ",
        "outputId": "24d0b3b2-aded-4c40-b6fe-a073bd1b811b"
      },
      "execution_count": null,
      "outputs": [
        {
          "output_type": "execute_result",
          "data": {
            "text/plain": [
              "array([1, 5, 7])"
            ]
          },
          "metadata": {},
          "execution_count": 26
        }
      ]
    },
    {
      "cell_type": "code",
      "source": [
        "#29 How to replace missing spaces in a string with the least frequent character?\n",
        "# Input\n",
        "my_str = 'dbc deb abed gade'\n",
        "\n",
        "# Solution\n",
        "ser = pd.Series(list('dbc deb abed gade'))\n",
        "freq = ser.value_counts()\n",
        "print(freq)\n",
        "least_freq = freq.dropna().index[-1]\n",
        "res = \"\".join(ser.replace(' ', least_freq))\n",
        "res"
      ],
      "metadata": {
        "colab": {
          "base_uri": "https://localhost:8080/",
          "height": 173
        },
        "id": "birE6IJQbXFD",
        "outputId": "e188bcb2-f53b-4d40-b2e1-56d8e259ba12"
      },
      "execution_count": null,
      "outputs": [
        {
          "output_type": "stream",
          "name": "stdout",
          "text": [
            "d    4\n",
            "b    3\n",
            "     3\n",
            "e    3\n",
            "a    2\n",
            "c    1\n",
            "g    1\n",
            "dtype: int64\n"
          ]
        },
        {
          "output_type": "execute_result",
          "data": {
            "application/vnd.google.colaboratory.intrinsic+json": {
              "type": "string"
            },
            "text/plain": [
              "'dbcgdebgabedggade'"
            ]
          },
          "metadata": {},
          "execution_count": 27
        }
      ]
    },
    {
      "cell_type": "code",
      "source": [
        "#30. How to create a TimeSeries starting ‘2000-01-01’ and 10 weekends (saturdays) after that having random numbers as values?\n",
        "# Solution\n",
        "ser = pd.Series(np.random.randint(1,10,10), pd.date_range('2000-01-01', periods=10, freq='W-SAT'))\n",
        "ser"
      ],
      "metadata": {
        "colab": {
          "base_uri": "https://localhost:8080/"
        },
        "id": "FsDpSsC1cxtF",
        "outputId": "35d611f2-057f-41cd-b978-64cbb9695f4e"
      },
      "execution_count": null,
      "outputs": [
        {
          "output_type": "execute_result",
          "data": {
            "text/plain": [
              "2000-01-01    7\n",
              "2000-01-08    6\n",
              "2000-01-15    7\n",
              "2000-01-22    8\n",
              "2000-01-29    4\n",
              "2000-02-05    3\n",
              "2000-02-12    1\n",
              "2000-02-19    1\n",
              "2000-02-26    7\n",
              "2000-03-04    6\n",
              "Freq: W-SAT, dtype: int64"
            ]
          },
          "metadata": {},
          "execution_count": 28
        }
      ]
    },
    {
      "cell_type": "code",
      "source": [
        "#31. How to fill an intermittent time series so all missing dates show up with values of previous non-missing date?\n",
        "# Input\n",
        "ser = pd.Series([1,10,3, np.nan], index=pd.to_datetime(['2000-01-01', '2000-01-03', '2000-01-06', '2000-01-08']))\n",
        "\n",
        "# Solution\n",
        "ser.resample('D').ffill()  # fill with previous value\n",
        "\n",
        "# Alternatives\n",
        "ser.resample('D').bfill()  # fill with next value\n",
        "ser.resample('D').bfill().ffill()  # fill next else prev value"
      ],
      "metadata": {
        "colab": {
          "base_uri": "https://localhost:8080/"
        },
        "id": "gamq5hEndSL3",
        "outputId": "eb22f59b-0a15-4dd4-83dd-41617c833792"
      },
      "execution_count": null,
      "outputs": [
        {
          "output_type": "execute_result",
          "data": {
            "text/plain": [
              "2000-01-01     1.0\n",
              "2000-01-02    10.0\n",
              "2000-01-03    10.0\n",
              "2000-01-04     3.0\n",
              "2000-01-05     3.0\n",
              "2000-01-06     3.0\n",
              "2000-01-07     3.0\n",
              "2000-01-08     3.0\n",
              "Freq: D, dtype: float64"
            ]
          },
          "metadata": {},
          "execution_count": 29
        }
      ]
    },
    {
      "cell_type": "code",
      "source": [
        "#32. How to compute the autocorrelations of a numeric series?\n",
        "# Input\n",
        "ser = pd.Series(np.arange(20) + np.random.normal(1, 10, 20))\n",
        "print(ser)\n",
        "# Solution\n",
        "autocorrelations = [ser.autocorr(i).round(2) for i in range(11)]\n",
        "print(autocorrelations[1:])\n",
        "print('Lag having highest correlation: ', np.argmax(np.abs(autocorrelations[1:]))+1)"
      ],
      "metadata": {
        "colab": {
          "base_uri": "https://localhost:8080/"
        },
        "id": "fGgw67M5dtA9",
        "outputId": "88d74b86-764c-41f4-95ed-10b307f61cdc"
      },
      "execution_count": null,
      "outputs": [
        {
          "output_type": "stream",
          "name": "stdout",
          "text": [
            "0     -1.916373\n",
            "1      0.397661\n",
            "2     -2.230446\n",
            "3     29.490942\n",
            "4      3.411988\n",
            "5     13.644542\n",
            "6     12.080996\n",
            "7     21.901739\n",
            "8      6.730772\n",
            "9     19.495241\n",
            "10    -4.770292\n",
            "11    23.528087\n",
            "12    32.587260\n",
            "13    22.926126\n",
            "14     3.840161\n",
            "15    19.902577\n",
            "16    41.982091\n",
            "17    18.479277\n",
            "18    12.308592\n",
            "19    37.984899\n",
            "dtype: float64\n",
            "[0.02, -0.05, 0.13, 0.65, -0.06, 0.12, 0.0, 0.4, 0.19, 0.34]\n",
            "Lag having highest correlation:  4\n"
          ]
        }
      ]
    },
    {
      "cell_type": "code",
      "source": [
        "#33. How to import only every nth row from a csv file to create a dataframe?\n",
        "# Solution 1: Use chunks and for-loop\n",
        "df = pd.read_csv('https://raw.githubusercontent.com/selva86/datasets/master/BostonHousing.csv', chunksize=50)\n",
        "df2 = pd.DataFrame()\n",
        "for chunk in df:\n",
        "    df2 = df2.append(chunk.iloc[0,:])\n",
        "\n",
        "\n",
        "# Solution 2: Use chunks and list comprehension\n",
        "df = pd.read_csv('https://raw.githubusercontent.com/selva86/datasets/master/BostonHousing.csv', chunksize=50)\n",
        "df2 = pd.concat([chunk.iloc[0] for chunk in df], axis=1)\n",
        "df2 = df2.transpose()\n",
        "'''\n",
        "# Solution 3: Use csv reader\n",
        "import csv          \n",
        "with open('BostonHousing.csv', 'r') as f:\n",
        "    reader = csv.reader(f)\n",
        "    out = []\n",
        "    for i, row in enumerate(reader):\n",
        "        if i%50 == 0:\n",
        "            out.append(row)\n",
        "df2 = pd.DataFrame(out[1:], columns=out[0])\n",
        "'''\n",
        "\n",
        "print(df2.head())"
      ],
      "metadata": {
        "colab": {
          "base_uri": "https://localhost:8080/"
        },
        "id": "PnSrzXvxMYgO",
        "outputId": "c5e20bd5-c5c2-421b-9f3c-b54b2de4a35f"
      },
      "execution_count": null,
      "outputs": [
        {
          "output_type": "stream",
          "name": "stdout",
          "text": [
            "        crim    zn  indus  chas    nox     rm   age     dis  rad    tax  \\\n",
            "0    0.00632  18.0   2.31   0.0  0.538  6.575  65.2  4.0900  1.0  296.0   \n",
            "50   0.08873  21.0   5.64   0.0  0.439  5.963  45.7  6.8147  4.0  243.0   \n",
            "100  0.14866   0.0   8.56   0.0  0.520  6.727  79.9  2.7778  5.0  384.0   \n",
            "150  1.65660   0.0  19.58   0.0  0.871  6.122  97.3  1.6180  5.0  403.0   \n",
            "200  0.01778  95.0   1.47   0.0  0.403  7.135  13.9  7.6534  3.0  402.0   \n",
            "\n",
            "     ptratio       b  lstat  medv  \n",
            "0       15.3  396.90   4.98  24.0  \n",
            "50      16.8  395.56  13.45  19.7  \n",
            "100     20.9  394.76   9.42  27.5  \n",
            "150     14.7  372.80  14.10  21.5  \n",
            "200     17.0  384.30   4.45  32.9  \n"
          ]
        }
      ]
    },
    {
      "cell_type": "code",
      "source": [
        "#34. How to change column values when importing csv to a dataframe?\n",
        "# Solution 1: Using converter parameter\n",
        "df = pd.read_csv('https://raw.githubusercontent.com/selva86/datasets/master/BostonHousing.csv', \n",
        "                 converters={'medv': lambda x: 'High' if float(x) > 25 else 'Low'})\n",
        "\n",
        "\n",
        "'''# Solution 2: Using csv reader\n",
        "import csv\n",
        "with open('BostonHousing.csv', 'r') as f:\n",
        "    reader = csv.reader(f)\n",
        "    out = []\n",
        "    for i, row in enumerate(reader):\n",
        "        if i > 0:\n",
        "            row[13] = 'High' if float(row[13]) > 25 else 'Low'\n",
        "        out.append(row)\n",
        "\n",
        "df = pd.DataFrame(out[1:], columns=out[0])'''\n",
        "print(df.head())"
      ],
      "metadata": {
        "colab": {
          "base_uri": "https://localhost:8080/"
        },
        "id": "GNhJ941lMy5R",
        "outputId": "3d36342e-33b6-4196-e6cb-e7b9caa5b7d7"
      },
      "execution_count": null,
      "outputs": [
        {
          "output_type": "stream",
          "name": "stdout",
          "text": [
            "      crim    zn  indus  chas    nox     rm   age     dis  rad  tax  ptratio  \\\n",
            "0  0.00632  18.0   2.31     0  0.538  6.575  65.2  4.0900    1  296     15.3   \n",
            "1  0.02731   0.0   7.07     0  0.469  6.421  78.9  4.9671    2  242     17.8   \n",
            "2  0.02729   0.0   7.07     0  0.469  7.185  61.1  4.9671    2  242     17.8   \n",
            "3  0.03237   0.0   2.18     0  0.458  6.998  45.8  6.0622    3  222     18.7   \n",
            "4  0.06905   0.0   2.18     0  0.458  7.147  54.2  6.0622    3  222     18.7   \n",
            "\n",
            "        b  lstat  medv  \n",
            "0  396.90   4.98   Low  \n",
            "1  396.90   9.14   Low  \n",
            "2  392.83   4.03  High  \n",
            "3  394.63   2.94  High  \n",
            "4  396.90   5.33  High  \n"
          ]
        }
      ]
    },
    {
      "cell_type": "code",
      "source": [
        "#35. How to create a dataframe with rows as strides from a given series?\n",
        "L = pd.Series(range(15))\n",
        "\n",
        "def gen_strides(a, stride_len=5, window_len=5):\n",
        "    n_strides = ((a.size-window_len)//stride_len) + 1\n",
        "    return np.array([a[s:(s+window_len)] for s in np.arange(0, a.size, stride_len)[:n_strides]])\n",
        "\n",
        "gen_strides(L, stride_len=2, window_len=4)"
      ],
      "metadata": {
        "colab": {
          "base_uri": "https://localhost:8080/"
        },
        "id": "TJ4eG32UNE9N",
        "outputId": "71253fc7-a430-4850-aca2-7653817ab2da"
      },
      "execution_count": null,
      "outputs": [
        {
          "output_type": "execute_result",
          "data": {
            "text/plain": [
              "array([[ 0,  1,  2,  3],\n",
              "       [ 2,  3,  4,  5],\n",
              "       [ 4,  5,  6,  7],\n",
              "       [ 6,  7,  8,  9],\n",
              "       [ 8,  9, 10, 11],\n",
              "       [10, 11, 12, 13]])"
            ]
          },
          "metadata": {},
          "execution_count": 37
        }
      ]
    },
    {
      "cell_type": "code",
      "source": [
        "#36. How to import only specified columns from a csv file?\n",
        "df2 = pd.read_csv('https://raw.githubusercontent.com/selva86/datasets/master/BostonHousing.csv', usecols=['crim', 'medv'])\n",
        "print(df2.head())"
      ],
      "metadata": {
        "colab": {
          "base_uri": "https://localhost:8080/"
        },
        "id": "_g094Mj8NPzQ",
        "outputId": "90893ce2-63e4-4ebc-b46b-6c38e4d40fd6"
      },
      "execution_count": null,
      "outputs": [
        {
          "output_type": "stream",
          "name": "stdout",
          "text": [
            "      crim  medv\n",
            "0  0.00632  24.0\n",
            "1  0.02731  21.6\n",
            "2  0.02729  34.7\n",
            "3  0.03237  33.4\n",
            "4  0.06905  36.2\n"
          ]
        }
      ]
    },
    {
      "cell_type": "code",
      "source": [
        "#37. How to get the nrows, ncolumns, datatype, summary stats of each column of a dataframe? Also get the array and list equivalent.\n",
        "df = pd.read_csv('https://raw.githubusercontent.com/selva86/datasets/master/Cars93_miss.csv')\n",
        "\n",
        "#  number of rows and columns\n",
        "print(df.shape)\n",
        "\n",
        "# datatypes\n",
        "print(df.dtypes)\n",
        "\n",
        "# how many columns under each dtype\n",
        "print(df.dtypes.value_counts())\n",
        "print(df.dtypes.value_counts())\n",
        "\n",
        "# summary statistics\n",
        "df_stats = df.describe()\n",
        "\n",
        "# numpy array \n",
        "df_arr = df.values\n",
        "\n",
        "# list\n",
        "df_list = df.values.tolist()"
      ],
      "metadata": {
        "colab": {
          "base_uri": "https://localhost:8080/"
        },
        "id": "WY6bFm34NYTL",
        "outputId": "d6b2c0af-dde7-4fa6-d56a-df7a3a5dae61"
      },
      "execution_count": null,
      "outputs": [
        {
          "output_type": "stream",
          "name": "stdout",
          "text": [
            "(93, 27)\n",
            "Manufacturer           object\n",
            "Model                  object\n",
            "Type                   object\n",
            "Min.Price             float64\n",
            "Price                 float64\n",
            "Max.Price             float64\n",
            "MPG.city              float64\n",
            "MPG.highway           float64\n",
            "AirBags                object\n",
            "DriveTrain             object\n",
            "Cylinders              object\n",
            "EngineSize            float64\n",
            "Horsepower            float64\n",
            "RPM                   float64\n",
            "Rev.per.mile          float64\n",
            "Man.trans.avail        object\n",
            "Fuel.tank.capacity    float64\n",
            "Passengers            float64\n",
            "Length                float64\n",
            "Wheelbase             float64\n",
            "Width                 float64\n",
            "Turn.circle           float64\n",
            "Rear.seat.room        float64\n",
            "Luggage.room          float64\n",
            "Weight                float64\n",
            "Origin                 object\n",
            "Make                   object\n",
            "dtype: object\n",
            "float64    18\n",
            "object      9\n",
            "dtype: int64\n",
            "float64    18\n",
            "object      9\n",
            "dtype: int64\n"
          ]
        }
      ]
    },
    {
      "cell_type": "code",
      "source": [
        "#38. How to extract the row and column number of a particular cell with given criterion?\n",
        "# Input\n",
        "df = pd.read_csv('https://raw.githubusercontent.com/selva86/datasets/master/Cars93_miss.csv')\n",
        "\n",
        "# Solution\n",
        "# Get Manufacturer with highest price\n",
        "df.loc[df.Price == np.max(df.Price), ['Manufacturer', 'Model', 'Type']]\n",
        "\n",
        "# Get Row and Column number\n",
        "row, col = np.where(df.values == np.max(df.Price))\n",
        "\n",
        "# Get the value\n",
        "df.iat[row[0], col[0]]\n",
        "df.iloc[row[0], col[0]]\n",
        "\n",
        "# Alternates\n",
        "df.at[row[0], 'Price']\n",
        "df._get_value(row[0], 'Price')\n",
        "\n",
        "\n",
        "\n",
        "# The difference between `iat` - `iloc` vs `at` - `loc` is:\n",
        "# `iat` snd `iloc` accepts row and column numbers. \n",
        "# Whereas `at` and `loc` accepts index and column names.\n"
      ],
      "metadata": {
        "colab": {
          "base_uri": "https://localhost:8080/"
        },
        "id": "Z-3yIolhNv7C",
        "outputId": "57d6bece-49df-4d29-dd60-ebce351097e4"
      },
      "execution_count": null,
      "outputs": [
        {
          "output_type": "execute_result",
          "data": {
            "text/plain": [
              "61.9"
            ]
          },
          "metadata": {},
          "execution_count": 47
        }
      ]
    },
    {
      "cell_type": "code",
      "source": [
        "#39. How to rename a specific columns in a dataframe?\n",
        "# Input\n",
        "df = pd.read_csv('https://raw.githubusercontent.com/selva86/datasets/master/Cars93_miss.csv')\n",
        "\n",
        "# Solution\n",
        "# Step 1:\n",
        "df=df.rename(columns = {'Type':'CarType'})\n",
        "# or\n",
        "df.columns.values[2] = \"CarType\"\n",
        "\n",
        "# Step 2:\n",
        "df.columns = df.columns.map(lambda x: x.replace('.', '_'))\n",
        "print(df.columns)"
      ],
      "metadata": {
        "colab": {
          "base_uri": "https://localhost:8080/"
        },
        "id": "hQOn9-yTOBcg",
        "outputId": "a302066d-61d0-410f-df0e-e31057c12a94"
      },
      "execution_count": null,
      "outputs": [
        {
          "output_type": "stream",
          "name": "stdout",
          "text": [
            "Index(['Manufacturer', 'Model', 'CarType', 'Min_Price', 'Price', 'Max_Price',\n",
            "       'MPG_city', 'MPG_highway', 'AirBags', 'DriveTrain', 'Cylinders',\n",
            "       'EngineSize', 'Horsepower', 'RPM', 'Rev_per_mile', 'Man_trans_avail',\n",
            "       'Fuel_tank_capacity', 'Passengers', 'Length', 'Wheelbase', 'Width',\n",
            "       'Turn_circle', 'Rear_seat_room', 'Luggage_room', 'Weight', 'Origin',\n",
            "       'Make'],\n",
            "      dtype='object')\n"
          ]
        }
      ]
    },
    {
      "cell_type": "code",
      "source": [
        "#40. How to check if a dataframe has any missing values?\n",
        "\n",
        "# Input\n",
        "df = pd.read_csv('https://raw.githubusercontent.com/selva86/datasets/master/Cars93_miss.csv')\n",
        "\n",
        "# Solution\n",
        "df.isnull().values.any()"
      ],
      "metadata": {
        "colab": {
          "base_uri": "https://localhost:8080/"
        },
        "id": "ZPYLHAsYOiFj",
        "outputId": "9fa31b9e-79a3-403e-ba12-7ef2f799cfd9"
      },
      "execution_count": null,
      "outputs": [
        {
          "output_type": "execute_result",
          "data": {
            "text/plain": [
              "True"
            ]
          },
          "metadata": {},
          "execution_count": 49
        }
      ]
    },
    {
      "cell_type": "code",
      "source": [
        "#41. How to count the number of missing values in each column?\n",
        "# Input\n",
        "df = pd.read_csv('https://raw.githubusercontent.com/selva86/datasets/master/Cars93_miss.csv')\n",
        "# Solution\n",
        "n_missings_each_col = df.apply(lambda x: x.isnull().sum())\n",
        "n_missings_each_col.argmax()"
      ],
      "metadata": {
        "colab": {
          "base_uri": "https://localhost:8080/"
        },
        "id": "F1AJ49NWOrgz",
        "outputId": "8e779e51-01b5-4a60-e002-16af8fd53143"
      },
      "execution_count": null,
      "outputs": [
        {
          "output_type": "execute_result",
          "data": {
            "text/plain": [
              "23"
            ]
          },
          "metadata": {},
          "execution_count": 54
        }
      ]
    },
    {
      "cell_type": "code",
      "source": [
        "#42. How to replace missing values of multiple numeric columns with the mean?\n",
        "# Input\n",
        "df = pd.read_csv('https://raw.githubusercontent.com/selva86/datasets/master/Cars93_miss.csv')\n",
        "\n",
        "# Solution\n",
        "df_out = df[['Min.Price', 'Max.Price']] = df[['Min.Price', 'Max.Price']].apply(lambda x: x.fillna(x.mean()))\n",
        "print(df_out.head())"
      ],
      "metadata": {
        "colab": {
          "base_uri": "https://localhost:8080/"
        },
        "id": "NmZVH19YOvra",
        "outputId": "cc1680d6-5ac5-4ef7-ed5a-326c4ee3a01a"
      },
      "execution_count": null,
      "outputs": [
        {
          "output_type": "stream",
          "name": "stdout",
          "text": [
            "   Min.Price  Max.Price\n",
            "0  12.900000  18.800000\n",
            "1  29.200000  38.700000\n",
            "2  25.900000  32.300000\n",
            "3  17.118605  44.600000\n",
            "4  17.118605  21.459091\n"
          ]
        }
      ]
    },
    {
      "cell_type": "code",
      "source": [
        "#43. How to use apply function on existing columns with global variables as additional arguments?\n",
        "# Input\n",
        "df = pd.read_csv('https://raw.githubusercontent.com/selva86/datasets/master/Cars93_miss.csv')\n",
        "\n",
        "# Solution\n",
        "d = {'Min.Price': np.nanmean, 'Max.Price': np.nanmedian}\n",
        "df[['Min.Price', 'Max.Price']] = df[['Min.Price', 'Max.Price']].apply(lambda x, d: x.fillna(d[x.name](x)), args=(d, ))\n",
        "df[['Min.Price', 'Max.Price']]"
      ],
      "metadata": {
        "colab": {
          "base_uri": "https://localhost:8080/",
          "height": 424
        },
        "id": "KyVYZZfKPHBV",
        "outputId": "f1a16c33-4ca8-4076-d4e8-be150252025d"
      },
      "execution_count": null,
      "outputs": [
        {
          "output_type": "execute_result",
          "data": {
            "text/html": [
              "\n",
              "  <div id=\"df-a9e3bba0-3219-4196-8641-e1768c3a54fb\">\n",
              "    <div class=\"colab-df-container\">\n",
              "      <div>\n",
              "<style scoped>\n",
              "    .dataframe tbody tr th:only-of-type {\n",
              "        vertical-align: middle;\n",
              "    }\n",
              "\n",
              "    .dataframe tbody tr th {\n",
              "        vertical-align: top;\n",
              "    }\n",
              "\n",
              "    .dataframe thead th {\n",
              "        text-align: right;\n",
              "    }\n",
              "</style>\n",
              "<table border=\"1\" class=\"dataframe\">\n",
              "  <thead>\n",
              "    <tr style=\"text-align: right;\">\n",
              "      <th></th>\n",
              "      <th>Min.Price</th>\n",
              "      <th>Max.Price</th>\n",
              "    </tr>\n",
              "  </thead>\n",
              "  <tbody>\n",
              "    <tr>\n",
              "      <th>0</th>\n",
              "      <td>12.900000</td>\n",
              "      <td>18.80</td>\n",
              "    </tr>\n",
              "    <tr>\n",
              "      <th>1</th>\n",
              "      <td>29.200000</td>\n",
              "      <td>38.70</td>\n",
              "    </tr>\n",
              "    <tr>\n",
              "      <th>2</th>\n",
              "      <td>25.900000</td>\n",
              "      <td>32.30</td>\n",
              "    </tr>\n",
              "    <tr>\n",
              "      <th>3</th>\n",
              "      <td>17.118605</td>\n",
              "      <td>44.60</td>\n",
              "    </tr>\n",
              "    <tr>\n",
              "      <th>4</th>\n",
              "      <td>17.118605</td>\n",
              "      <td>19.15</td>\n",
              "    </tr>\n",
              "    <tr>\n",
              "      <th>...</th>\n",
              "      <td>...</td>\n",
              "      <td>...</td>\n",
              "    </tr>\n",
              "    <tr>\n",
              "      <th>88</th>\n",
              "      <td>16.600000</td>\n",
              "      <td>22.70</td>\n",
              "    </tr>\n",
              "    <tr>\n",
              "      <th>89</th>\n",
              "      <td>17.600000</td>\n",
              "      <td>22.40</td>\n",
              "    </tr>\n",
              "    <tr>\n",
              "      <th>90</th>\n",
              "      <td>22.900000</td>\n",
              "      <td>23.70</td>\n",
              "    </tr>\n",
              "    <tr>\n",
              "      <th>91</th>\n",
              "      <td>21.800000</td>\n",
              "      <td>23.50</td>\n",
              "    </tr>\n",
              "    <tr>\n",
              "      <th>92</th>\n",
              "      <td>24.800000</td>\n",
              "      <td>28.50</td>\n",
              "    </tr>\n",
              "  </tbody>\n",
              "</table>\n",
              "<p>93 rows × 2 columns</p>\n",
              "</div>\n",
              "      <button class=\"colab-df-convert\" onclick=\"convertToInteractive('df-a9e3bba0-3219-4196-8641-e1768c3a54fb')\"\n",
              "              title=\"Convert this dataframe to an interactive table.\"\n",
              "              style=\"display:none;\">\n",
              "        \n",
              "  <svg xmlns=\"http://www.w3.org/2000/svg\" height=\"24px\"viewBox=\"0 0 24 24\"\n",
              "       width=\"24px\">\n",
              "    <path d=\"M0 0h24v24H0V0z\" fill=\"none\"/>\n",
              "    <path d=\"M18.56 5.44l.94 2.06.94-2.06 2.06-.94-2.06-.94-.94-2.06-.94 2.06-2.06.94zm-11 1L8.5 8.5l.94-2.06 2.06-.94-2.06-.94L8.5 2.5l-.94 2.06-2.06.94zm10 10l.94 2.06.94-2.06 2.06-.94-2.06-.94-.94-2.06-.94 2.06-2.06.94z\"/><path d=\"M17.41 7.96l-1.37-1.37c-.4-.4-.92-.59-1.43-.59-.52 0-1.04.2-1.43.59L10.3 9.45l-7.72 7.72c-.78.78-.78 2.05 0 2.83L4 21.41c.39.39.9.59 1.41.59.51 0 1.02-.2 1.41-.59l7.78-7.78 2.81-2.81c.8-.78.8-2.07 0-2.86zM5.41 20L4 18.59l7.72-7.72 1.47 1.35L5.41 20z\"/>\n",
              "  </svg>\n",
              "      </button>\n",
              "      \n",
              "  <style>\n",
              "    .colab-df-container {\n",
              "      display:flex;\n",
              "      flex-wrap:wrap;\n",
              "      gap: 12px;\n",
              "    }\n",
              "\n",
              "    .colab-df-convert {\n",
              "      background-color: #E8F0FE;\n",
              "      border: none;\n",
              "      border-radius: 50%;\n",
              "      cursor: pointer;\n",
              "      display: none;\n",
              "      fill: #1967D2;\n",
              "      height: 32px;\n",
              "      padding: 0 0 0 0;\n",
              "      width: 32px;\n",
              "    }\n",
              "\n",
              "    .colab-df-convert:hover {\n",
              "      background-color: #E2EBFA;\n",
              "      box-shadow: 0px 1px 2px rgba(60, 64, 67, 0.3), 0px 1px 3px 1px rgba(60, 64, 67, 0.15);\n",
              "      fill: #174EA6;\n",
              "    }\n",
              "\n",
              "    [theme=dark] .colab-df-convert {\n",
              "      background-color: #3B4455;\n",
              "      fill: #D2E3FC;\n",
              "    }\n",
              "\n",
              "    [theme=dark] .colab-df-convert:hover {\n",
              "      background-color: #434B5C;\n",
              "      box-shadow: 0px 1px 3px 1px rgba(0, 0, 0, 0.15);\n",
              "      filter: drop-shadow(0px 1px 2px rgba(0, 0, 0, 0.3));\n",
              "      fill: #FFFFFF;\n",
              "    }\n",
              "  </style>\n",
              "\n",
              "      <script>\n",
              "        const buttonEl =\n",
              "          document.querySelector('#df-a9e3bba0-3219-4196-8641-e1768c3a54fb button.colab-df-convert');\n",
              "        buttonEl.style.display =\n",
              "          google.colab.kernel.accessAllowed ? 'block' : 'none';\n",
              "\n",
              "        async function convertToInteractive(key) {\n",
              "          const element = document.querySelector('#df-a9e3bba0-3219-4196-8641-e1768c3a54fb');\n",
              "          const dataTable =\n",
              "            await google.colab.kernel.invokeFunction('convertToInteractive',\n",
              "                                                     [key], {});\n",
              "          if (!dataTable) return;\n",
              "\n",
              "          const docLinkHtml = 'Like what you see? Visit the ' +\n",
              "            '<a target=\"_blank\" href=https://colab.research.google.com/notebooks/data_table.ipynb>data table notebook</a>'\n",
              "            + ' to learn more about interactive tables.';\n",
              "          element.innerHTML = '';\n",
              "          dataTable['output_type'] = 'display_data';\n",
              "          await google.colab.output.renderOutput(dataTable, element);\n",
              "          const docLink = document.createElement('div');\n",
              "          docLink.innerHTML = docLinkHtml;\n",
              "          element.appendChild(docLink);\n",
              "        }\n",
              "      </script>\n",
              "    </div>\n",
              "  </div>\n",
              "  "
            ],
            "text/plain": [
              "    Min.Price  Max.Price\n",
              "0   12.900000      18.80\n",
              "1   29.200000      38.70\n",
              "2   25.900000      32.30\n",
              "3   17.118605      44.60\n",
              "4   17.118605      19.15\n",
              "..        ...        ...\n",
              "88  16.600000      22.70\n",
              "89  17.600000      22.40\n",
              "90  22.900000      23.70\n",
              "91  21.800000      23.50\n",
              "92  24.800000      28.50\n",
              "\n",
              "[93 rows x 2 columns]"
            ]
          },
          "metadata": {},
          "execution_count": 57
        }
      ]
    },
    {
      "cell_type": "code",
      "source": [
        "#44. How to select a specific column from a dataframe as a dataframe instead of a series?\n",
        "# Input\n",
        "df = pd.DataFrame(np.arange(20).reshape(-1, 5), columns=list('abcde'))\n",
        "\n",
        "# Solution\n",
        "type(df[['a']])\n",
        "type(df.loc[:, ['a']])\n",
        "type(df.iloc[:, [0]])\n",
        "\n",
        "# Alternately the following returns a Series\n",
        "type(df.a)\n",
        "type(df['a'])\n",
        "type(df.loc[:, 'a'])\n",
        "type(df.iloc[:, 1])"
      ],
      "metadata": {
        "colab": {
          "base_uri": "https://localhost:8080/"
        },
        "id": "fRgbGskUPLq2",
        "outputId": "3e6a1d63-7f8c-4bbb-aaf8-f93a04ba1102"
      },
      "execution_count": null,
      "outputs": [
        {
          "output_type": "execute_result",
          "data": {
            "text/plain": [
              "pandas.core.series.Series"
            ]
          },
          "metadata": {},
          "execution_count": 65
        }
      ]
    },
    {
      "cell_type": "code",
      "source": [
        "#45. How to change the order of columns of a dataframe?\n",
        "# Input\n",
        "df = pd.DataFrame(np.arange(20).reshape(-1, 5), columns=list('abcde'))\n",
        "\n",
        "# Solution Q1\n",
        "df[list('cbade')]\n",
        "\n",
        "# Solution Q2 - No hard coding\n",
        "def switch_columns(df, col1=None, col2=None):\n",
        "    colnames = df.columns.tolist()\n",
        "    i1, i2 = colnames.index(col1), colnames.index(col2)\n",
        "    colnames[i2], colnames[i1] = colnames[i1], colnames[i2]\n",
        "    return df[colnames]\n",
        "\n",
        "df1 = switch_columns(df, 'a', 'c')\n",
        "\n",
        "# Solution Q3\n",
        "df[sorted(df.columns)]\n",
        "# or\n",
        "df.sort_index(axis=1, ascending=False, inplace=True)"
      ],
      "metadata": {
        "id": "qP6bY7svQtmu"
      },
      "execution_count": null,
      "outputs": []
    },
    {
      "cell_type": "code",
      "source": [
        "#46. How to set the number of rows and columns displayed in the output?\n",
        "# Input\n",
        "df = pd.read_csv('https://raw.githubusercontent.com/selva86/datasets/master/Cars93_miss.csv')\n",
        "\n",
        "# Solution\n",
        "pd.set_option('display.max_columns', 10)\n",
        "pd.set_option('display.max_rows', 10)\n",
        "df\n"
      ],
      "metadata": {
        "colab": {
          "base_uri": "https://localhost:8080/",
          "height": 424
        },
        "id": "WPOTteu4Q_4N",
        "outputId": "6893d93c-306d-4751-d6d7-4599624486bb"
      },
      "execution_count": null,
      "outputs": [
        {
          "output_type": "execute_result",
          "data": {
            "text/html": [
              "\n",
              "  <div id=\"df-0b7a98ad-bbff-4000-b7c9-7e2eb48142eb\">\n",
              "    <div class=\"colab-df-container\">\n",
              "      <div>\n",
              "<style scoped>\n",
              "    .dataframe tbody tr th:only-of-type {\n",
              "        vertical-align: middle;\n",
              "    }\n",
              "\n",
              "    .dataframe tbody tr th {\n",
              "        vertical-align: top;\n",
              "    }\n",
              "\n",
              "    .dataframe thead th {\n",
              "        text-align: right;\n",
              "    }\n",
              "</style>\n",
              "<table border=\"1\" class=\"dataframe\">\n",
              "  <thead>\n",
              "    <tr style=\"text-align: right;\">\n",
              "      <th></th>\n",
              "      <th>Manufacturer</th>\n",
              "      <th>Model</th>\n",
              "      <th>Type</th>\n",
              "      <th>Min.Price</th>\n",
              "      <th>Price</th>\n",
              "      <th>...</th>\n",
              "      <th>Rear.seat.room</th>\n",
              "      <th>Luggage.room</th>\n",
              "      <th>Weight</th>\n",
              "      <th>Origin</th>\n",
              "      <th>Make</th>\n",
              "    </tr>\n",
              "  </thead>\n",
              "  <tbody>\n",
              "    <tr>\n",
              "      <th>0</th>\n",
              "      <td>Acura</td>\n",
              "      <td>Integra</td>\n",
              "      <td>Small</td>\n",
              "      <td>12.9</td>\n",
              "      <td>15.9</td>\n",
              "      <td>...</td>\n",
              "      <td>26.5</td>\n",
              "      <td>NaN</td>\n",
              "      <td>2705.0</td>\n",
              "      <td>non-USA</td>\n",
              "      <td>Acura Integra</td>\n",
              "    </tr>\n",
              "    <tr>\n",
              "      <th>1</th>\n",
              "      <td>NaN</td>\n",
              "      <td>Legend</td>\n",
              "      <td>Midsize</td>\n",
              "      <td>29.2</td>\n",
              "      <td>33.9</td>\n",
              "      <td>...</td>\n",
              "      <td>30.0</td>\n",
              "      <td>15.0</td>\n",
              "      <td>3560.0</td>\n",
              "      <td>non-USA</td>\n",
              "      <td>Acura Legend</td>\n",
              "    </tr>\n",
              "    <tr>\n",
              "      <th>2</th>\n",
              "      <td>Audi</td>\n",
              "      <td>90</td>\n",
              "      <td>Compact</td>\n",
              "      <td>25.9</td>\n",
              "      <td>29.1</td>\n",
              "      <td>...</td>\n",
              "      <td>28.0</td>\n",
              "      <td>14.0</td>\n",
              "      <td>3375.0</td>\n",
              "      <td>non-USA</td>\n",
              "      <td>Audi 90</td>\n",
              "    </tr>\n",
              "    <tr>\n",
              "      <th>3</th>\n",
              "      <td>Audi</td>\n",
              "      <td>100</td>\n",
              "      <td>Midsize</td>\n",
              "      <td>NaN</td>\n",
              "      <td>37.7</td>\n",
              "      <td>...</td>\n",
              "      <td>31.0</td>\n",
              "      <td>17.0</td>\n",
              "      <td>3405.0</td>\n",
              "      <td>non-USA</td>\n",
              "      <td>Audi 100</td>\n",
              "    </tr>\n",
              "    <tr>\n",
              "      <th>4</th>\n",
              "      <td>BMW</td>\n",
              "      <td>535i</td>\n",
              "      <td>Midsize</td>\n",
              "      <td>NaN</td>\n",
              "      <td>30.0</td>\n",
              "      <td>...</td>\n",
              "      <td>27.0</td>\n",
              "      <td>13.0</td>\n",
              "      <td>3640.0</td>\n",
              "      <td>non-USA</td>\n",
              "      <td>BMW 535i</td>\n",
              "    </tr>\n",
              "    <tr>\n",
              "      <th>...</th>\n",
              "      <td>...</td>\n",
              "      <td>...</td>\n",
              "      <td>...</td>\n",
              "      <td>...</td>\n",
              "      <td>...</td>\n",
              "      <td>...</td>\n",
              "      <td>...</td>\n",
              "      <td>...</td>\n",
              "      <td>...</td>\n",
              "      <td>...</td>\n",
              "      <td>...</td>\n",
              "    </tr>\n",
              "    <tr>\n",
              "      <th>88</th>\n",
              "      <td>Volkswagen</td>\n",
              "      <td>Eurovan</td>\n",
              "      <td>Van</td>\n",
              "      <td>16.6</td>\n",
              "      <td>19.7</td>\n",
              "      <td>...</td>\n",
              "      <td>34.0</td>\n",
              "      <td>NaN</td>\n",
              "      <td>3960.0</td>\n",
              "      <td>NaN</td>\n",
              "      <td>Volkswagen Eurovan</td>\n",
              "    </tr>\n",
              "    <tr>\n",
              "      <th>89</th>\n",
              "      <td>Volkswagen</td>\n",
              "      <td>Passat</td>\n",
              "      <td>Compact</td>\n",
              "      <td>17.6</td>\n",
              "      <td>20.0</td>\n",
              "      <td>...</td>\n",
              "      <td>31.5</td>\n",
              "      <td>14.0</td>\n",
              "      <td>2985.0</td>\n",
              "      <td>non-USA</td>\n",
              "      <td>Volkswagen Passat</td>\n",
              "    </tr>\n",
              "    <tr>\n",
              "      <th>90</th>\n",
              "      <td>Volkswagen</td>\n",
              "      <td>Corrado</td>\n",
              "      <td>Sporty</td>\n",
              "      <td>22.9</td>\n",
              "      <td>23.3</td>\n",
              "      <td>...</td>\n",
              "      <td>26.0</td>\n",
              "      <td>15.0</td>\n",
              "      <td>2810.0</td>\n",
              "      <td>non-USA</td>\n",
              "      <td>Volkswagen Corrado</td>\n",
              "    </tr>\n",
              "    <tr>\n",
              "      <th>91</th>\n",
              "      <td>Volvo</td>\n",
              "      <td>240</td>\n",
              "      <td>Compact</td>\n",
              "      <td>21.8</td>\n",
              "      <td>22.7</td>\n",
              "      <td>...</td>\n",
              "      <td>29.5</td>\n",
              "      <td>14.0</td>\n",
              "      <td>2985.0</td>\n",
              "      <td>non-USA</td>\n",
              "      <td>Volvo 240</td>\n",
              "    </tr>\n",
              "    <tr>\n",
              "      <th>92</th>\n",
              "      <td>NaN</td>\n",
              "      <td>850</td>\n",
              "      <td>Midsize</td>\n",
              "      <td>24.8</td>\n",
              "      <td>26.7</td>\n",
              "      <td>...</td>\n",
              "      <td>30.0</td>\n",
              "      <td>15.0</td>\n",
              "      <td>3245.0</td>\n",
              "      <td>non-USA</td>\n",
              "      <td>Volvo 850</td>\n",
              "    </tr>\n",
              "  </tbody>\n",
              "</table>\n",
              "<p>93 rows × 27 columns</p>\n",
              "</div>\n",
              "      <button class=\"colab-df-convert\" onclick=\"convertToInteractive('df-0b7a98ad-bbff-4000-b7c9-7e2eb48142eb')\"\n",
              "              title=\"Convert this dataframe to an interactive table.\"\n",
              "              style=\"display:none;\">\n",
              "        \n",
              "  <svg xmlns=\"http://www.w3.org/2000/svg\" height=\"24px\"viewBox=\"0 0 24 24\"\n",
              "       width=\"24px\">\n",
              "    <path d=\"M0 0h24v24H0V0z\" fill=\"none\"/>\n",
              "    <path d=\"M18.56 5.44l.94 2.06.94-2.06 2.06-.94-2.06-.94-.94-2.06-.94 2.06-2.06.94zm-11 1L8.5 8.5l.94-2.06 2.06-.94-2.06-.94L8.5 2.5l-.94 2.06-2.06.94zm10 10l.94 2.06.94-2.06 2.06-.94-2.06-.94-.94-2.06-.94 2.06-2.06.94z\"/><path d=\"M17.41 7.96l-1.37-1.37c-.4-.4-.92-.59-1.43-.59-.52 0-1.04.2-1.43.59L10.3 9.45l-7.72 7.72c-.78.78-.78 2.05 0 2.83L4 21.41c.39.39.9.59 1.41.59.51 0 1.02-.2 1.41-.59l7.78-7.78 2.81-2.81c.8-.78.8-2.07 0-2.86zM5.41 20L4 18.59l7.72-7.72 1.47 1.35L5.41 20z\"/>\n",
              "  </svg>\n",
              "      </button>\n",
              "      \n",
              "  <style>\n",
              "    .colab-df-container {\n",
              "      display:flex;\n",
              "      flex-wrap:wrap;\n",
              "      gap: 12px;\n",
              "    }\n",
              "\n",
              "    .colab-df-convert {\n",
              "      background-color: #E8F0FE;\n",
              "      border: none;\n",
              "      border-radius: 50%;\n",
              "      cursor: pointer;\n",
              "      display: none;\n",
              "      fill: #1967D2;\n",
              "      height: 32px;\n",
              "      padding: 0 0 0 0;\n",
              "      width: 32px;\n",
              "    }\n",
              "\n",
              "    .colab-df-convert:hover {\n",
              "      background-color: #E2EBFA;\n",
              "      box-shadow: 0px 1px 2px rgba(60, 64, 67, 0.3), 0px 1px 3px 1px rgba(60, 64, 67, 0.15);\n",
              "      fill: #174EA6;\n",
              "    }\n",
              "\n",
              "    [theme=dark] .colab-df-convert {\n",
              "      background-color: #3B4455;\n",
              "      fill: #D2E3FC;\n",
              "    }\n",
              "\n",
              "    [theme=dark] .colab-df-convert:hover {\n",
              "      background-color: #434B5C;\n",
              "      box-shadow: 0px 1px 3px 1px rgba(0, 0, 0, 0.15);\n",
              "      filter: drop-shadow(0px 1px 2px rgba(0, 0, 0, 0.3));\n",
              "      fill: #FFFFFF;\n",
              "    }\n",
              "  </style>\n",
              "\n",
              "      <script>\n",
              "        const buttonEl =\n",
              "          document.querySelector('#df-0b7a98ad-bbff-4000-b7c9-7e2eb48142eb button.colab-df-convert');\n",
              "        buttonEl.style.display =\n",
              "          google.colab.kernel.accessAllowed ? 'block' : 'none';\n",
              "\n",
              "        async function convertToInteractive(key) {\n",
              "          const element = document.querySelector('#df-0b7a98ad-bbff-4000-b7c9-7e2eb48142eb');\n",
              "          const dataTable =\n",
              "            await google.colab.kernel.invokeFunction('convertToInteractive',\n",
              "                                                     [key], {});\n",
              "          if (!dataTable) return;\n",
              "\n",
              "          const docLinkHtml = 'Like what you see? Visit the ' +\n",
              "            '<a target=\"_blank\" href=https://colab.research.google.com/notebooks/data_table.ipynb>data table notebook</a>'\n",
              "            + ' to learn more about interactive tables.';\n",
              "          element.innerHTML = '';\n",
              "          dataTable['output_type'] = 'display_data';\n",
              "          await google.colab.output.renderOutput(dataTable, element);\n",
              "          const docLink = document.createElement('div');\n",
              "          docLink.innerHTML = docLinkHtml;\n",
              "          element.appendChild(docLink);\n",
              "        }\n",
              "      </script>\n",
              "    </div>\n",
              "  </div>\n",
              "  "
            ],
            "text/plain": [
              "   Manufacturer    Model     Type  Min.Price  Price  ...  Rear.seat.room  \\\n",
              "0         Acura  Integra    Small       12.9   15.9  ...            26.5   \n",
              "1           NaN   Legend  Midsize       29.2   33.9  ...            30.0   \n",
              "2          Audi       90  Compact       25.9   29.1  ...            28.0   \n",
              "3          Audi      100  Midsize        NaN   37.7  ...            31.0   \n",
              "4           BMW     535i  Midsize        NaN   30.0  ...            27.0   \n",
              "..          ...      ...      ...        ...    ...  ...             ...   \n",
              "88   Volkswagen  Eurovan      Van       16.6   19.7  ...            34.0   \n",
              "89   Volkswagen   Passat  Compact       17.6   20.0  ...            31.5   \n",
              "90   Volkswagen  Corrado   Sporty       22.9   23.3  ...            26.0   \n",
              "91        Volvo      240  Compact       21.8   22.7  ...            29.5   \n",
              "92          NaN      850  Midsize       24.8   26.7  ...            30.0   \n",
              "\n",
              "    Luggage.room  Weight   Origin                Make  \n",
              "0            NaN  2705.0  non-USA       Acura Integra  \n",
              "1           15.0  3560.0  non-USA        Acura Legend  \n",
              "2           14.0  3375.0  non-USA             Audi 90  \n",
              "3           17.0  3405.0  non-USA            Audi 100  \n",
              "4           13.0  3640.0  non-USA            BMW 535i  \n",
              "..           ...     ...      ...                 ...  \n",
              "88           NaN  3960.0      NaN  Volkswagen Eurovan  \n",
              "89          14.0  2985.0  non-USA   Volkswagen Passat  \n",
              "90          15.0  2810.0  non-USA  Volkswagen Corrado  \n",
              "91          14.0  2985.0  non-USA           Volvo 240  \n",
              "92          15.0  3245.0  non-USA           Volvo 850  \n",
              "\n",
              "[93 rows x 27 columns]"
            ]
          },
          "metadata": {},
          "execution_count": 86
        }
      ]
    },
    {
      "cell_type": "code",
      "source": [
        "#47. How to format or suppress scientific notations in a pandas dataframe?\n",
        "# Input\n",
        "df = pd.DataFrame(np.random.random(4)**10, columns=['random'])\n",
        "\n",
        "# Solution 1: Rounding\n",
        "df.round(4)\n",
        "\n",
        "# Solution 2: Use apply to change format\n",
        "df.apply(lambda x: '%.4f' % x, axis=1)\n",
        "# or\n",
        "df.applymap(lambda x: '%.4f' % x)\n",
        "\n",
        "# Solution 3: Use set_option\n",
        "pd.set_option('display.float_format', lambda x: '%.4f' % x)\n",
        "\n",
        "# Solution 4: Assign display.float_format\n",
        "pd.options.display.float_format = '{:.4f}'.format\n",
        "print(df)\n",
        "\n",
        "# Reset/undo float formatting\n",
        "pd.options.display.float_format = None"
      ],
      "metadata": {
        "colab": {
          "base_uri": "https://localhost:8080/"
        },
        "id": "UaK5HGD9RjOw",
        "outputId": "bff1c3d8-c5ae-4ee8-d37d-2654ec91ea82"
      },
      "execution_count": null,
      "outputs": [
        {
          "output_type": "stream",
          "name": "stdout",
          "text": [
            "   random\n",
            "0  0.0297\n",
            "1  0.0000\n",
            "2  0.0012\n",
            "3  0.0002\n"
          ]
        }
      ]
    },
    {
      "cell_type": "code",
      "source": [
        "#48. How to format all the values in a dataframe as percentages?\n",
        "# Input\n",
        "df = pd.DataFrame(np.random.random(4), columns=['random'])\n",
        "\n",
        "# Solution\n",
        "out = df.style.format({\n",
        "    'random': '{0:.2%}'.format,\n",
        "})\n",
        "\n",
        "out"
      ],
      "metadata": {
        "colab": {
          "base_uri": "https://localhost:8080/",
          "height": 174
        },
        "id": "8gYrYoYKR8Jd",
        "outputId": "286ed211-7e9a-4a1e-df82-ce2b3ae76ad9"
      },
      "execution_count": null,
      "outputs": [
        {
          "output_type": "execute_result",
          "data": {
            "text/html": [
              "<style type=\"text/css\">\n",
              "</style>\n",
              "<table id=\"T_31b59_\" class=\"dataframe\">\n",
              "  <thead>\n",
              "    <tr>\n",
              "      <th class=\"blank level0\" >&nbsp;</th>\n",
              "      <th class=\"col_heading level0 col0\" >random</th>\n",
              "    </tr>\n",
              "  </thead>\n",
              "  <tbody>\n",
              "    <tr>\n",
              "      <th id=\"T_31b59_level0_row0\" class=\"row_heading level0 row0\" >0</th>\n",
              "      <td id=\"T_31b59_row0_col0\" class=\"data row0 col0\" >48.11%</td>\n",
              "    </tr>\n",
              "    <tr>\n",
              "      <th id=\"T_31b59_level0_row1\" class=\"row_heading level0 row1\" >1</th>\n",
              "      <td id=\"T_31b59_row1_col0\" class=\"data row1 col0\" >42.14%</td>\n",
              "    </tr>\n",
              "    <tr>\n",
              "      <th id=\"T_31b59_level0_row2\" class=\"row_heading level0 row2\" >2</th>\n",
              "      <td id=\"T_31b59_row2_col0\" class=\"data row2 col0\" >42.99%</td>\n",
              "    </tr>\n",
              "    <tr>\n",
              "      <th id=\"T_31b59_level0_row3\" class=\"row_heading level0 row3\" >3</th>\n",
              "      <td id=\"T_31b59_row3_col0\" class=\"data row3 col0\" >85.65%</td>\n",
              "    </tr>\n",
              "  </tbody>\n",
              "</table>\n"
            ],
            "text/plain": [
              "<pandas.io.formats.style.Styler at 0x7ff43240aa50>"
            ]
          },
          "metadata": {},
          "execution_count": 74
        }
      ]
    },
    {
      "cell_type": "code",
      "source": [
        "#49. How to filter every nth row in a dataframe?\n",
        "# Input\n",
        "df = pd.read_csv('https://raw.githubusercontent.com/selva86/datasets/master/Cars93_miss.csv')\n",
        "\n",
        "# Solution\n",
        "print(df.iloc[::20, :][['Manufacturer', 'Model', 'Type']])"
      ],
      "metadata": {
        "colab": {
          "base_uri": "https://localhost:8080/"
        },
        "id": "LUaM_EA2SBN1",
        "outputId": "662900d1-4a63-4907-a927-b45f697149d7"
      },
      "execution_count": null,
      "outputs": [
        {
          "output_type": "stream",
          "name": "stdout",
          "text": [
            "   Manufacturer    Model     Type\n",
            "0         Acura  Integra    Small\n",
            "20     Chrysler  LeBaron  Compact\n",
            "40        Honda  Prelude   Sporty\n",
            "60      Mercury   Cougar  Midsize\n",
            "80       Subaru   Loyale    Small\n"
          ]
        }
      ]
    },
    {
      "cell_type": "code",
      "source": [
        "#50. How to create a primary key index by combining relevant columns?\n",
        "# Input\n",
        "df = pd.read_csv('https://raw.githubusercontent.com/selva86/datasets/master/Cars93_miss.csv', usecols=[0,1,2,3,5])\n",
        "\n",
        "# Solution\n",
        "df[['Manufacturer', 'Model', 'Type']] = df[['Manufacturer', 'Model', 'Type']].fillna('missing')\n",
        "df.index = df.Manufacturer + '_' + df.Model + '_' + df.Type\n",
        "print(df.index.is_unique)"
      ],
      "metadata": {
        "colab": {
          "base_uri": "https://localhost:8080/"
        },
        "id": "vTktrNQBSJeA",
        "outputId": "95bfb5b0-e9b8-4eb5-e563-dbf64984a40d"
      },
      "execution_count": null,
      "outputs": [
        {
          "output_type": "stream",
          "name": "stdout",
          "text": [
            "True\n"
          ]
        }
      ]
    },
    {
      "cell_type": "code",
      "source": [
        "#51. How to get the row number of the nth largest value in a column?\n",
        "# Input\n",
        "df = pd.DataFrame(np.random.randint(1, 30, 30).reshape(10,-1), columns=list('abc'))\n",
        "# Solution\n",
        "n = 5\n",
        "df['a'].argsort()[::-1][n]\n",
        "df.head(10)\n",
        "df['a'].argsort()[::-1][n]\n"
      ],
      "metadata": {
        "colab": {
          "base_uri": "https://localhost:8080/"
        },
        "id": "9-8cR20xSPaH",
        "outputId": "5f24cb99-e57e-4fff-efd4-f3f5aa5b33b6"
      },
      "execution_count": null,
      "outputs": [
        {
          "output_type": "execute_result",
          "data": {
            "text/plain": [
              "1"
            ]
          },
          "metadata": {},
          "execution_count": 88
        }
      ]
    },
    {
      "cell_type": "code",
      "source": [
        "#52. How to find the position of the nth largest value greater than a given value?\n",
        "# Input\n",
        "ser = pd.Series(np.random.randint(1, 100, 15))\n",
        "\n",
        "# Solution\n",
        "#computing row number of nth largest value in column \"b\"\n",
        "result = df['b'].argsort()[::-1][n]\n",
        "\n",
        "print(df)\n",
        "\n",
        "print(\"Row number in b:\", result)"
      ],
      "metadata": {
        "colab": {
          "base_uri": "https://localhost:8080/"
        },
        "id": "6jlCWmZtSWmY",
        "outputId": "c89b138f-2805-40c6-f4ae-c6dfe569836f"
      },
      "execution_count": null,
      "outputs": [
        {
          "output_type": "stream",
          "name": "stdout",
          "text": [
            "    a   b   c\n",
            "0  20  15  26\n",
            "1  22  17  10\n",
            "2   5   7  19\n",
            "3  29  25  22\n",
            "4  20   7   9\n",
            "5  21  29  20\n",
            "6  24  19  10\n",
            "7   3   1   1\n",
            "8  22  20   4\n",
            "9  26   1  15\n",
            "Row number in b: 1\n"
          ]
        }
      ]
    },
    {
      "cell_type": "code",
      "source": [
        "#53. How to get the last n rows of a dataframe with row sum > 100?\n",
        "# Input\n",
        "df = pd.DataFrame(np.random.randint(10, 40, 60).reshape(-1, 4))\n",
        "\n",
        "# Solution\n",
        "# print row sums\n",
        "rowsums = df.apply(np.sum, axis=1)\n",
        "\n",
        "# last two rows with row sum greater than 100\n",
        "last_two_rows = df.iloc[np.where(rowsums > 100)[0][-2:], :]\n",
        "last_two_rows\n"
      ],
      "metadata": {
        "colab": {
          "base_uri": "https://localhost:8080/",
          "height": 112
        },
        "id": "Y4de7CfvTO-C",
        "outputId": "fca56857-c242-4b73-dce1-03b25fb85bb2"
      },
      "execution_count": null,
      "outputs": [
        {
          "output_type": "execute_result",
          "data": {
            "text/html": [
              "\n",
              "  <div id=\"df-2857129b-c015-4fc5-bf4a-c710c83a5206\">\n",
              "    <div class=\"colab-df-container\">\n",
              "      <div>\n",
              "<style scoped>\n",
              "    .dataframe tbody tr th:only-of-type {\n",
              "        vertical-align: middle;\n",
              "    }\n",
              "\n",
              "    .dataframe tbody tr th {\n",
              "        vertical-align: top;\n",
              "    }\n",
              "\n",
              "    .dataframe thead th {\n",
              "        text-align: right;\n",
              "    }\n",
              "</style>\n",
              "<table border=\"1\" class=\"dataframe\">\n",
              "  <thead>\n",
              "    <tr style=\"text-align: right;\">\n",
              "      <th></th>\n",
              "      <th>0</th>\n",
              "      <th>1</th>\n",
              "      <th>2</th>\n",
              "      <th>3</th>\n",
              "    </tr>\n",
              "  </thead>\n",
              "  <tbody>\n",
              "    <tr>\n",
              "      <th>6</th>\n",
              "      <td>14</td>\n",
              "      <td>31</td>\n",
              "      <td>37</td>\n",
              "      <td>37</td>\n",
              "    </tr>\n",
              "    <tr>\n",
              "      <th>9</th>\n",
              "      <td>27</td>\n",
              "      <td>13</td>\n",
              "      <td>33</td>\n",
              "      <td>29</td>\n",
              "    </tr>\n",
              "  </tbody>\n",
              "</table>\n",
              "</div>\n",
              "      <button class=\"colab-df-convert\" onclick=\"convertToInteractive('df-2857129b-c015-4fc5-bf4a-c710c83a5206')\"\n",
              "              title=\"Convert this dataframe to an interactive table.\"\n",
              "              style=\"display:none;\">\n",
              "        \n",
              "  <svg xmlns=\"http://www.w3.org/2000/svg\" height=\"24px\"viewBox=\"0 0 24 24\"\n",
              "       width=\"24px\">\n",
              "    <path d=\"M0 0h24v24H0V0z\" fill=\"none\"/>\n",
              "    <path d=\"M18.56 5.44l.94 2.06.94-2.06 2.06-.94-2.06-.94-.94-2.06-.94 2.06-2.06.94zm-11 1L8.5 8.5l.94-2.06 2.06-.94-2.06-.94L8.5 2.5l-.94 2.06-2.06.94zm10 10l.94 2.06.94-2.06 2.06-.94-2.06-.94-.94-2.06-.94 2.06-2.06.94z\"/><path d=\"M17.41 7.96l-1.37-1.37c-.4-.4-.92-.59-1.43-.59-.52 0-1.04.2-1.43.59L10.3 9.45l-7.72 7.72c-.78.78-.78 2.05 0 2.83L4 21.41c.39.39.9.59 1.41.59.51 0 1.02-.2 1.41-.59l7.78-7.78 2.81-2.81c.8-.78.8-2.07 0-2.86zM5.41 20L4 18.59l7.72-7.72 1.47 1.35L5.41 20z\"/>\n",
              "  </svg>\n",
              "      </button>\n",
              "      \n",
              "  <style>\n",
              "    .colab-df-container {\n",
              "      display:flex;\n",
              "      flex-wrap:wrap;\n",
              "      gap: 12px;\n",
              "    }\n",
              "\n",
              "    .colab-df-convert {\n",
              "      background-color: #E8F0FE;\n",
              "      border: none;\n",
              "      border-radius: 50%;\n",
              "      cursor: pointer;\n",
              "      display: none;\n",
              "      fill: #1967D2;\n",
              "      height: 32px;\n",
              "      padding: 0 0 0 0;\n",
              "      width: 32px;\n",
              "    }\n",
              "\n",
              "    .colab-df-convert:hover {\n",
              "      background-color: #E2EBFA;\n",
              "      box-shadow: 0px 1px 2px rgba(60, 64, 67, 0.3), 0px 1px 3px 1px rgba(60, 64, 67, 0.15);\n",
              "      fill: #174EA6;\n",
              "    }\n",
              "\n",
              "    [theme=dark] .colab-df-convert {\n",
              "      background-color: #3B4455;\n",
              "      fill: #D2E3FC;\n",
              "    }\n",
              "\n",
              "    [theme=dark] .colab-df-convert:hover {\n",
              "      background-color: #434B5C;\n",
              "      box-shadow: 0px 1px 3px 1px rgba(0, 0, 0, 0.15);\n",
              "      filter: drop-shadow(0px 1px 2px rgba(0, 0, 0, 0.3));\n",
              "      fill: #FFFFFF;\n",
              "    }\n",
              "  </style>\n",
              "\n",
              "      <script>\n",
              "        const buttonEl =\n",
              "          document.querySelector('#df-2857129b-c015-4fc5-bf4a-c710c83a5206 button.colab-df-convert');\n",
              "        buttonEl.style.display =\n",
              "          google.colab.kernel.accessAllowed ? 'block' : 'none';\n",
              "\n",
              "        async function convertToInteractive(key) {\n",
              "          const element = document.querySelector('#df-2857129b-c015-4fc5-bf4a-c710c83a5206');\n",
              "          const dataTable =\n",
              "            await google.colab.kernel.invokeFunction('convertToInteractive',\n",
              "                                                     [key], {});\n",
              "          if (!dataTable) return;\n",
              "\n",
              "          const docLinkHtml = 'Like what you see? Visit the ' +\n",
              "            '<a target=\"_blank\" href=https://colab.research.google.com/notebooks/data_table.ipynb>data table notebook</a>'\n",
              "            + ' to learn more about interactive tables.';\n",
              "          element.innerHTML = '';\n",
              "          dataTable['output_type'] = 'display_data';\n",
              "          await google.colab.output.renderOutput(dataTable, element);\n",
              "          const docLink = document.createElement('div');\n",
              "          docLink.innerHTML = docLinkHtml;\n",
              "          element.appendChild(docLink);\n",
              "        }\n",
              "      </script>\n",
              "    </div>\n",
              "  </div>\n",
              "  "
            ],
            "text/plain": [
              "    0   1   2   3\n",
              "6  14  31  37  37\n",
              "9  27  13  33  29"
            ]
          },
          "metadata": {},
          "execution_count": 102
        }
      ]
    },
    {
      "cell_type": "code",
      "source": [
        "#54. How to find and cap outliers from a series or dataframe column?\n",
        "# Input\n",
        "ser = pd.Series(np.logspace(-2, 2, 30))\n",
        "\n",
        "# Solution\n",
        "def cap_outliers(ser, low_perc, high_perc):\n",
        "    low, high = ser.quantile([low_perc, high_perc])\n",
        "    print(low_perc, '%ile: ', low, '|', high_perc, '%ile: ', high)\n",
        "    ser[ser < low] = low\n",
        "    ser[ser > high] = high\n",
        "    return(ser)\n",
        "print(ser.to_list())\n",
        "capped_ser = cap_outliers(ser, .05, .95)"
      ],
      "metadata": {
        "colab": {
          "base_uri": "https://localhost:8080/"
        },
        "id": "m0tAR_RIY-NF",
        "outputId": "5a0655ac-2733-443f-e0aa-c80c08cc49ac"
      },
      "execution_count": null,
      "outputs": [
        {
          "output_type": "stream",
          "name": "stdout",
          "text": [
            "[0.01, 0.01373823795883263, 0.018873918221350976, 0.02592943797404667, 0.035622478902624426, 0.04893900918477494, 0.06723357536499334, 0.09236708571873861, 0.12689610031679222, 0.17433288221999882, 0.2395026619987486, 0.32903445623126676, 0.4520353656360243, 0.6210169418915616, 0.8531678524172805, 1.1721022975334805, 1.6102620275609392, 2.212216291070448, 3.039195382313198, 4.175318936560401, 5.736152510448681, 7.880462815669913, 10.82636733874054, 14.873521072935118, 20.433597178569418, 28.072162039411758, 38.56620421163472, 52.98316906283707, 72.78953843983146, 100.0]\n",
            "0.05 %ile:  0.016049294076965887 | 0.95 %ile:  63.87667222018393\n"
          ]
        }
      ]
    },
    {
      "cell_type": "code",
      "source": [
        "#55. How to reshape a dataframe to the largest possible square after removing the negative values?\n",
        "# Input\n",
        "df = pd.DataFrame(np.random.randint(-20, 50, 100).reshape(10,-1))\n",
        "print(df)\n",
        "\n",
        "# Solution\n",
        "# Step 1: remove negative values from arr\n",
        "arr = df[df > 0].values.flatten()\n",
        "arr_qualified = arr[~np.isnan(arr)]\n",
        "\n",
        "# Step 2: find side-length of largest possible square\n",
        "n = int(np.floor(arr_qualified.shape[0]**.5))\n",
        "\n",
        "# Step 3: Take top n^2 items without changing positions\n",
        "top_indexes = np.argsort(arr_qualified)[::-1]\n",
        "output = np.take(arr_qualified, sorted(top_indexes[:n**2])).reshape(n, -1)\n",
        "print(output)\n"
      ],
      "metadata": {
        "colab": {
          "base_uri": "https://localhost:8080/"
        },
        "id": "JuQfRWZiZOja",
        "outputId": "8afefa1b-ceed-4e1a-bbfc-144ca3721d77"
      },
      "execution_count": null,
      "outputs": [
        {
          "output_type": "stream",
          "name": "stdout",
          "text": [
            "    0   1   2   3   4   5   6   7   8   9\n",
            "0  25 -12 -11 -17   6   8  38  22  17  48\n",
            "1 -10  43  31 -20 -17  45  42  36  38  48\n",
            "2  24  -3  18  27  28  47  13   8   7   8\n",
            "3  24 -11 -16 -18  -1  10  27  46 -15  17\n",
            "4  47  -8  38  23  21  41  38  24 -11  29\n",
            "5   8 -16  34  43  48   1   0 -13 -17  30\n",
            "6 -12 -19 -12  41  21  43 -15  -7  44  24\n",
            "7 -16  23 -18  49  -7 -20  42  12  31  30\n",
            "8   3   1  30  18  36  34  18   0 -12   3\n",
            "9 -11  28  -9  41  -4  14 -17  14  42  44\n",
            "[[25.  6.  8. 38. 22. 17. 48. 43.]\n",
            " [31. 45. 42. 36. 38. 48. 24. 18.]\n",
            " [27. 28. 47. 13.  8.  7.  8. 24.]\n",
            " [10. 27. 46. 17. 47. 38. 23. 21.]\n",
            " [41. 38. 24. 29.  8. 34. 43. 48.]\n",
            " [30. 41. 21. 43. 44. 24. 23. 49.]\n",
            " [42. 12. 31. 30. 30. 18. 36. 34.]\n",
            " [18.  3. 28. 41. 14. 14. 42. 44.]]\n"
          ]
        }
      ]
    },
    {
      "cell_type": "code",
      "source": [
        "#56. How to swap two rows of a dataframe?\n",
        "# Input\n",
        "df = pd.DataFrame(np.arange(25).reshape(5, -1))\n",
        "\n",
        "# Solution\n",
        "def swap_rows(df, i1, i2):\n",
        "    a, b = df.iloc[i1, :].copy(), df.iloc[i2, :].copy()\n",
        "    df.iloc[i1, :], df.iloc[i2, :] = b, a\n",
        "    return df\n",
        "\n",
        "#print(swap_rows(df, 1, 2))\n",
        "df\n",
        "swappedDF = swap_rows(df, 1, 2)\n",
        "swappedDF"
      ],
      "metadata": {
        "id": "EYliJwHCZ4P7",
        "colab": {
          "base_uri": "https://localhost:8080/",
          "height": 206
        },
        "outputId": "db5d5711-dd81-456d-cdfe-62704e5c96ce"
      },
      "execution_count": 9,
      "outputs": [
        {
          "output_type": "execute_result",
          "data": {
            "text/html": [
              "\n",
              "  <div id=\"df-93c2a74a-f594-4020-af21-8dd194a8d026\">\n",
              "    <div class=\"colab-df-container\">\n",
              "      <div>\n",
              "<style scoped>\n",
              "    .dataframe tbody tr th:only-of-type {\n",
              "        vertical-align: middle;\n",
              "    }\n",
              "\n",
              "    .dataframe tbody tr th {\n",
              "        vertical-align: top;\n",
              "    }\n",
              "\n",
              "    .dataframe thead th {\n",
              "        text-align: right;\n",
              "    }\n",
              "</style>\n",
              "<table border=\"1\" class=\"dataframe\">\n",
              "  <thead>\n",
              "    <tr style=\"text-align: right;\">\n",
              "      <th></th>\n",
              "      <th>0</th>\n",
              "      <th>1</th>\n",
              "      <th>2</th>\n",
              "      <th>3</th>\n",
              "      <th>4</th>\n",
              "    </tr>\n",
              "  </thead>\n",
              "  <tbody>\n",
              "    <tr>\n",
              "      <th>0</th>\n",
              "      <td>0</td>\n",
              "      <td>1</td>\n",
              "      <td>2</td>\n",
              "      <td>3</td>\n",
              "      <td>4</td>\n",
              "    </tr>\n",
              "    <tr>\n",
              "      <th>1</th>\n",
              "      <td>10</td>\n",
              "      <td>11</td>\n",
              "      <td>12</td>\n",
              "      <td>13</td>\n",
              "      <td>14</td>\n",
              "    </tr>\n",
              "    <tr>\n",
              "      <th>2</th>\n",
              "      <td>5</td>\n",
              "      <td>6</td>\n",
              "      <td>7</td>\n",
              "      <td>8</td>\n",
              "      <td>9</td>\n",
              "    </tr>\n",
              "    <tr>\n",
              "      <th>3</th>\n",
              "      <td>15</td>\n",
              "      <td>16</td>\n",
              "      <td>17</td>\n",
              "      <td>18</td>\n",
              "      <td>19</td>\n",
              "    </tr>\n",
              "    <tr>\n",
              "      <th>4</th>\n",
              "      <td>20</td>\n",
              "      <td>21</td>\n",
              "      <td>22</td>\n",
              "      <td>23</td>\n",
              "      <td>24</td>\n",
              "    </tr>\n",
              "  </tbody>\n",
              "</table>\n",
              "</div>\n",
              "      <button class=\"colab-df-convert\" onclick=\"convertToInteractive('df-93c2a74a-f594-4020-af21-8dd194a8d026')\"\n",
              "              title=\"Convert this dataframe to an interactive table.\"\n",
              "              style=\"display:none;\">\n",
              "        \n",
              "  <svg xmlns=\"http://www.w3.org/2000/svg\" height=\"24px\"viewBox=\"0 0 24 24\"\n",
              "       width=\"24px\">\n",
              "    <path d=\"M0 0h24v24H0V0z\" fill=\"none\"/>\n",
              "    <path d=\"M18.56 5.44l.94 2.06.94-2.06 2.06-.94-2.06-.94-.94-2.06-.94 2.06-2.06.94zm-11 1L8.5 8.5l.94-2.06 2.06-.94-2.06-.94L8.5 2.5l-.94 2.06-2.06.94zm10 10l.94 2.06.94-2.06 2.06-.94-2.06-.94-.94-2.06-.94 2.06-2.06.94z\"/><path d=\"M17.41 7.96l-1.37-1.37c-.4-.4-.92-.59-1.43-.59-.52 0-1.04.2-1.43.59L10.3 9.45l-7.72 7.72c-.78.78-.78 2.05 0 2.83L4 21.41c.39.39.9.59 1.41.59.51 0 1.02-.2 1.41-.59l7.78-7.78 2.81-2.81c.8-.78.8-2.07 0-2.86zM5.41 20L4 18.59l7.72-7.72 1.47 1.35L5.41 20z\"/>\n",
              "  </svg>\n",
              "      </button>\n",
              "      \n",
              "  <style>\n",
              "    .colab-df-container {\n",
              "      display:flex;\n",
              "      flex-wrap:wrap;\n",
              "      gap: 12px;\n",
              "    }\n",
              "\n",
              "    .colab-df-convert {\n",
              "      background-color: #E8F0FE;\n",
              "      border: none;\n",
              "      border-radius: 50%;\n",
              "      cursor: pointer;\n",
              "      display: none;\n",
              "      fill: #1967D2;\n",
              "      height: 32px;\n",
              "      padding: 0 0 0 0;\n",
              "      width: 32px;\n",
              "    }\n",
              "\n",
              "    .colab-df-convert:hover {\n",
              "      background-color: #E2EBFA;\n",
              "      box-shadow: 0px 1px 2px rgba(60, 64, 67, 0.3), 0px 1px 3px 1px rgba(60, 64, 67, 0.15);\n",
              "      fill: #174EA6;\n",
              "    }\n",
              "\n",
              "    [theme=dark] .colab-df-convert {\n",
              "      background-color: #3B4455;\n",
              "      fill: #D2E3FC;\n",
              "    }\n",
              "\n",
              "    [theme=dark] .colab-df-convert:hover {\n",
              "      background-color: #434B5C;\n",
              "      box-shadow: 0px 1px 3px 1px rgba(0, 0, 0, 0.15);\n",
              "      filter: drop-shadow(0px 1px 2px rgba(0, 0, 0, 0.3));\n",
              "      fill: #FFFFFF;\n",
              "    }\n",
              "  </style>\n",
              "\n",
              "      <script>\n",
              "        const buttonEl =\n",
              "          document.querySelector('#df-93c2a74a-f594-4020-af21-8dd194a8d026 button.colab-df-convert');\n",
              "        buttonEl.style.display =\n",
              "          google.colab.kernel.accessAllowed ? 'block' : 'none';\n",
              "\n",
              "        async function convertToInteractive(key) {\n",
              "          const element = document.querySelector('#df-93c2a74a-f594-4020-af21-8dd194a8d026');\n",
              "          const dataTable =\n",
              "            await google.colab.kernel.invokeFunction('convertToInteractive',\n",
              "                                                     [key], {});\n",
              "          if (!dataTable) return;\n",
              "\n",
              "          const docLinkHtml = 'Like what you see? Visit the ' +\n",
              "            '<a target=\"_blank\" href=https://colab.research.google.com/notebooks/data_table.ipynb>data table notebook</a>'\n",
              "            + ' to learn more about interactive tables.';\n",
              "          element.innerHTML = '';\n",
              "          dataTable['output_type'] = 'display_data';\n",
              "          await google.colab.output.renderOutput(dataTable, element);\n",
              "          const docLink = document.createElement('div');\n",
              "          docLink.innerHTML = docLinkHtml;\n",
              "          element.appendChild(docLink);\n",
              "        }\n",
              "      </script>\n",
              "    </div>\n",
              "  </div>\n",
              "  "
            ],
            "text/plain": [
              "    0   1   2   3   4\n",
              "0   0   1   2   3   4\n",
              "1  10  11  12  13  14\n",
              "2   5   6   7   8   9\n",
              "3  15  16  17  18  19\n",
              "4  20  21  22  23  24"
            ]
          },
          "metadata": {},
          "execution_count": 9
        }
      ]
    },
    {
      "cell_type": "code",
      "source": [
        "#57. How to reverse the rows of a dataframe?\n",
        "# Input\n",
        "df = pd.DataFrame(np.arange(25).reshape(5, -1))\n",
        "\n",
        "# Solution 1\n",
        "df.iloc[::-1, :]\n",
        "\n",
        "# Solution 2\n",
        "print(df.loc[df.index[::-1], :])"
      ],
      "metadata": {
        "colab": {
          "base_uri": "https://localhost:8080/"
        },
        "id": "7OnVpJvs2aTu",
        "outputId": "e721ac58-bdcb-4cc6-ad89-4a3ce750fc85"
      },
      "execution_count": 10,
      "outputs": [
        {
          "output_type": "stream",
          "name": "stdout",
          "text": [
            "    0   1   2   3   4\n",
            "4  20  21  22  23  24\n",
            "3  15  16  17  18  19\n",
            "2  10  11  12  13  14\n",
            "1   5   6   7   8   9\n",
            "0   0   1   2   3   4\n"
          ]
        }
      ]
    },
    {
      "cell_type": "code",
      "source": [
        "#58. How to create one-hot encodings of a categorical variable (dummy variables)?\n",
        "# Input\n",
        "df = pd.DataFrame(np.arange(25).reshape(5,-1), columns=list('abcde'))\n",
        "\n",
        "# Solution\n",
        "df_onehot = pd.concat([pd.get_dummies(df['a']), df[list('bcde')]], axis=1)\n",
        "print(df_onehot)"
      ],
      "metadata": {
        "colab": {
          "base_uri": "https://localhost:8080/"
        },
        "id": "VOLoAPwf2ec_",
        "outputId": "8b9f94a6-89e8-4b46-e51d-4b74ceb1b6cc"
      },
      "execution_count": 11,
      "outputs": [
        {
          "output_type": "stream",
          "name": "stdout",
          "text": [
            "   0  5  10  15  20   b   c   d   e\n",
            "0  1  0   0   0   0   1   2   3   4\n",
            "1  0  1   0   0   0   6   7   8   9\n",
            "2  0  0   1   0   0  11  12  13  14\n",
            "3  0  0   0   1   0  16  17  18  19\n",
            "4  0  0   0   0   1  21  22  23  24\n"
          ]
        }
      ]
    },
    {
      "cell_type": "code",
      "source": [
        "#59. Which column contains the highest number of row-wise maximum values?\n",
        "# Input\n",
        "df = pd.DataFrame(np.random.randint(1,100, 40).reshape(10, -1))\n",
        "\n",
        "# Solution\n",
        "print('Column with highest row maxes: ', df.apply(np.argmax, axis=1).value_counts().index[0])"
      ],
      "metadata": {
        "colab": {
          "base_uri": "https://localhost:8080/"
        },
        "id": "Ls3rh2C15lYV",
        "outputId": "a9e3875f-4c38-4af2-902a-2616d8cce757"
      },
      "execution_count": 12,
      "outputs": [
        {
          "output_type": "stream",
          "name": "stdout",
          "text": [
            "Column with highest row maxes:  0\n"
          ]
        }
      ]
    },
    {
      "cell_type": "code",
      "source": [
        "#60. How to create a new column that contains the row number of nearest column by euclidean distance?\n",
        "df = pd.DataFrame(np.random.randint(1,100, 40).reshape(10, -1), columns=list('pqrs'), index=list('abcdefghij'))\n",
        "\n",
        "# Solution\n",
        "import numpy as np\n",
        "\n",
        "# init outputs\n",
        "nearest_rows = []\n",
        "nearest_distance = []\n",
        "\n",
        "# iterate rows.\n",
        "for i, row in df.iterrows():\n",
        "    curr = row\n",
        "    rest = df.drop(i)\n",
        "    e_dists = {}  # init dict to store euclidean dists for current row.\n",
        "    # iterate rest of rows for current row\n",
        "    for j, contestant in rest.iterrows():\n",
        "        # compute euclidean dist and update e_dists\n",
        "        e_dists.update({j: round(np.linalg.norm(curr.values - contestant.values))})\n",
        "    # update nearest row to current row and the distance value\n",
        "    nearest_rows.append(max(e_dists, key=e_dists.get))\n",
        "    nearest_distance.append(max(e_dists.values()))\n",
        "\n",
        "df['nearest_row'] = nearest_rows\n",
        "df['dist'] = nearest_distance"
      ],
      "metadata": {
        "id": "XuSK_3yM5uu1"
      },
      "execution_count": 13,
      "outputs": []
    },
    {
      "cell_type": "code",
      "source": [
        "#61. How to know the maximum possible correlation value of each column against other columns?\n",
        "# Input\n",
        "df = pd.DataFrame(np.random.randint(1,100, 80).reshape(8, -1), columns=list('pqrstuvwxy'), index=list('abcdefgh'))\n",
        "df\n",
        "\n",
        "# Solution\n",
        "abs_corrmat = np.abs(df.corr())\n",
        "max_corr = abs_corrmat.apply(lambda x: sorted(x)[-2])\n",
        "print('Maximum Correlation possible for each column: ', np.round(max_corr.tolist(), 2))"
      ],
      "metadata": {
        "colab": {
          "base_uri": "https://localhost:8080/"
        },
        "id": "R_AKkxMp6XRe",
        "outputId": "5e3b49a0-dacb-494f-888b-58e254a9e80f"
      },
      "execution_count": 14,
      "outputs": [
        {
          "output_type": "stream",
          "name": "stdout",
          "text": [
            "Maximum Correlation possible for each column:  [0.57 0.66 0.88 0.64 0.88 0.64 0.55 0.62 0.64 0.66]\n"
          ]
        }
      ]
    },
    {
      "cell_type": "code",
      "source": [
        "#62. How to create a column containing the minimum by maximum of each row?\n",
        "# Input\n",
        "df = pd.DataFrame(np.random.randint(1,100, 80).reshape(8, -1))\n",
        "\n",
        "# Solution 1\n",
        "min_by_max = df.apply(lambda x: np.min(x)/np.max(x), axis=1)\n",
        "\n",
        "# Solution 2\n",
        "min_by_max = np.min(df, axis=1)/np.max(df, axis=1)"
      ],
      "metadata": {
        "id": "r0bPoUvx6diO"
      },
      "execution_count": 15,
      "outputs": []
    },
    {
      "cell_type": "code",
      "source": [
        "#63. How to create a column that contains the penultimate value in each row?\n",
        "# Input\n",
        "df = pd.DataFrame(np.random.randint(1,100, 80).reshape(8, -1))\n",
        "\n",
        "# Solution\n",
        "out = df.apply(lambda x: x.sort_values().unique()[-2], axis=1)\n",
        "df['penultimate'] = out\n",
        "print(df)"
      ],
      "metadata": {
        "colab": {
          "base_uri": "https://localhost:8080/"
        },
        "id": "kaCbbYCD6i-i",
        "outputId": "b09d79ae-8ec7-448a-8802-6d43f37e8d3a"
      },
      "execution_count": 16,
      "outputs": [
        {
          "output_type": "stream",
          "name": "stdout",
          "text": [
            "    0   1   2   3   4   5   6   7   8   9  penultimate\n",
            "0  13  50  17  38  23  56  11  61  11  72           61\n",
            "1  25  96  19  39  20  39  77  96  33  30           77\n",
            "2  88  70  80  68   4  70  47  75  42  70           80\n",
            "3  43  74  67   5  73   8  94  67  60  99           94\n",
            "4  40  43  89  79  97  50  66  40  62  98           97\n",
            "5  19  71  15  69  63  65  39  94  71  82           82\n",
            "6  16  55  24  32  47   9  70  70  56  10           56\n",
            "7  79  53  24  39   4  83  79  10  37  89           83\n"
          ]
        }
      ]
    },
    {
      "cell_type": "code",
      "source": [
        "#64. How to normalize all columns in a dataframe?\n",
        "# Input\n",
        "df = pd.DataFrame(np.random.randint(1,100, 80).reshape(8, -1))\n",
        "\n",
        "# Solution Q1\n",
        "out1 = df.apply(lambda x: ((x - x.mean())/x.std()).round(2))\n",
        "print('Solution Q1\\n',out1)\n",
        "\n",
        "# Solution Q2\n",
        "out2 = df.apply(lambda x: ((x.max() - x)/(x.max() - x.min())).round(2))\n",
        "print('Solution Q2\\n', out2)  "
      ],
      "metadata": {
        "colab": {
          "base_uri": "https://localhost:8080/"
        },
        "id": "WK0Spewk6tNL",
        "outputId": "c7992e1d-1d40-458b-d6eb-075d57a2d9ac"
      },
      "execution_count": 17,
      "outputs": [
        {
          "output_type": "stream",
          "name": "stdout",
          "text": [
            "Solution Q1\n",
            "       0     1     2     3     4     5     6     7     8     9\n",
            "0  0.87  1.06 -0.65 -1.54  1.46  1.11 -0.84  1.09  0.99  1.12\n",
            "1  0.71  0.78 -1.28  1.32 -1.29  1.31 -0.84 -0.75 -0.91 -0.38\n",
            "2  1.39  0.62 -0.36 -0.27  0.41 -0.26 -1.08 -0.67  1.08 -0.05\n",
            "3 -0.92  0.93  1.42  0.77 -1.03  0.18 -0.65 -0.92 -1.47 -0.50\n",
            "4 -1.38 -1.18  1.17  0.73 -0.58 -1.92  1.08  1.15 -0.58 -0.92\n",
            "5  0.55 -0.98  0.67  0.45 -0.39 -0.26  0.09 -0.75  0.28  1.31\n",
            "6 -0.50  0.06  0.01 -1.18  0.22 -0.40  0.71  1.35 -0.49 -1.43\n",
            "7 -0.72 -1.29 -0.99 -0.27  1.20  0.23  1.52 -0.49  1.11  0.85\n",
            "Solution Q2\n",
            "       0     1     2     3     4     5     6     7     8     9\n",
            "0  0.19  0.00  0.77  1.00  0.00  0.06  0.90  0.11  0.05  0.07\n",
            "1  0.25  0.12  1.00  0.00  1.00  0.00  0.90  0.92  0.78  0.62\n",
            "2  0.00  0.18  0.66  0.56  0.38  0.48  1.00  0.89  0.01  0.49\n",
            "3  0.84  0.05  0.00  0.19  0.90  0.35  0.83  1.00  1.00  0.66\n",
            "4  1.00  0.96  0.09  0.21  0.74  1.00  0.17  0.09  0.66  0.81\n",
            "5  0.31  0.87  0.28  0.30  0.67  0.48  0.55  0.92  0.32  0.00\n",
            "6  0.68  0.42  0.52  0.87  0.45  0.53  0.31  0.00  0.62  1.00\n",
            "7  0.76  1.00  0.89  0.56  0.10  0.33  0.00  0.81  0.00  0.16\n"
          ]
        }
      ]
    },
    {
      "cell_type": "code",
      "source": [
        "#65. How to compute the correlation of each row with the suceeding row?\n",
        "# Input\n",
        "df = pd.DataFrame(np.random.randint(1,100, 80).reshape(8, -1))\n",
        "\n",
        "# Solution\n",
        "[df.iloc[i].corr(df.iloc[i+1]).round(2) for i in range(df.shape[0])[:-1]]"
      ],
      "metadata": {
        "colab": {
          "base_uri": "https://localhost:8080/"
        },
        "id": "EZ4DRHGg7GRA",
        "outputId": "080e3e34-74ee-431e-db7c-faa7e23f8bb2"
      },
      "execution_count": 18,
      "outputs": [
        {
          "output_type": "execute_result",
          "data": {
            "text/plain": [
              "[0.24, 0.37, -0.03, 0.01, -0.13, 0.59, 0.38]"
            ]
          },
          "metadata": {},
          "execution_count": 18
        }
      ]
    },
    {
      "cell_type": "code",
      "source": [
        "#66. How to replace both the diagonals of dataframe with 0?\n",
        "# Input\n",
        "df = pd.DataFrame(np.random.randint(1,100, 100).reshape(10, -1))\n",
        "# Solution\n",
        "for i in range(df.shape[0]):\n",
        "    df.iat[i, i] = 0\n",
        "    df.iat[df.shape[0]-i-1, i] = 0\n",
        "df"
      ],
      "metadata": {
        "colab": {
          "base_uri": "https://localhost:8080/",
          "height": 362
        },
        "id": "qXHIfrJD7cw7",
        "outputId": "2a34ea31-d93b-4d1b-afeb-77d8ff0bb375"
      },
      "execution_count": 30,
      "outputs": [
        {
          "output_type": "execute_result",
          "data": {
            "text/html": [
              "\n",
              "  <div id=\"df-a971dca6-c5a9-4c79-8cf7-b3fc1e95707b\">\n",
              "    <div class=\"colab-df-container\">\n",
              "      <div>\n",
              "<style scoped>\n",
              "    .dataframe tbody tr th:only-of-type {\n",
              "        vertical-align: middle;\n",
              "    }\n",
              "\n",
              "    .dataframe tbody tr th {\n",
              "        vertical-align: top;\n",
              "    }\n",
              "\n",
              "    .dataframe thead th {\n",
              "        text-align: right;\n",
              "    }\n",
              "</style>\n",
              "<table border=\"1\" class=\"dataframe\">\n",
              "  <thead>\n",
              "    <tr style=\"text-align: right;\">\n",
              "      <th></th>\n",
              "      <th>0</th>\n",
              "      <th>1</th>\n",
              "      <th>2</th>\n",
              "      <th>3</th>\n",
              "      <th>4</th>\n",
              "      <th>5</th>\n",
              "      <th>6</th>\n",
              "      <th>7</th>\n",
              "      <th>8</th>\n",
              "      <th>9</th>\n",
              "    </tr>\n",
              "  </thead>\n",
              "  <tbody>\n",
              "    <tr>\n",
              "      <th>0</th>\n",
              "      <td>0</td>\n",
              "      <td>53</td>\n",
              "      <td>42</td>\n",
              "      <td>10</td>\n",
              "      <td>93</td>\n",
              "      <td>98</td>\n",
              "      <td>30</td>\n",
              "      <td>60</td>\n",
              "      <td>66</td>\n",
              "      <td>0</td>\n",
              "    </tr>\n",
              "    <tr>\n",
              "      <th>1</th>\n",
              "      <td>83</td>\n",
              "      <td>0</td>\n",
              "      <td>99</td>\n",
              "      <td>46</td>\n",
              "      <td>5</td>\n",
              "      <td>31</td>\n",
              "      <td>13</td>\n",
              "      <td>16</td>\n",
              "      <td>0</td>\n",
              "      <td>60</td>\n",
              "    </tr>\n",
              "    <tr>\n",
              "      <th>2</th>\n",
              "      <td>91</td>\n",
              "      <td>93</td>\n",
              "      <td>0</td>\n",
              "      <td>43</td>\n",
              "      <td>69</td>\n",
              "      <td>34</td>\n",
              "      <td>94</td>\n",
              "      <td>0</td>\n",
              "      <td>37</td>\n",
              "      <td>24</td>\n",
              "    </tr>\n",
              "    <tr>\n",
              "      <th>3</th>\n",
              "      <td>17</td>\n",
              "      <td>88</td>\n",
              "      <td>38</td>\n",
              "      <td>0</td>\n",
              "      <td>1</td>\n",
              "      <td>54</td>\n",
              "      <td>0</td>\n",
              "      <td>68</td>\n",
              "      <td>64</td>\n",
              "      <td>12</td>\n",
              "    </tr>\n",
              "    <tr>\n",
              "      <th>4</th>\n",
              "      <td>76</td>\n",
              "      <td>70</td>\n",
              "      <td>13</td>\n",
              "      <td>4</td>\n",
              "      <td>0</td>\n",
              "      <td>0</td>\n",
              "      <td>11</td>\n",
              "      <td>50</td>\n",
              "      <td>11</td>\n",
              "      <td>47</td>\n",
              "    </tr>\n",
              "    <tr>\n",
              "      <th>5</th>\n",
              "      <td>61</td>\n",
              "      <td>89</td>\n",
              "      <td>16</td>\n",
              "      <td>2</td>\n",
              "      <td>0</td>\n",
              "      <td>0</td>\n",
              "      <td>96</td>\n",
              "      <td>44</td>\n",
              "      <td>98</td>\n",
              "      <td>21</td>\n",
              "    </tr>\n",
              "    <tr>\n",
              "      <th>6</th>\n",
              "      <td>73</td>\n",
              "      <td>45</td>\n",
              "      <td>71</td>\n",
              "      <td>0</td>\n",
              "      <td>42</td>\n",
              "      <td>29</td>\n",
              "      <td>0</td>\n",
              "      <td>33</td>\n",
              "      <td>34</td>\n",
              "      <td>39</td>\n",
              "    </tr>\n",
              "    <tr>\n",
              "      <th>7</th>\n",
              "      <td>33</td>\n",
              "      <td>32</td>\n",
              "      <td>0</td>\n",
              "      <td>74</td>\n",
              "      <td>56</td>\n",
              "      <td>81</td>\n",
              "      <td>91</td>\n",
              "      <td>0</td>\n",
              "      <td>32</td>\n",
              "      <td>42</td>\n",
              "    </tr>\n",
              "    <tr>\n",
              "      <th>8</th>\n",
              "      <td>66</td>\n",
              "      <td>0</td>\n",
              "      <td>71</td>\n",
              "      <td>60</td>\n",
              "      <td>60</td>\n",
              "      <td>46</td>\n",
              "      <td>85</td>\n",
              "      <td>87</td>\n",
              "      <td>0</td>\n",
              "      <td>56</td>\n",
              "    </tr>\n",
              "    <tr>\n",
              "      <th>9</th>\n",
              "      <td>0</td>\n",
              "      <td>69</td>\n",
              "      <td>25</td>\n",
              "      <td>16</td>\n",
              "      <td>40</td>\n",
              "      <td>25</td>\n",
              "      <td>22</td>\n",
              "      <td>49</td>\n",
              "      <td>64</td>\n",
              "      <td>0</td>\n",
              "    </tr>\n",
              "  </tbody>\n",
              "</table>\n",
              "</div>\n",
              "      <button class=\"colab-df-convert\" onclick=\"convertToInteractive('df-a971dca6-c5a9-4c79-8cf7-b3fc1e95707b')\"\n",
              "              title=\"Convert this dataframe to an interactive table.\"\n",
              "              style=\"display:none;\">\n",
              "        \n",
              "  <svg xmlns=\"http://www.w3.org/2000/svg\" height=\"24px\"viewBox=\"0 0 24 24\"\n",
              "       width=\"24px\">\n",
              "    <path d=\"M0 0h24v24H0V0z\" fill=\"none\"/>\n",
              "    <path d=\"M18.56 5.44l.94 2.06.94-2.06 2.06-.94-2.06-.94-.94-2.06-.94 2.06-2.06.94zm-11 1L8.5 8.5l.94-2.06 2.06-.94-2.06-.94L8.5 2.5l-.94 2.06-2.06.94zm10 10l.94 2.06.94-2.06 2.06-.94-2.06-.94-.94-2.06-.94 2.06-2.06.94z\"/><path d=\"M17.41 7.96l-1.37-1.37c-.4-.4-.92-.59-1.43-.59-.52 0-1.04.2-1.43.59L10.3 9.45l-7.72 7.72c-.78.78-.78 2.05 0 2.83L4 21.41c.39.39.9.59 1.41.59.51 0 1.02-.2 1.41-.59l7.78-7.78 2.81-2.81c.8-.78.8-2.07 0-2.86zM5.41 20L4 18.59l7.72-7.72 1.47 1.35L5.41 20z\"/>\n",
              "  </svg>\n",
              "      </button>\n",
              "      \n",
              "  <style>\n",
              "    .colab-df-container {\n",
              "      display:flex;\n",
              "      flex-wrap:wrap;\n",
              "      gap: 12px;\n",
              "    }\n",
              "\n",
              "    .colab-df-convert {\n",
              "      background-color: #E8F0FE;\n",
              "      border: none;\n",
              "      border-radius: 50%;\n",
              "      cursor: pointer;\n",
              "      display: none;\n",
              "      fill: #1967D2;\n",
              "      height: 32px;\n",
              "      padding: 0 0 0 0;\n",
              "      width: 32px;\n",
              "    }\n",
              "\n",
              "    .colab-df-convert:hover {\n",
              "      background-color: #E2EBFA;\n",
              "      box-shadow: 0px 1px 2px rgba(60, 64, 67, 0.3), 0px 1px 3px 1px rgba(60, 64, 67, 0.15);\n",
              "      fill: #174EA6;\n",
              "    }\n",
              "\n",
              "    [theme=dark] .colab-df-convert {\n",
              "      background-color: #3B4455;\n",
              "      fill: #D2E3FC;\n",
              "    }\n",
              "\n",
              "    [theme=dark] .colab-df-convert:hover {\n",
              "      background-color: #434B5C;\n",
              "      box-shadow: 0px 1px 3px 1px rgba(0, 0, 0, 0.15);\n",
              "      filter: drop-shadow(0px 1px 2px rgba(0, 0, 0, 0.3));\n",
              "      fill: #FFFFFF;\n",
              "    }\n",
              "  </style>\n",
              "\n",
              "      <script>\n",
              "        const buttonEl =\n",
              "          document.querySelector('#df-a971dca6-c5a9-4c79-8cf7-b3fc1e95707b button.colab-df-convert');\n",
              "        buttonEl.style.display =\n",
              "          google.colab.kernel.accessAllowed ? 'block' : 'none';\n",
              "\n",
              "        async function convertToInteractive(key) {\n",
              "          const element = document.querySelector('#df-a971dca6-c5a9-4c79-8cf7-b3fc1e95707b');\n",
              "          const dataTable =\n",
              "            await google.colab.kernel.invokeFunction('convertToInteractive',\n",
              "                                                     [key], {});\n",
              "          if (!dataTable) return;\n",
              "\n",
              "          const docLinkHtml = 'Like what you see? Visit the ' +\n",
              "            '<a target=\"_blank\" href=https://colab.research.google.com/notebooks/data_table.ipynb>data table notebook</a>'\n",
              "            + ' to learn more about interactive tables.';\n",
              "          element.innerHTML = '';\n",
              "          dataTable['output_type'] = 'display_data';\n",
              "          await google.colab.output.renderOutput(dataTable, element);\n",
              "          const docLink = document.createElement('div');\n",
              "          docLink.innerHTML = docLinkHtml;\n",
              "          element.appendChild(docLink);\n",
              "        }\n",
              "      </script>\n",
              "    </div>\n",
              "  </div>\n",
              "  "
            ],
            "text/plain": [
              "    0   1   2   3   4   5   6   7   8   9\n",
              "0   0  53  42  10  93  98  30  60  66   0\n",
              "1  83   0  99  46   5  31  13  16   0  60\n",
              "2  91  93   0  43  69  34  94   0  37  24\n",
              "3  17  88  38   0   1  54   0  68  64  12\n",
              "4  76  70  13   4   0   0  11  50  11  47\n",
              "5  61  89  16   2   0   0  96  44  98  21\n",
              "6  73  45  71   0  42  29   0  33  34  39\n",
              "7  33  32   0  74  56  81  91   0  32  42\n",
              "8  66   0  71  60  60  46  85  87   0  56\n",
              "9   0  69  25  16  40  25  22  49  64   0"
            ]
          },
          "metadata": {},
          "execution_count": 30
        }
      ]
    },
    {
      "cell_type": "code",
      "source": [
        "#67. How to get the particular group of a groupby dataframe by key?\n",
        "# Input\n",
        "df = pd.DataFrame({'col1': ['apple', 'banana', 'orange'] * 3,\n",
        "                   'col2': np.random.rand(9),\n",
        "                   'col3': np.random.randint(0, 15, 9)})\n",
        "\n",
        "df_grouped = df.groupby(['col1'])\n",
        "\n",
        "# Solution 1\n",
        "df_grouped.get_group('apple')\n",
        "\n",
        "# Solution 2\n",
        "for i, dff in df_grouped:\n",
        "    if i == 'apple':\n",
        "        print(dff)"
      ],
      "metadata": {
        "colab": {
          "base_uri": "https://localhost:8080/"
        },
        "id": "xm-xgMI87-8Q",
        "outputId": "f32c1912-36b9-4853-9e2e-9fb10116d5c7"
      },
      "execution_count": 31,
      "outputs": [
        {
          "output_type": "stream",
          "name": "stdout",
          "text": [
            "    col1      col2  col3\n",
            "0  apple  0.322998     8\n",
            "3  apple  0.647791     2\n",
            "6  apple  0.021330     1\n"
          ]
        }
      ]
    },
    {
      "cell_type": "code",
      "source": [
        "#68. How to get the n’th largest value of a column when grouped by another column?\n",
        "# Input\n",
        "df = pd.DataFrame({'fruit': ['apple', 'banana', 'orange'] * 3,\n",
        "                   'taste': np.random.rand(9),\n",
        "                   'price': np.random.randint(0, 15, 9)})\n",
        "\n",
        "print(df)\n",
        "\n",
        "# Solution\n",
        "df_grpd = df['taste'].groupby(df.fruit)\n",
        "df_grpd.get_group('banana').sort_values().iloc[-1]"
      ],
      "metadata": {
        "colab": {
          "base_uri": "https://localhost:8080/"
        },
        "id": "moJBGYja8HVZ",
        "outputId": "66807cae-4ed0-4955-f366-17410aa498d7"
      },
      "execution_count": 34,
      "outputs": [
        {
          "output_type": "stream",
          "name": "stdout",
          "text": [
            "    fruit     taste  price\n",
            "0   apple  0.429693      3\n",
            "1  banana  0.094036     12\n",
            "2  orange  0.720758     10\n",
            "3   apple  0.962146      9\n",
            "4  banana  0.000958      1\n",
            "5  orange  0.969112      5\n",
            "6   apple  0.071676      8\n",
            "7  banana  0.553827     10\n",
            "8  orange  0.815642     13\n"
          ]
        },
        {
          "output_type": "execute_result",
          "data": {
            "text/plain": [
              "0.5538269922336878"
            ]
          },
          "metadata": {},
          "execution_count": 34
        }
      ]
    },
    {
      "cell_type": "code",
      "source": [
        "#69. How to compute grouped mean on pandas dataframe and keep the grouped column as another column (not index)?\n",
        "# Input\n",
        "df = pd.DataFrame({'fruit': ['apple', 'banana', 'orange'] * 3,\n",
        "                   'rating': np.random.rand(9),\n",
        "                   'price': np.random.randint(0, 15, 9)})\n",
        "\n",
        "# Solution\n",
        "out = df.groupby('fruit', as_index=False)['price'].mean()\n",
        "print(out)"
      ],
      "metadata": {
        "colab": {
          "base_uri": "https://localhost:8080/"
        },
        "id": "oLQXqaXL9AQh",
        "outputId": "5df755ce-4c3a-43dc-e4bc-5ce538387680"
      },
      "execution_count": 35,
      "outputs": [
        {
          "output_type": "stream",
          "name": "stdout",
          "text": [
            "    fruit     price\n",
            "0   apple  9.666667\n",
            "1  banana  4.333333\n",
            "2  orange  9.000000\n"
          ]
        }
      ]
    },
    {
      "cell_type": "code",
      "source": [
        "#70. How to join two dataframes by 2 columns so they have only the common rows?\n",
        "# Input\n",
        "df1 = pd.DataFrame({'fruit': ['apple', 'banana', 'orange'] * 3,\n",
        "                    'weight': ['high', 'medium', 'low'] * 3,\n",
        "                    'price': np.random.randint(0, 15, 9)})\n",
        "\n",
        "df2 = pd.DataFrame({'pazham': ['apple', 'orange', 'pine'] * 2,\n",
        "                    'kilo': ['high', 'low'] * 3,\n",
        "                    'price': np.random.randint(0, 15, 6)})\n",
        "\n",
        "# Solution\n",
        "pd.merge(df1, df2, how='inner', left_on=['fruit'], right_on=['pazham'], suffixes=['_left', '_right'])"
      ],
      "metadata": {
        "colab": {
          "base_uri": "https://localhost:8080/",
          "height": 425
        },
        "id": "9_qPmFA89VfN",
        "outputId": "73d144fe-987d-45b4-8eb4-96a7a9461739"
      },
      "execution_count": 39,
      "outputs": [
        {
          "output_type": "execute_result",
          "data": {
            "text/html": [
              "\n",
              "  <div id=\"df-bc691291-e255-476f-ba58-1fec82a155f0\">\n",
              "    <div class=\"colab-df-container\">\n",
              "      <div>\n",
              "<style scoped>\n",
              "    .dataframe tbody tr th:only-of-type {\n",
              "        vertical-align: middle;\n",
              "    }\n",
              "\n",
              "    .dataframe tbody tr th {\n",
              "        vertical-align: top;\n",
              "    }\n",
              "\n",
              "    .dataframe thead th {\n",
              "        text-align: right;\n",
              "    }\n",
              "</style>\n",
              "<table border=\"1\" class=\"dataframe\">\n",
              "  <thead>\n",
              "    <tr style=\"text-align: right;\">\n",
              "      <th></th>\n",
              "      <th>fruit</th>\n",
              "      <th>weight</th>\n",
              "      <th>price_left</th>\n",
              "      <th>pazham</th>\n",
              "      <th>kilo</th>\n",
              "      <th>price_right</th>\n",
              "    </tr>\n",
              "  </thead>\n",
              "  <tbody>\n",
              "    <tr>\n",
              "      <th>0</th>\n",
              "      <td>apple</td>\n",
              "      <td>high</td>\n",
              "      <td>6</td>\n",
              "      <td>apple</td>\n",
              "      <td>high</td>\n",
              "      <td>12</td>\n",
              "    </tr>\n",
              "    <tr>\n",
              "      <th>1</th>\n",
              "      <td>apple</td>\n",
              "      <td>high</td>\n",
              "      <td>6</td>\n",
              "      <td>apple</td>\n",
              "      <td>low</td>\n",
              "      <td>14</td>\n",
              "    </tr>\n",
              "    <tr>\n",
              "      <th>2</th>\n",
              "      <td>apple</td>\n",
              "      <td>high</td>\n",
              "      <td>13</td>\n",
              "      <td>apple</td>\n",
              "      <td>high</td>\n",
              "      <td>12</td>\n",
              "    </tr>\n",
              "    <tr>\n",
              "      <th>3</th>\n",
              "      <td>apple</td>\n",
              "      <td>high</td>\n",
              "      <td>13</td>\n",
              "      <td>apple</td>\n",
              "      <td>low</td>\n",
              "      <td>14</td>\n",
              "    </tr>\n",
              "    <tr>\n",
              "      <th>4</th>\n",
              "      <td>apple</td>\n",
              "      <td>high</td>\n",
              "      <td>14</td>\n",
              "      <td>apple</td>\n",
              "      <td>high</td>\n",
              "      <td>12</td>\n",
              "    </tr>\n",
              "    <tr>\n",
              "      <th>5</th>\n",
              "      <td>apple</td>\n",
              "      <td>high</td>\n",
              "      <td>14</td>\n",
              "      <td>apple</td>\n",
              "      <td>low</td>\n",
              "      <td>14</td>\n",
              "    </tr>\n",
              "    <tr>\n",
              "      <th>6</th>\n",
              "      <td>orange</td>\n",
              "      <td>low</td>\n",
              "      <td>1</td>\n",
              "      <td>orange</td>\n",
              "      <td>low</td>\n",
              "      <td>8</td>\n",
              "    </tr>\n",
              "    <tr>\n",
              "      <th>7</th>\n",
              "      <td>orange</td>\n",
              "      <td>low</td>\n",
              "      <td>1</td>\n",
              "      <td>orange</td>\n",
              "      <td>high</td>\n",
              "      <td>0</td>\n",
              "    </tr>\n",
              "    <tr>\n",
              "      <th>8</th>\n",
              "      <td>orange</td>\n",
              "      <td>low</td>\n",
              "      <td>12</td>\n",
              "      <td>orange</td>\n",
              "      <td>low</td>\n",
              "      <td>8</td>\n",
              "    </tr>\n",
              "    <tr>\n",
              "      <th>9</th>\n",
              "      <td>orange</td>\n",
              "      <td>low</td>\n",
              "      <td>12</td>\n",
              "      <td>orange</td>\n",
              "      <td>high</td>\n",
              "      <td>0</td>\n",
              "    </tr>\n",
              "    <tr>\n",
              "      <th>10</th>\n",
              "      <td>orange</td>\n",
              "      <td>low</td>\n",
              "      <td>1</td>\n",
              "      <td>orange</td>\n",
              "      <td>low</td>\n",
              "      <td>8</td>\n",
              "    </tr>\n",
              "    <tr>\n",
              "      <th>11</th>\n",
              "      <td>orange</td>\n",
              "      <td>low</td>\n",
              "      <td>1</td>\n",
              "      <td>orange</td>\n",
              "      <td>high</td>\n",
              "      <td>0</td>\n",
              "    </tr>\n",
              "  </tbody>\n",
              "</table>\n",
              "</div>\n",
              "      <button class=\"colab-df-convert\" onclick=\"convertToInteractive('df-bc691291-e255-476f-ba58-1fec82a155f0')\"\n",
              "              title=\"Convert this dataframe to an interactive table.\"\n",
              "              style=\"display:none;\">\n",
              "        \n",
              "  <svg xmlns=\"http://www.w3.org/2000/svg\" height=\"24px\"viewBox=\"0 0 24 24\"\n",
              "       width=\"24px\">\n",
              "    <path d=\"M0 0h24v24H0V0z\" fill=\"none\"/>\n",
              "    <path d=\"M18.56 5.44l.94 2.06.94-2.06 2.06-.94-2.06-.94-.94-2.06-.94 2.06-2.06.94zm-11 1L8.5 8.5l.94-2.06 2.06-.94-2.06-.94L8.5 2.5l-.94 2.06-2.06.94zm10 10l.94 2.06.94-2.06 2.06-.94-2.06-.94-.94-2.06-.94 2.06-2.06.94z\"/><path d=\"M17.41 7.96l-1.37-1.37c-.4-.4-.92-.59-1.43-.59-.52 0-1.04.2-1.43.59L10.3 9.45l-7.72 7.72c-.78.78-.78 2.05 0 2.83L4 21.41c.39.39.9.59 1.41.59.51 0 1.02-.2 1.41-.59l7.78-7.78 2.81-2.81c.8-.78.8-2.07 0-2.86zM5.41 20L4 18.59l7.72-7.72 1.47 1.35L5.41 20z\"/>\n",
              "  </svg>\n",
              "      </button>\n",
              "      \n",
              "  <style>\n",
              "    .colab-df-container {\n",
              "      display:flex;\n",
              "      flex-wrap:wrap;\n",
              "      gap: 12px;\n",
              "    }\n",
              "\n",
              "    .colab-df-convert {\n",
              "      background-color: #E8F0FE;\n",
              "      border: none;\n",
              "      border-radius: 50%;\n",
              "      cursor: pointer;\n",
              "      display: none;\n",
              "      fill: #1967D2;\n",
              "      height: 32px;\n",
              "      padding: 0 0 0 0;\n",
              "      width: 32px;\n",
              "    }\n",
              "\n",
              "    .colab-df-convert:hover {\n",
              "      background-color: #E2EBFA;\n",
              "      box-shadow: 0px 1px 2px rgba(60, 64, 67, 0.3), 0px 1px 3px 1px rgba(60, 64, 67, 0.15);\n",
              "      fill: #174EA6;\n",
              "    }\n",
              "\n",
              "    [theme=dark] .colab-df-convert {\n",
              "      background-color: #3B4455;\n",
              "      fill: #D2E3FC;\n",
              "    }\n",
              "\n",
              "    [theme=dark] .colab-df-convert:hover {\n",
              "      background-color: #434B5C;\n",
              "      box-shadow: 0px 1px 3px 1px rgba(0, 0, 0, 0.15);\n",
              "      filter: drop-shadow(0px 1px 2px rgba(0, 0, 0, 0.3));\n",
              "      fill: #FFFFFF;\n",
              "    }\n",
              "  </style>\n",
              "\n",
              "      <script>\n",
              "        const buttonEl =\n",
              "          document.querySelector('#df-bc691291-e255-476f-ba58-1fec82a155f0 button.colab-df-convert');\n",
              "        buttonEl.style.display =\n",
              "          google.colab.kernel.accessAllowed ? 'block' : 'none';\n",
              "\n",
              "        async function convertToInteractive(key) {\n",
              "          const element = document.querySelector('#df-bc691291-e255-476f-ba58-1fec82a155f0');\n",
              "          const dataTable =\n",
              "            await google.colab.kernel.invokeFunction('convertToInteractive',\n",
              "                                                     [key], {});\n",
              "          if (!dataTable) return;\n",
              "\n",
              "          const docLinkHtml = 'Like what you see? Visit the ' +\n",
              "            '<a target=\"_blank\" href=https://colab.research.google.com/notebooks/data_table.ipynb>data table notebook</a>'\n",
              "            + ' to learn more about interactive tables.';\n",
              "          element.innerHTML = '';\n",
              "          dataTable['output_type'] = 'display_data';\n",
              "          await google.colab.output.renderOutput(dataTable, element);\n",
              "          const docLink = document.createElement('div');\n",
              "          docLink.innerHTML = docLinkHtml;\n",
              "          element.appendChild(docLink);\n",
              "        }\n",
              "      </script>\n",
              "    </div>\n",
              "  </div>\n",
              "  "
            ],
            "text/plain": [
              "     fruit weight  price_left  pazham  kilo  price_right\n",
              "0    apple   high           6   apple  high           12\n",
              "1    apple   high           6   apple   low           14\n",
              "2    apple   high          13   apple  high           12\n",
              "3    apple   high          13   apple   low           14\n",
              "4    apple   high          14   apple  high           12\n",
              "5    apple   high          14   apple   low           14\n",
              "6   orange    low           1  orange   low            8\n",
              "7   orange    low           1  orange  high            0\n",
              "8   orange    low          12  orange   low            8\n",
              "9   orange    low          12  orange  high            0\n",
              "10  orange    low           1  orange   low            8\n",
              "11  orange    low           1  orange  high            0"
            ]
          },
          "metadata": {},
          "execution_count": 39
        }
      ]
    },
    {
      "cell_type": "code",
      "source": [
        "#71. How to remove rows from a dataframe that are present in another dataframe?\n",
        "# Input\n",
        "df1 = pd.DataFrame({'fruit': ['apple', 'orange', 'banana'] * 3,\n",
        "                    'weight': ['high', 'medium', 'low'] * 3,\n",
        "                    'price': np.arange(9)})\n",
        "\n",
        "df2 = pd.DataFrame({'fruit': ['apple', 'orange', 'pine'] * 2,\n",
        "                    'weight': ['high', 'medium'] * 3,\n",
        "                    'price': np.arange(6)})\n",
        "\n",
        "\n",
        "# Solution\n",
        "print(df1[~df1.isin(df2).all(1)])"
      ],
      "metadata": {
        "colab": {
          "base_uri": "https://localhost:8080/"
        },
        "id": "A-mfdQlx-PU7",
        "outputId": "e93a4b12-d3ca-4f25-bda2-a14c35b63605"
      },
      "execution_count": 40,
      "outputs": [
        {
          "output_type": "stream",
          "name": "stdout",
          "text": [
            "    fruit  weight  price\n",
            "2  banana     low      2\n",
            "3   apple    high      3\n",
            "4  orange  medium      4\n",
            "5  banana     low      5\n",
            "6   apple    high      6\n",
            "7  orange  medium      7\n",
            "8  banana     low      8\n"
          ]
        }
      ]
    },
    {
      "cell_type": "code",
      "source": [
        "#72. How to get the positions where values of two columns match?\n",
        "# Input\n",
        "df = pd.DataFrame({'fruit1': np.random.choice(['apple', 'orange', 'banana'], 10),\n",
        "                    'fruit2': np.random.choice(['apple', 'orange', 'banana'], 10)})\n",
        "\n",
        "# Solution\n",
        "np.where(df.fruit1 == df.fruit2)"
      ],
      "metadata": {
        "colab": {
          "base_uri": "https://localhost:8080/"
        },
        "id": "pXducwCl-1xz",
        "outputId": "2338df2b-2195-4b85-b8d4-3fb31cbf6d55"
      },
      "execution_count": 41,
      "outputs": [
        {
          "output_type": "execute_result",
          "data": {
            "text/plain": [
              "(array([3, 6, 9]),)"
            ]
          },
          "metadata": {},
          "execution_count": 41
        }
      ]
    },
    {
      "cell_type": "code",
      "source": [
        "#74. How to get the frequency of unique values in the entire dataframe?\n",
        "# Input\n",
        "df = pd.DataFrame(np.random.randint(1, 10, 20).reshape(-1, 4), columns = list('abcd'))\n",
        "\n",
        "# Solution\n",
        "pd.value_counts(df.values.ravel())"
      ],
      "metadata": {
        "colab": {
          "base_uri": "https://localhost:8080/"
        },
        "id": "TJtf85jd-6QX",
        "outputId": "b6738acc-4e32-4f7d-e7ac-629ef3bbb891"
      },
      "execution_count": 42,
      "outputs": [
        {
          "output_type": "execute_result",
          "data": {
            "text/plain": [
              "3    4\n",
              "4    4\n",
              "2    4\n",
              "6    3\n",
              "8    2\n",
              "5    2\n",
              "9    1\n",
              "dtype: int64"
            ]
          },
          "metadata": {},
          "execution_count": 42
        }
      ]
    },
    {
      "cell_type": "code",
      "source": [
        "#75. How to split a text column into two separate columns?\n",
        "# Input\n",
        "df = pd.DataFrame([\"STD, City    State\",\n",
        "\"33, Kolkata    West Bengal\",\n",
        "\"44, Chennai    Tamil Nadu\",\n",
        "\"40, Hyderabad    Telengana\",\n",
        "\"80, Bangalore    Karnataka\"], columns=['row'])\n",
        "\n",
        "# Solution\n",
        "df_out = df.row.str.split(',|\\t', expand=True)\n",
        "\n",
        "# Make first row as header\n",
        "new_header = df_out.iloc[0]\n",
        "df_out = df_out[1:]\n",
        "df_out.columns = new_header\n",
        "print(df_out)"
      ],
      "metadata": {
        "colab": {
          "base_uri": "https://localhost:8080/"
        },
        "id": "bNBq0VVhAzEh",
        "outputId": "725b611c-d0f4-45e4-82d1-038a0949f3ca"
      },
      "execution_count": 43,
      "outputs": [
        {
          "output_type": "stream",
          "name": "stdout",
          "text": [
            "0 STD            City    State\n",
            "1  33   Kolkata    West Bengal\n",
            "2  44    Chennai    Tamil Nadu\n",
            "3  40   Hyderabad    Telengana\n",
            "4  80   Bangalore    Karnataka\n"
          ]
        }
      ]
    },
    {
      "cell_type": "code",
      "source": [
        ""
      ],
      "metadata": {
        "id": "3WNmUVt9BDNR"
      },
      "execution_count": null,
      "outputs": []
    }
  ]
}