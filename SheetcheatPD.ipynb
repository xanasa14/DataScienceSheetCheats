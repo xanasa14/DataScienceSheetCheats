{
  "nbformat": 4,
  "nbformat_minor": 0,
  "metadata": {
    "colab": {
      "name": "SheetcheatPD.ipynb",
      "provenance": [],
      "authorship_tag": "ABX9TyNrk79Vu2K0GFxLRYkpLkS6",
      "include_colab_link": true
    },
    "kernelspec": {
      "name": "python3",
      "display_name": "Python 3"
    },
    "language_info": {
      "name": "python"
    }
  },
  "cells": [
    {
      "cell_type": "markdown",
      "metadata": {
        "id": "view-in-github",
        "colab_type": "text"
      },
      "source": [
        "<a href=\"https://colab.research.google.com/github/xanasa14/DataScienceSheetCheats/blob/main/SheetcheatPD.ipynb\" target=\"_parent\"><img src=\"https://colab.research.google.com/assets/colab-badge.svg\" alt=\"Open In Colab\"/></a>"
      ]
    },
    {
      "cell_type": "code",
      "execution_count": 1,
      "metadata": {
        "id": "fPCgV5egtaMp"
      },
      "outputs": [],
      "source": [
        "#Important recognition to https://www.machinelearningplus.com/python/101-pandas-exercises-python/ for putting everything together \n",
        "#Some methods are deprecated. I updated them in this Colab. \n",
        "import numpy as np \n",
        "import pandas as pd \n"
      ]
    },
    {
      "cell_type": "code",
      "source": [
        "\n",
        "#2 How to create a series from a list, numpy array and dict?\n",
        "'''Create a pandas series from each of the items below: a list, numpy and a dictionary Input\n",
        "\n",
        "mylist = list('abcedfghijklmnopqrstuvwxyz')\n",
        "myarr = np.arange(26)\n",
        "mydict = dict(zip(mylist, myarr))'''\n",
        "mylist = list('abcedfghijklmnopqrstuvwxyz')\n",
        "myarr = np.arange(26)\n",
        "mydict = dict(zip(mylist, myarr))\n",
        "\n",
        "# Solution\n",
        "ser1 = pd.Series(mylist)\n",
        "ser2 = pd.Series(myarr)\n",
        "ser3 = pd.Series(mydict)\n",
        "ser3"
      ],
      "metadata": {
        "colab": {
          "base_uri": "https://localhost:8080/"
        },
        "id": "ZSzQTPe4wpqh",
        "outputId": "9929d18b-f80f-4dcd-ecfb-6d24f8835c2a"
      },
      "execution_count": 2,
      "outputs": [
        {
          "output_type": "execute_result",
          "data": {
            "text/plain": [
              "a     0\n",
              "b     1\n",
              "c     2\n",
              "e     3\n",
              "d     4\n",
              "f     5\n",
              "g     6\n",
              "h     7\n",
              "i     8\n",
              "j     9\n",
              "k    10\n",
              "l    11\n",
              "m    12\n",
              "n    13\n",
              "o    14\n",
              "p    15\n",
              "q    16\n",
              "r    17\n",
              "s    18\n",
              "t    19\n",
              "u    20\n",
              "v    21\n",
              "w    22\n",
              "x    23\n",
              "y    24\n",
              "z    25\n",
              "dtype: int64"
            ]
          },
          "metadata": {},
          "execution_count": 2
        }
      ]
    },
    {
      "cell_type": "code",
      "source": [
        "#3. How to convert the index of a series into a column of a dataframe?\n",
        "# Solution\n",
        "df = ser3.to_frame().reset_index()\n",
        "print(df.head())"
      ],
      "metadata": {
        "colab": {
          "base_uri": "https://localhost:8080/"
        },
        "id": "G7hVlkfewpJa",
        "outputId": "d72a2c6b-9731-452a-86c2-61a48f77d44f"
      },
      "execution_count": 3,
      "outputs": [
        {
          "output_type": "stream",
          "name": "stdout",
          "text": [
            "  index  0\n",
            "0     a  0\n",
            "1     b  1\n",
            "2     c  2\n",
            "3     e  3\n",
            "4     d  4\n"
          ]
        }
      ]
    },
    {
      "cell_type": "code",
      "source": [
        "#4. How to combine many series to form a dataframe?\n",
        "import numpy as np\n",
        "ser1 = pd.Series(list('abcedfghijklmnopqrstuvwxyz'))\n",
        "ser2 = pd.Series(np.arange(26))\n",
        "\n",
        "\n",
        "# Solution \n",
        "df = pd.DataFrame({'col1': ser1, 'col2': ser2})\n",
        "\n",
        "print(df.head())"
      ],
      "metadata": {
        "colab": {
          "base_uri": "https://localhost:8080/"
        },
        "id": "M93-YU4SwUJc",
        "outputId": "a4bd3045-a766-40cd-f7e2-8d226699376f"
      },
      "execution_count": 4,
      "outputs": [
        {
          "output_type": "stream",
          "name": "stdout",
          "text": [
            "  col1  col2\n",
            "0    a     0\n",
            "1    b     1\n",
            "2    c     2\n",
            "3    e     3\n",
            "4    d     4\n"
          ]
        }
      ]
    },
    {
      "cell_type": "code",
      "source": [
        "#5. How to assign name to the series’ index?\n",
        "ser.name = 'alphabets'\n",
        "ser.head()"
      ],
      "metadata": {
        "colab": {
          "base_uri": "https://localhost:8080/",
          "height": 200
        },
        "id": "_5fwW1IvwUMH",
        "outputId": "7c553134-d013-4a07-d178-7da69b816478"
      },
      "execution_count": 5,
      "outputs": [
        {
          "output_type": "error",
          "ename": "NameError",
          "evalue": "ignored",
          "traceback": [
            "\u001b[0;31m---------------------------------------------------------------------------\u001b[0m",
            "\u001b[0;31mNameError\u001b[0m                                 Traceback (most recent call last)",
            "\u001b[0;32m<ipython-input-5-ecd53ccdfb25>\u001b[0m in \u001b[0;36m<module>\u001b[0;34m()\u001b[0m\n\u001b[1;32m      1\u001b[0m \u001b[0;31m#5. How to assign name to the series’ index?\u001b[0m\u001b[0;34m\u001b[0m\u001b[0;34m\u001b[0m\u001b[0;34m\u001b[0m\u001b[0m\n\u001b[0;32m----> 2\u001b[0;31m \u001b[0mser\u001b[0m\u001b[0;34m.\u001b[0m\u001b[0mname\u001b[0m \u001b[0;34m=\u001b[0m \u001b[0;34m'alphabets'\u001b[0m\u001b[0;34m\u001b[0m\u001b[0;34m\u001b[0m\u001b[0m\n\u001b[0m\u001b[1;32m      3\u001b[0m \u001b[0mser\u001b[0m\u001b[0;34m.\u001b[0m\u001b[0mhead\u001b[0m\u001b[0;34m(\u001b[0m\u001b[0;34m)\u001b[0m\u001b[0;34m\u001b[0m\u001b[0;34m\u001b[0m\u001b[0m\n",
            "\u001b[0;31mNameError\u001b[0m: name 'ser' is not defined"
          ]
        }
      ]
    },
    {
      "cell_type": "code",
      "source": [
        "#6. How to get the items of series A not present in series B?\n",
        "# Input\n",
        "ser1 = pd.Series([1, 2, 3, 4, 5])\n",
        "ser2 = pd.Series([4, 5, 6, 7, 8])\n",
        "\n",
        "# Solution\n",
        "ser1[~ser1.isin(ser2)]"
      ],
      "metadata": {
        "id": "-5NEkJiJwUOn"
      },
      "execution_count": null,
      "outputs": []
    },
    {
      "cell_type": "code",
      "source": [
        "#7. How to get the items not common to both series A and series B?\n",
        "ser1 = pd.Series([1, 2, 3, 4, 5])\n",
        "ser2 = pd.Series([4, 5, 6, 7, 8])\n",
        "# Solution\n",
        "ser_u = pd.Series(np.union1d(ser1, ser2))  # union\n",
        "ser_i = pd.Series(np.intersect1d(ser1, ser2))  # intersect\n",
        "ser_u[~ser_u.isin(ser_i)]"
      ],
      "metadata": {
        "id": "MoMUu1_QwURR"
      },
      "execution_count": null,
      "outputs": []
    },
    {
      "cell_type": "code",
      "source": [
        "#8. How to get the minimum, 25th percentile, median, 75th, and max of a numeric series?\n",
        "# Input\n",
        "state = np.random.RandomState(100)\n",
        "ser = pd.Series(state.normal(10, 5, 25))\n",
        "\n",
        "# Solution\n",
        "np.percentile(ser, q=[0, 25, 50, 75, 100])"
      ],
      "metadata": {
        "colab": {
          "base_uri": "https://localhost:8080/"
        },
        "id": "oVL-GuNBwUUG",
        "outputId": "450c6d08-8dbe-426a-d075-01034ebb06a7"
      },
      "execution_count": 6,
      "outputs": [
        {
          "output_type": "execute_result",
          "data": {
            "text/plain": [
              "array([ 1.25117263,  7.70986507, 10.92259345, 13.36360403, 18.0949083 ])"
            ]
          },
          "metadata": {},
          "execution_count": 6
        }
      ]
    },
    {
      "cell_type": "code",
      "source": [
        "#9. How to get frequency counts of unique items of a series?\n",
        "# Input\n",
        "ser = pd.Series(np.take(list('abcdefgh'), np.random.randint(8, size=30)))\n",
        "\n",
        "# Solution\n",
        "ser.value_counts()"
      ],
      "metadata": {
        "colab": {
          "base_uri": "https://localhost:8080/"
        },
        "id": "2xolNLmnwUWx",
        "outputId": "5bc298e6-8599-4a93-a6b6-589e87703fce"
      },
      "execution_count": 7,
      "outputs": [
        {
          "output_type": "execute_result",
          "data": {
            "text/plain": [
              "d    7\n",
              "h    6\n",
              "a    4\n",
              "g    4\n",
              "b    3\n",
              "c    2\n",
              "f    2\n",
              "e    2\n",
              "dtype: int64"
            ]
          },
          "metadata": {},
          "execution_count": 7
        }
      ]
    },
    {
      "cell_type": "code",
      "source": [
        "#10. How to keep only top 2 most frequent values as it is and replace everything else as ‘Other’?\n",
        "# Input\n",
        "np.random.RandomState(100)\n",
        "ser = pd.Series(np.random.randint(1, 5, [12]))\n",
        "\n",
        "# Solution\n",
        "print(\"Top 2 Freq:\", ser.value_counts())\n",
        "ser[~ser.isin(ser.value_counts().index[:2])] = 'Other'\n",
        "ser"
      ],
      "metadata": {
        "colab": {
          "base_uri": "https://localhost:8080/"
        },
        "id": "yMCPr07lwUcm",
        "outputId": "c3428d41-dc77-4f37-890c-fdcf176e011c"
      },
      "execution_count": 8,
      "outputs": [
        {
          "output_type": "stream",
          "name": "stdout",
          "text": [
            "Top 2 Freq: 1    5\n",
            "4    3\n",
            "2    3\n",
            "3    1\n",
            "dtype: int64\n"
          ]
        },
        {
          "output_type": "execute_result",
          "data": {
            "text/plain": [
              "0         4\n",
              "1         4\n",
              "2         1\n",
              "3     Other\n",
              "4         4\n",
              "5     Other\n",
              "6         1\n",
              "7         1\n",
              "8     Other\n",
              "9     Other\n",
              "10        1\n",
              "11        1\n",
              "dtype: object"
            ]
          },
          "metadata": {},
          "execution_count": 8
        }
      ]
    },
    {
      "cell_type": "code",
      "source": [
        "#11. How to bin a numeric series to 10 groups of equal size?\n",
        "# Input\n",
        "ser = pd.Series(np.random.random(20))\n",
        "print(ser.head(10))\n",
        "\n",
        "# Solution\n",
        "pd.qcut(ser, q=[0, .10, .20, .3, .4, .5, .6, .7, .8, .9, 1], \n",
        "        labels=['1st', '2nd', '3rd', '4th', '5th', '6th', '7th', '8th', '9th', '10th']).head()"
      ],
      "metadata": {
        "colab": {
          "base_uri": "https://localhost:8080/"
        },
        "id": "WgJ9sCJYwUfV",
        "outputId": "73ad8c22-2d82-4139-bb64-3da52a4023a1"
      },
      "execution_count": 9,
      "outputs": [
        {
          "output_type": "stream",
          "name": "stdout",
          "text": [
            "0    0.789806\n",
            "1    0.307398\n",
            "2    0.746696\n",
            "3    0.318541\n",
            "4    0.891209\n",
            "5    0.475945\n",
            "6    0.505793\n",
            "7    0.133092\n",
            "8    0.195532\n",
            "9    0.190104\n",
            "dtype: float64\n"
          ]
        },
        {
          "output_type": "execute_result",
          "data": {
            "text/plain": [
              "0     9th\n",
              "1     4th\n",
              "2     8th\n",
              "3     4th\n",
              "4    10th\n",
              "dtype: category\n",
              "Categories (10, object): ['1st' < '2nd' < '3rd' < '4th' ... '7th' < '8th' < '9th' < '10th']"
            ]
          },
          "metadata": {},
          "execution_count": 9
        }
      ]
    },
    {
      "cell_type": "code",
      "source": [
        "#12. How to convert a numpy array to a dataframe of given shape? (L1)\n",
        "# Input\n",
        "ser = pd.Series(np.random.randint(1, 10, 20))\n",
        "print(ser)\n",
        "# Solution\n",
        "df = pd.DataFrame(ser.values.reshape(4,5))\n",
        "print(df)"
      ],
      "metadata": {
        "colab": {
          "base_uri": "https://localhost:8080/"
        },
        "id": "NCfBnDUTwUiO",
        "outputId": "fbb0e6c7-62dc-46a3-bc35-61afc4b7c31f"
      },
      "execution_count": 10,
      "outputs": [
        {
          "output_type": "stream",
          "name": "stdout",
          "text": [
            "0     2\n",
            "1     8\n",
            "2     3\n",
            "3     6\n",
            "4     4\n",
            "5     8\n",
            "6     2\n",
            "7     5\n",
            "8     6\n",
            "9     1\n",
            "10    9\n",
            "11    4\n",
            "12    8\n",
            "13    3\n",
            "14    1\n",
            "15    4\n",
            "16    2\n",
            "17    4\n",
            "18    5\n",
            "19    4\n",
            "dtype: int64\n",
            "   0  1  2  3  4\n",
            "0  2  8  3  6  4\n",
            "1  8  2  5  6  1\n",
            "2  9  4  8  3  1\n",
            "3  4  2  4  5  4\n"
          ]
        }
      ]
    },
    {
      "cell_type": "code",
      "source": [
        "#13. How to find the positions of numbers that are multiples of 3 from a series?\n",
        "# Input\n",
        "ser = pd.Series(np.random.randint(1, 10, 7))\n",
        "ser\n",
        "\n",
        "# Solution\n",
        "print(ser)\n",
        "result = np.where(ser % 3==0)\n",
        "result"
      ],
      "metadata": {
        "colab": {
          "base_uri": "https://localhost:8080/"
        },
        "id": "8fYHAK_S76K0",
        "outputId": "f245e957-bb06-4828-fa7e-c5e468216ff5"
      },
      "execution_count": 11,
      "outputs": [
        {
          "output_type": "stream",
          "name": "stdout",
          "text": [
            "0    3\n",
            "1    1\n",
            "2    6\n",
            "3    6\n",
            "4    6\n",
            "5    8\n",
            "6    1\n",
            "dtype: int64\n"
          ]
        },
        {
          "output_type": "execute_result",
          "data": {
            "text/plain": [
              "(array([0, 2, 3, 4]),)"
            ]
          },
          "metadata": {},
          "execution_count": 11
        }
      ]
    },
    {
      "cell_type": "code",
      "source": [
        "#14. How to extract items at given positions from a series\n",
        "# Input\n",
        "ser = pd.Series(list('abcdefghijklmnopqrstuvwxyz'))\n",
        "pos = [0, 4, 8, 14, 20]\n",
        "\n",
        "# Solution\n",
        "ser.take(pos)"
      ],
      "metadata": {
        "colab": {
          "base_uri": "https://localhost:8080/"
        },
        "id": "0-WjLkrU8PCY",
        "outputId": "ba09421f-0fb6-4d2b-84b8-3248beae7288"
      },
      "execution_count": 12,
      "outputs": [
        {
          "output_type": "execute_result",
          "data": {
            "text/plain": [
              "0     a\n",
              "4     e\n",
              "8     i\n",
              "14    o\n",
              "20    u\n",
              "dtype: object"
            ]
          },
          "metadata": {},
          "execution_count": 12
        }
      ]
    },
    {
      "cell_type": "code",
      "source": [
        "#15. How to stack two series vertically and horizontally ?\n",
        "# Input\n",
        "ser1 = pd.Series(range(5))\n",
        "ser2 = pd.Series(list('abcde'))\n",
        "\n",
        "# Output\n",
        "# Vertical\n",
        "ser1.append(ser2)\n",
        "\n",
        "# Horizontal\n",
        "df = pd.concat([ser1, ser2], axis=1)\n",
        "print(df)"
      ],
      "metadata": {
        "colab": {
          "base_uri": "https://localhost:8080/"
        },
        "id": "l6wQY29S805B",
        "outputId": "c5eb49c1-755d-4b12-b0c3-6cc173ee7383"
      },
      "execution_count": 13,
      "outputs": [
        {
          "output_type": "stream",
          "name": "stdout",
          "text": [
            "   0  1\n",
            "0  0  a\n",
            "1  1  b\n",
            "2  2  c\n",
            "3  3  d\n",
            "4  4  e\n"
          ]
        }
      ]
    },
    {
      "cell_type": "code",
      "source": [
        "#16. How to get the positions of items of series A in another series B?\n",
        "# Input\n",
        "ser1 = pd.Series([10, 9, 6, 5, 3, 1, 12, 8, 13])\n",
        "ser2 = pd.Series([1, 3, 10, 13])\n",
        "print(ser1)\n",
        "print(ser2)\n",
        "# Solution 1\n",
        "[np.where(i == ser1)[0].tolist()[0] for i in ser2]\n",
        "# Solution 2\n",
        "[pd.Index(ser1).get_loc(i) for i in ser2]\n"
      ],
      "metadata": {
        "colab": {
          "base_uri": "https://localhost:8080/"
        },
        "id": "otwOKErq-GyY",
        "outputId": "625a85bd-b14b-4506-a486-6199a55c7a88"
      },
      "execution_count": 14,
      "outputs": [
        {
          "output_type": "stream",
          "name": "stdout",
          "text": [
            "0    10\n",
            "1     9\n",
            "2     6\n",
            "3     5\n",
            "4     3\n",
            "5     1\n",
            "6    12\n",
            "7     8\n",
            "8    13\n",
            "dtype: int64\n",
            "0     1\n",
            "1     3\n",
            "2    10\n",
            "3    13\n",
            "dtype: int64\n"
          ]
        },
        {
          "output_type": "execute_result",
          "data": {
            "text/plain": [
              "[5, 4, 0, 8]"
            ]
          },
          "metadata": {},
          "execution_count": 14
        }
      ]
    },
    {
      "cell_type": "code",
      "source": [
        "#17. How to compute the mean squared error on a truth and predicted series?\n",
        "# Input\n",
        "truth = pd.Series(range(10))\n",
        "pred = pd.Series(range(10)) + np.random.random(10)\n",
        "\n",
        "# Solution\n",
        "np.mean((truth-pred)**2)"
      ],
      "metadata": {
        "colab": {
          "base_uri": "https://localhost:8080/"
        },
        "id": "v4RZ1CNo-7_p",
        "outputId": "bea4a2ac-6388-4ba5-f1df-58db4822bce2"
      },
      "execution_count": 15,
      "outputs": [
        {
          "output_type": "execute_result",
          "data": {
            "text/plain": [
              "0.419654473789171"
            ]
          },
          "metadata": {},
          "execution_count": 15
        }
      ]
    },
    {
      "cell_type": "code",
      "source": [
        "#18. How to convert the first character of each element in a series to uppercase?\n",
        "# Input\n",
        "ser = pd.Series(['how', 'to', 'kick', 'ass?'])\n",
        "\n",
        "# Solution 1\n",
        "ser.map(lambda x: x.title())\n",
        "\n",
        "# Solution 2\n",
        "ser.map(lambda x: x[0].upper() + x[1:])\n",
        "\n",
        "# Solution 3\n",
        "pd.Series([i.title() for i in ser])"
      ],
      "metadata": {
        "colab": {
          "base_uri": "https://localhost:8080/"
        },
        "id": "0iEXajVZ_Yv8",
        "outputId": "19f0a55b-e516-4c73-955a-3837f6414fe4"
      },
      "execution_count": 16,
      "outputs": [
        {
          "output_type": "execute_result",
          "data": {
            "text/plain": [
              "0     How\n",
              "1      To\n",
              "2    Kick\n",
              "3    Ass?\n",
              "dtype: object"
            ]
          },
          "metadata": {},
          "execution_count": 16
        }
      ]
    },
    {
      "cell_type": "code",
      "source": [
        "#19. How to calculate the number of characters in each word in a series?\n",
        "# Input\n",
        "ser = pd.Series(['how', 'to', 'kick', 'ass?'])\n",
        "\n",
        "# Solution\n",
        "ser.map(lambda x: len(x))"
      ],
      "metadata": {
        "colab": {
          "base_uri": "https://localhost:8080/"
        },
        "id": "V2d_GiFs_gMY",
        "outputId": "3c9bc19b-8859-4d69-eec5-ccc2c03091f4"
      },
      "execution_count": 17,
      "outputs": [
        {
          "output_type": "execute_result",
          "data": {
            "text/plain": [
              "0    3\n",
              "1    2\n",
              "2    4\n",
              "3    4\n",
              "dtype: int64"
            ]
          },
          "metadata": {},
          "execution_count": 17
        }
      ]
    },
    {
      "cell_type": "code",
      "source": [
        "#20. How to compute difference of differences between consequtive numbers of a series?\n",
        "# Input\n",
        "ser = pd.Series([1, 3, 6, 10, 15, 21, 27, 35])\n",
        "\n",
        "# Solution\n",
        "print(ser.diff().tolist())\n",
        "print(ser.diff().diff().tolist())"
      ],
      "metadata": {
        "colab": {
          "base_uri": "https://localhost:8080/"
        },
        "id": "gBJ1ihC2BZtP",
        "outputId": "a92c6da9-c555-4e93-868e-3a6db81f15bc"
      },
      "execution_count": 18,
      "outputs": [
        {
          "output_type": "stream",
          "name": "stdout",
          "text": [
            "[nan, 2.0, 3.0, 4.0, 5.0, 6.0, 6.0, 8.0]\n",
            "[nan, nan, 1.0, 1.0, 1.0, 1.0, 0.0, 2.0]\n"
          ]
        }
      ]
    },
    {
      "cell_type": "code",
      "source": [
        "#21. How to convert a series of date-strings to a timeseries?\n",
        "# Input\n",
        "ser = pd.Series(['01 Jan 2010', '02-02-2011', '20120303', '2013/04/04', '2014-05-05', '2015-06-06T12:20'])\n",
        "\n",
        "# Solution 1\n",
        "from dateutil.parser import parse\n",
        "ser.map(lambda x: parse(x))\n",
        "\n",
        "# Solution 2\n",
        "pd.to_datetime(ser)"
      ],
      "metadata": {
        "colab": {
          "base_uri": "https://localhost:8080/"
        },
        "id": "1YFlWMb5BiL9",
        "outputId": "f6cd0198-fd0f-447e-accd-faa1e19249b6"
      },
      "execution_count": 19,
      "outputs": [
        {
          "output_type": "execute_result",
          "data": {
            "text/plain": [
              "0   2010-01-01 00:00:00\n",
              "1   2011-02-02 00:00:00\n",
              "2   2012-03-03 00:00:00\n",
              "3   2013-04-04 00:00:00\n",
              "4   2014-05-05 00:00:00\n",
              "5   2015-06-06 12:20:00\n",
              "dtype: datetime64[ns]"
            ]
          },
          "metadata": {},
          "execution_count": 19
        }
      ]
    },
    {
      "cell_type": "code",
      "source": [
        "#22. How to get the day of month, week number, day of year and day of week from a series of date strings?\n",
        "# Input\n",
        "ser = pd.Series(['01 Jan 2010', '02-02-2011', '20120303', '2013/04/04', '2014-05-05', '2015-06-06T12:20'])\n",
        "\n",
        "# Solution\n",
        "from dateutil.parser import parse\n",
        "ser_ts = ser.map(lambda x: parse(x))\n",
        "\n",
        "# day of month\n",
        "print(\"Date: \", ser_ts.dt.day.tolist())\n",
        "\n",
        "# week number\n",
        "print(\"Week number: \", ser_ts.dt.weekofyear.tolist())\n",
        "\n",
        "# day of year\n",
        "print(\"Day number of year: \", ser_ts.dt.dayofyear.tolist())\n",
        "\n",
        "# day of week\n",
        "print(\"Day of week: \", ser_ts.dt.day_of_week.to_list())\n",
        "\n",
        "\n"
      ],
      "metadata": {
        "colab": {
          "base_uri": "https://localhost:8080/"
        },
        "id": "k04xHbVkB9QS",
        "outputId": "233fa39b-750f-43f8-b509-862216863ca9"
      },
      "execution_count": 20,
      "outputs": [
        {
          "output_type": "stream",
          "name": "stdout",
          "text": [
            "Date:  [1, 2, 3, 4, 5, 6]\n",
            "Week number:  [53, 5, 9, 14, 19, 23]\n",
            "Day number of year:  [1, 33, 63, 94, 125, 157]\n",
            "Day of week:  [4, 2, 5, 3, 0, 5]\n"
          ]
        },
        {
          "output_type": "stream",
          "name": "stderr",
          "text": [
            "/usr/local/lib/python3.7/dist-packages/ipykernel_launcher.py:13: FutureWarning: Series.dt.weekofyear and Series.dt.week have been deprecated.  Please use Series.dt.isocalendar().week instead.\n",
            "  del sys.path[0]\n"
          ]
        }
      ]
    },
    {
      "cell_type": "code",
      "source": [
        "#23. How to convert year-month string to dates corresponding to the 4th day of the month?\n",
        "import pandas as pd\n",
        "# Input\n",
        "ser = pd.Series(['Jan 2010', 'Feb 2011', 'Mar 2012'])\n",
        "\n",
        "# Solution 1\n",
        "from dateutil.parser import parse\n",
        "# Parse the date\n",
        "ser_ts = ser.map(lambda x: parse(x))\n",
        "\n",
        "# Construct date string with date as 4\n",
        "ser_datestr = ser_ts.dt.year.astype('str') + '-' + ser_ts.dt.month.astype('str') + '-' + '04'\n",
        "\n",
        "# Format it.\n",
        "[parse(i).strftime('%Y-%m-%d') for i in ser_datestr]\n",
        "\n",
        "# Solution 2\n",
        "ser.map(lambda x: parse('04 ' + x))"
      ],
      "metadata": {
        "colab": {
          "base_uri": "https://localhost:8080/"
        },
        "id": "46flKwHRCGDi",
        "outputId": "4124afe2-7c0c-4766-91b6-7959aa4780d5"
      },
      "execution_count": 21,
      "outputs": [
        {
          "output_type": "execute_result",
          "data": {
            "text/plain": [
              "0   2010-01-04\n",
              "1   2011-02-04\n",
              "2   2012-03-04\n",
              "dtype: datetime64[ns]"
            ]
          },
          "metadata": {},
          "execution_count": 21
        }
      ]
    },
    {
      "cell_type": "code",
      "source": [
        "#24. How to filter words that contain atleast 2 vowels from a series?\n",
        "# Input\n",
        "ser = pd.Series(['Apple', 'Orange', 'Plan', 'Python', 'Money'])\n",
        "\n",
        "# Solution\n",
        "from collections import Counter\n",
        "mask = ser.map(lambda x: sum([Counter(x.lower()).get(i, 0) for i in list('aeiou')]) >= 2)\n",
        "ser[mask]"
      ],
      "metadata": {
        "colab": {
          "base_uri": "https://localhost:8080/"
        },
        "id": "kzEJOPsZC6Ou",
        "outputId": "fde56217-ffad-4b01-e5d6-395c85ec70cb"
      },
      "execution_count": 22,
      "outputs": [
        {
          "output_type": "execute_result",
          "data": {
            "text/plain": [
              "0     Apple\n",
              "1    Orange\n",
              "4     Money\n",
              "dtype: object"
            ]
          },
          "metadata": {},
          "execution_count": 22
        }
      ]
    },
    {
      "cell_type": "code",
      "source": [
        "#25. How to filter valid emails from a series?\n",
        "# Input\n",
        "emails = pd.Series(['buying books at amazom.com', 'rameses@egypt.com', 'matt@t.co', 'narendra@modi.com'])\n",
        "\n",
        "# Solution 1 (as series of strings)\n",
        "import re\n",
        "pattern ='[A-Za-z0-9._%+-]+@[A-Za-z0-9.-]+\\\\.[A-Za-z]{2,4}'\n",
        "mask = emails.map(lambda x: bool(re.match(pattern, x)))\n",
        "emails[mask]\n",
        "\n",
        "# Solution 2 (as series of list)\n",
        "emails.str.findall(pattern, flags=re.IGNORECASE)\n",
        "\n",
        "# Solution 3 (as list)\n",
        "[x[0] for x in [re.findall(pattern, email) for email in emails] if len(x) > 0]"
      ],
      "metadata": {
        "colab": {
          "base_uri": "https://localhost:8080/"
        },
        "id": "Hn4fIksHDN_d",
        "outputId": "6f935b92-4159-4913-a9f0-2f2b0287ead1"
      },
      "execution_count": 23,
      "outputs": [
        {
          "output_type": "execute_result",
          "data": {
            "text/plain": [
              "['rameses@egypt.com', 'matt@t.co', 'narendra@modi.com']"
            ]
          },
          "metadata": {},
          "execution_count": 23
        }
      ]
    },
    {
      "cell_type": "code",
      "source": [
        "#26. How to get the mean of a series grouped by another series?\n",
        "# Input\n",
        "fruit = pd.Series(np.random.choice(['apple', 'banana', 'carrot'], 10))\n",
        "weights = pd.Series(np.linspace(1, 10, 10))\n",
        "print(fruit.tolist())\n",
        "print(weights.tolist())\n",
        "\n",
        "# Solution\n",
        "weights.groupby(fruit).mean()"
      ],
      "metadata": {
        "colab": {
          "base_uri": "https://localhost:8080/"
        },
        "id": "fIY8ebzHaVP7",
        "outputId": "dee76b0b-9d9b-4794-b76e-4bae4e8fcd6a"
      },
      "execution_count": 24,
      "outputs": [
        {
          "output_type": "stream",
          "name": "stdout",
          "text": [
            "['carrot', 'banana', 'apple', 'apple', 'apple', 'banana', 'banana', 'carrot', 'apple', 'banana']\n",
            "[1.0, 2.0, 3.0, 4.0, 5.0, 6.0, 7.0, 8.0, 9.0, 10.0]\n"
          ]
        },
        {
          "output_type": "execute_result",
          "data": {
            "text/plain": [
              "apple     5.25\n",
              "banana    6.25\n",
              "carrot    4.50\n",
              "dtype: float64"
            ]
          },
          "metadata": {},
          "execution_count": 24
        }
      ]
    },
    {
      "cell_type": "code",
      "source": [
        "#27. How to compute the euclidean distance between two series?\n",
        "p = pd.Series([1, 2, 3, 4, 5, 6, 7, 8, 9, 10])\n",
        "q = pd.Series([10, 9, 8, 7, 6, 5, 4, 3, 2, 1])\n",
        "\n",
        "# Solution \n",
        "sum((p - q)**2)**.5\n",
        "\n",
        "# Solution (using func)\n",
        "np.linalg.norm(p-q)"
      ],
      "metadata": {
        "colab": {
          "base_uri": "https://localhost:8080/"
        },
        "id": "R8fm5-EUanSY",
        "outputId": "06a3915b-b58c-46e8-ad3b-d3571f479671"
      },
      "execution_count": 25,
      "outputs": [
        {
          "output_type": "execute_result",
          "data": {
            "text/plain": [
              "18.16590212458495"
            ]
          },
          "metadata": {},
          "execution_count": 25
        }
      ]
    },
    {
      "cell_type": "code",
      "source": [
        "#28. How to find all the local maxima (or peaks) in a numeric series?\n",
        "# Input\n",
        "ser = pd.Series([2, 10, 3, 4, 9, 10, 2, 7, 3])\n",
        "\n",
        "# Solution\n",
        "dd = np.diff(np.sign(np.diff(ser)))\n",
        "peak_locs = np.where(dd == -2)[0] + 1\n",
        "peak_locs"
      ],
      "metadata": {
        "colab": {
          "base_uri": "https://localhost:8080/"
        },
        "id": "0l5nBJHnbEvQ",
        "outputId": "24d0b3b2-aded-4c40-b6fe-a073bd1b811b"
      },
      "execution_count": 26,
      "outputs": [
        {
          "output_type": "execute_result",
          "data": {
            "text/plain": [
              "array([1, 5, 7])"
            ]
          },
          "metadata": {},
          "execution_count": 26
        }
      ]
    },
    {
      "cell_type": "code",
      "source": [
        "#29 How to replace missing spaces in a string with the least frequent character?\n",
        "# Input\n",
        "my_str = 'dbc deb abed gade'\n",
        "\n",
        "# Solution\n",
        "ser = pd.Series(list('dbc deb abed gade'))\n",
        "freq = ser.value_counts()\n",
        "print(freq)\n",
        "least_freq = freq.dropna().index[-1]\n",
        "res = \"\".join(ser.replace(' ', least_freq))\n",
        "res"
      ],
      "metadata": {
        "colab": {
          "base_uri": "https://localhost:8080/",
          "height": 173
        },
        "id": "birE6IJQbXFD",
        "outputId": "e188bcb2-f53b-4d40-b2e1-56d8e259ba12"
      },
      "execution_count": 27,
      "outputs": [
        {
          "output_type": "stream",
          "name": "stdout",
          "text": [
            "d    4\n",
            "b    3\n",
            "     3\n",
            "e    3\n",
            "a    2\n",
            "c    1\n",
            "g    1\n",
            "dtype: int64\n"
          ]
        },
        {
          "output_type": "execute_result",
          "data": {
            "application/vnd.google.colaboratory.intrinsic+json": {
              "type": "string"
            },
            "text/plain": [
              "'dbcgdebgabedggade'"
            ]
          },
          "metadata": {},
          "execution_count": 27
        }
      ]
    },
    {
      "cell_type": "code",
      "source": [
        "#30. How to create a TimeSeries starting ‘2000-01-01’ and 10 weekends (saturdays) after that having random numbers as values?\n",
        "# Solution\n",
        "ser = pd.Series(np.random.randint(1,10,10), pd.date_range('2000-01-01', periods=10, freq='W-SAT'))\n",
        "ser"
      ],
      "metadata": {
        "colab": {
          "base_uri": "https://localhost:8080/"
        },
        "id": "FsDpSsC1cxtF",
        "outputId": "35d611f2-057f-41cd-b978-64cbb9695f4e"
      },
      "execution_count": 28,
      "outputs": [
        {
          "output_type": "execute_result",
          "data": {
            "text/plain": [
              "2000-01-01    7\n",
              "2000-01-08    6\n",
              "2000-01-15    7\n",
              "2000-01-22    8\n",
              "2000-01-29    4\n",
              "2000-02-05    3\n",
              "2000-02-12    1\n",
              "2000-02-19    1\n",
              "2000-02-26    7\n",
              "2000-03-04    6\n",
              "Freq: W-SAT, dtype: int64"
            ]
          },
          "metadata": {},
          "execution_count": 28
        }
      ]
    },
    {
      "cell_type": "code",
      "source": [
        "#31. How to fill an intermittent time series so all missing dates show up with values of previous non-missing date?\n",
        "# Input\n",
        "ser = pd.Series([1,10,3, np.nan], index=pd.to_datetime(['2000-01-01', '2000-01-03', '2000-01-06', '2000-01-08']))\n",
        "\n",
        "# Solution\n",
        "ser.resample('D').ffill()  # fill with previous value\n",
        "\n",
        "# Alternatives\n",
        "ser.resample('D').bfill()  # fill with next value\n",
        "ser.resample('D').bfill().ffill()  # fill next else prev value"
      ],
      "metadata": {
        "colab": {
          "base_uri": "https://localhost:8080/"
        },
        "id": "gamq5hEndSL3",
        "outputId": "eb22f59b-0a15-4dd4-83dd-41617c833792"
      },
      "execution_count": 29,
      "outputs": [
        {
          "output_type": "execute_result",
          "data": {
            "text/plain": [
              "2000-01-01     1.0\n",
              "2000-01-02    10.0\n",
              "2000-01-03    10.0\n",
              "2000-01-04     3.0\n",
              "2000-01-05     3.0\n",
              "2000-01-06     3.0\n",
              "2000-01-07     3.0\n",
              "2000-01-08     3.0\n",
              "Freq: D, dtype: float64"
            ]
          },
          "metadata": {},
          "execution_count": 29
        }
      ]
    },
    {
      "cell_type": "code",
      "source": [
        "#32. How to compute the autocorrelations of a numeric series?\n",
        "# Input\n",
        "ser = pd.Series(np.arange(20) + np.random.normal(1, 10, 20))\n",
        "print(ser)\n",
        "# Solution\n",
        "autocorrelations = [ser.autocorr(i).round(2) for i in range(11)]\n",
        "print(autocorrelations[1:])\n",
        "print('Lag having highest correlation: ', np.argmax(np.abs(autocorrelations[1:]))+1)"
      ],
      "metadata": {
        "colab": {
          "base_uri": "https://localhost:8080/"
        },
        "id": "fGgw67M5dtA9",
        "outputId": "88d74b86-764c-41f4-95ed-10b307f61cdc"
      },
      "execution_count": 33,
      "outputs": [
        {
          "output_type": "stream",
          "name": "stdout",
          "text": [
            "0     -1.916373\n",
            "1      0.397661\n",
            "2     -2.230446\n",
            "3     29.490942\n",
            "4      3.411988\n",
            "5     13.644542\n",
            "6     12.080996\n",
            "7     21.901739\n",
            "8      6.730772\n",
            "9     19.495241\n",
            "10    -4.770292\n",
            "11    23.528087\n",
            "12    32.587260\n",
            "13    22.926126\n",
            "14     3.840161\n",
            "15    19.902577\n",
            "16    41.982091\n",
            "17    18.479277\n",
            "18    12.308592\n",
            "19    37.984899\n",
            "dtype: float64\n",
            "[0.02, -0.05, 0.13, 0.65, -0.06, 0.12, 0.0, 0.4, 0.19, 0.34]\n",
            "Lag having highest correlation:  4\n"
          ]
        }
      ]
    },
    {
      "cell_type": "code",
      "source": [
        "#33. How to import only every nth row from a csv file to create a dataframe?\n",
        "# Solution 1: Use chunks and for-loop\n",
        "df = pd.read_csv('https://raw.githubusercontent.com/selva86/datasets/master/BostonHousing.csv', chunksize=50)\n",
        "df2 = pd.DataFrame()\n",
        "for chunk in df:\n",
        "    df2 = df2.append(chunk.iloc[0,:])\n",
        "\n",
        "\n",
        "# Solution 2: Use chunks and list comprehension\n",
        "df = pd.read_csv('https://raw.githubusercontent.com/selva86/datasets/master/BostonHousing.csv', chunksize=50)\n",
        "df2 = pd.concat([chunk.iloc[0] for chunk in df], axis=1)\n",
        "df2 = df2.transpose()\n",
        "\n",
        "# Solution 3: Use csv reader\n",
        "import csv          \n",
        "with open('BostonHousing.csv', 'r') as f:\n",
        "    reader = csv.reader(f)\n",
        "    out = []\n",
        "    for i, row in enumerate(reader):\n",
        "        if i%50 == 0:\n",
        "            out.append(row)\n",
        "\n",
        "df2 = pd.DataFrame(out[1:], columns=out[0])\n",
        "print(df2.head())"
      ],
      "metadata": {
        "colab": {
          "base_uri": "https://localhost:8080/",
          "height": 234
        },
        "id": "PnSrzXvxMYgO",
        "outputId": "fe9e1561-adcc-4974-87b0-55bdeeab666b"
      },
      "execution_count": 35,
      "outputs": [
        {
          "output_type": "error",
          "ename": "FileNotFoundError",
          "evalue": "ignored",
          "traceback": [
            "\u001b[0;31m---------------------------------------------------------------------------\u001b[0m",
            "\u001b[0;31mFileNotFoundError\u001b[0m                         Traceback (most recent call last)",
            "\u001b[0;32m<ipython-input-35-d67abbfd734c>\u001b[0m in \u001b[0;36m<module>\u001b[0;34m()\u001b[0m\n\u001b[1;32m     14\u001b[0m \u001b[0;31m# Solution 3: Use csv reader\u001b[0m\u001b[0;34m\u001b[0m\u001b[0;34m\u001b[0m\u001b[0;34m\u001b[0m\u001b[0m\n\u001b[1;32m     15\u001b[0m \u001b[0;32mimport\u001b[0m \u001b[0mcsv\u001b[0m\u001b[0;34m\u001b[0m\u001b[0;34m\u001b[0m\u001b[0m\n\u001b[0;32m---> 16\u001b[0;31m \u001b[0;32mwith\u001b[0m \u001b[0mopen\u001b[0m\u001b[0;34m(\u001b[0m\u001b[0;34m'BostonHousing.csv'\u001b[0m\u001b[0;34m,\u001b[0m \u001b[0;34m'r'\u001b[0m\u001b[0;34m)\u001b[0m \u001b[0;32mas\u001b[0m \u001b[0mf\u001b[0m\u001b[0;34m:\u001b[0m\u001b[0;34m\u001b[0m\u001b[0;34m\u001b[0m\u001b[0m\n\u001b[0m\u001b[1;32m     17\u001b[0m     \u001b[0mreader\u001b[0m \u001b[0;34m=\u001b[0m \u001b[0mcsv\u001b[0m\u001b[0;34m.\u001b[0m\u001b[0mreader\u001b[0m\u001b[0;34m(\u001b[0m\u001b[0mf\u001b[0m\u001b[0;34m)\u001b[0m\u001b[0;34m\u001b[0m\u001b[0;34m\u001b[0m\u001b[0m\n\u001b[1;32m     18\u001b[0m     \u001b[0mout\u001b[0m \u001b[0;34m=\u001b[0m \u001b[0;34m[\u001b[0m\u001b[0;34m]\u001b[0m\u001b[0;34m\u001b[0m\u001b[0;34m\u001b[0m\u001b[0m\n",
            "\u001b[0;31mFileNotFoundError\u001b[0m: [Errno 2] No such file or directory: 'BostonHousing.csv'"
          ]
        }
      ]
    },
    {
      "cell_type": "code",
      "source": [
        "#34. How to change column values when importing csv to a dataframe?\n",
        "# Solution 1: Using converter parameter\n",
        "df = pd.read_csv('https://raw.githubusercontent.com/selva86/datasets/master/BostonHousing.csv', \n",
        "                 converters={'medv': lambda x: 'High' if float(x) > 25 else 'Low'})\n",
        "\n",
        "\n",
        "'''# Solution 2: Using csv reader\n",
        "import csv\n",
        "with open('BostonHousing.csv', 'r') as f:\n",
        "    reader = csv.reader(f)\n",
        "    out = []\n",
        "    for i, row in enumerate(reader):\n",
        "        if i > 0:\n",
        "            row[13] = 'High' if float(row[13]) > 25 else 'Low'\n",
        "        out.append(row)\n",
        "\n",
        "df = pd.DataFrame(out[1:], columns=out[0])'''\n",
        "print(df.head())"
      ],
      "metadata": {
        "colab": {
          "base_uri": "https://localhost:8080/"
        },
        "id": "GNhJ941lMy5R",
        "outputId": "3d36342e-33b6-4196-e6cb-e7b9caa5b7d7"
      },
      "execution_count": 41,
      "outputs": [
        {
          "output_type": "stream",
          "name": "stdout",
          "text": [
            "      crim    zn  indus  chas    nox     rm   age     dis  rad  tax  ptratio  \\\n",
            "0  0.00632  18.0   2.31     0  0.538  6.575  65.2  4.0900    1  296     15.3   \n",
            "1  0.02731   0.0   7.07     0  0.469  6.421  78.9  4.9671    2  242     17.8   \n",
            "2  0.02729   0.0   7.07     0  0.469  7.185  61.1  4.9671    2  242     17.8   \n",
            "3  0.03237   0.0   2.18     0  0.458  6.998  45.8  6.0622    3  222     18.7   \n",
            "4  0.06905   0.0   2.18     0  0.458  7.147  54.2  6.0622    3  222     18.7   \n",
            "\n",
            "        b  lstat  medv  \n",
            "0  396.90   4.98   Low  \n",
            "1  396.90   9.14   Low  \n",
            "2  392.83   4.03  High  \n",
            "3  394.63   2.94  High  \n",
            "4  396.90   5.33  High  \n"
          ]
        }
      ]
    },
    {
      "cell_type": "code",
      "source": [
        "#35. How to create a dataframe with rows as strides from a given series?\n",
        "L = pd.Series(range(15))\n",
        "\n",
        "def gen_strides(a, stride_len=5, window_len=5):\n",
        "    n_strides = ((a.size-window_len)//stride_len) + 1\n",
        "    return np.array([a[s:(s+window_len)] for s in np.arange(0, a.size, stride_len)[:n_strides]])\n",
        "\n",
        "gen_strides(L, stride_len=2, window_len=4)"
      ],
      "metadata": {
        "colab": {
          "base_uri": "https://localhost:8080/"
        },
        "id": "TJ4eG32UNE9N",
        "outputId": "71253fc7-a430-4850-aca2-7653817ab2da"
      },
      "execution_count": 37,
      "outputs": [
        {
          "output_type": "execute_result",
          "data": {
            "text/plain": [
              "array([[ 0,  1,  2,  3],\n",
              "       [ 2,  3,  4,  5],\n",
              "       [ 4,  5,  6,  7],\n",
              "       [ 6,  7,  8,  9],\n",
              "       [ 8,  9, 10, 11],\n",
              "       [10, 11, 12, 13]])"
            ]
          },
          "metadata": {},
          "execution_count": 37
        }
      ]
    },
    {
      "cell_type": "code",
      "source": [
        "#36. How to import only specified columns from a csv file?\n",
        "df2 = pd.read_csv('https://raw.githubusercontent.com/selva86/datasets/master/BostonHousing.csv', usecols=['crim', 'medv'])\n",
        "print(df2.head())"
      ],
      "metadata": {
        "colab": {
          "base_uri": "https://localhost:8080/"
        },
        "id": "_g094Mj8NPzQ",
        "outputId": "90893ce2-63e4-4ebc-b46b-6c38e4d40fd6"
      },
      "execution_count": 39,
      "outputs": [
        {
          "output_type": "stream",
          "name": "stdout",
          "text": [
            "      crim  medv\n",
            "0  0.00632  24.0\n",
            "1  0.02731  21.6\n",
            "2  0.02729  34.7\n",
            "3  0.03237  33.4\n",
            "4  0.06905  36.2\n"
          ]
        }
      ]
    },
    {
      "cell_type": "code",
      "source": [
        "#37. How to get the nrows, ncolumns, datatype, summary stats of each column of a dataframe? Also get the array and list equivalent.\n",
        "df = pd.read_csv('https://raw.githubusercontent.com/selva86/datasets/master/Cars93_miss.csv')\n",
        "\n",
        "#  number of rows and columns\n",
        "print(df.shape)\n",
        "\n",
        "# datatypes\n",
        "print(df.dtypes)\n",
        "\n",
        "# how many columns under each dtype\n",
        "print(df.dtypes.value_counts())\n",
        "print(df.dtypes.value_counts())\n",
        "\n",
        "# summary statistics\n",
        "df_stats = df.describe()\n",
        "\n",
        "# numpy array \n",
        "df_arr = df.values\n",
        "\n",
        "# list\n",
        "df_list = df.values.tolist()"
      ],
      "metadata": {
        "colab": {
          "base_uri": "https://localhost:8080/"
        },
        "id": "WY6bFm34NYTL",
        "outputId": "d6b2c0af-dde7-4fa6-d56a-df7a3a5dae61"
      },
      "execution_count": 44,
      "outputs": [
        {
          "output_type": "stream",
          "name": "stdout",
          "text": [
            "(93, 27)\n",
            "Manufacturer           object\n",
            "Model                  object\n",
            "Type                   object\n",
            "Min.Price             float64\n",
            "Price                 float64\n",
            "Max.Price             float64\n",
            "MPG.city              float64\n",
            "MPG.highway           float64\n",
            "AirBags                object\n",
            "DriveTrain             object\n",
            "Cylinders              object\n",
            "EngineSize            float64\n",
            "Horsepower            float64\n",
            "RPM                   float64\n",
            "Rev.per.mile          float64\n",
            "Man.trans.avail        object\n",
            "Fuel.tank.capacity    float64\n",
            "Passengers            float64\n",
            "Length                float64\n",
            "Wheelbase             float64\n",
            "Width                 float64\n",
            "Turn.circle           float64\n",
            "Rear.seat.room        float64\n",
            "Luggage.room          float64\n",
            "Weight                float64\n",
            "Origin                 object\n",
            "Make                   object\n",
            "dtype: object\n",
            "float64    18\n",
            "object      9\n",
            "dtype: int64\n",
            "float64    18\n",
            "object      9\n",
            "dtype: int64\n"
          ]
        }
      ]
    },
    {
      "cell_type": "code",
      "source": [
        "#38. How to extract the row and column number of a particular cell with given criterion?\n",
        "# Input\n",
        "df = pd.read_csv('https://raw.githubusercontent.com/selva86/datasets/master/Cars93_miss.csv')\n",
        "\n",
        "# Solution\n",
        "# Get Manufacturer with highest price\n",
        "df.loc[df.Price == np.max(df.Price), ['Manufacturer', 'Model', 'Type']]\n",
        "\n",
        "# Get Row and Column number\n",
        "row, col = np.where(df.values == np.max(df.Price))\n",
        "\n",
        "# Get the value\n",
        "df.iat[row[0], col[0]]\n",
        "df.iloc[row[0], col[0]]\n",
        "\n",
        "# Alternates\n",
        "df.at[row[0], 'Price']\n",
        "df._get_value(row[0], 'Price')\n",
        "\n",
        "\n",
        "\n",
        "# The difference between `iat` - `iloc` vs `at` - `loc` is:\n",
        "# `iat` snd `iloc` accepts row and column numbers. \n",
        "# Whereas `at` and `loc` accepts index and column names.\n"
      ],
      "metadata": {
        "colab": {
          "base_uri": "https://localhost:8080/"
        },
        "id": "Z-3yIolhNv7C",
        "outputId": "57d6bece-49df-4d29-dd60-ebce351097e4"
      },
      "execution_count": 47,
      "outputs": [
        {
          "output_type": "execute_result",
          "data": {
            "text/plain": [
              "61.9"
            ]
          },
          "metadata": {},
          "execution_count": 47
        }
      ]
    },
    {
      "cell_type": "code",
      "source": [
        "#39. How to rename a specific columns in a dataframe?\n",
        "# Input\n",
        "df = pd.read_csv('https://raw.githubusercontent.com/selva86/datasets/master/Cars93_miss.csv')\n",
        "\n",
        "# Solution\n",
        "# Step 1:\n",
        "df=df.rename(columns = {'Type':'CarType'})\n",
        "# or\n",
        "df.columns.values[2] = \"CarType\"\n",
        "\n",
        "# Step 2:\n",
        "df.columns = df.columns.map(lambda x: x.replace('.', '_'))\n",
        "print(df.columns)"
      ],
      "metadata": {
        "colab": {
          "base_uri": "https://localhost:8080/"
        },
        "id": "hQOn9-yTOBcg",
        "outputId": "a302066d-61d0-410f-df0e-e31057c12a94"
      },
      "execution_count": 48,
      "outputs": [
        {
          "output_type": "stream",
          "name": "stdout",
          "text": [
            "Index(['Manufacturer', 'Model', 'CarType', 'Min_Price', 'Price', 'Max_Price',\n",
            "       'MPG_city', 'MPG_highway', 'AirBags', 'DriveTrain', 'Cylinders',\n",
            "       'EngineSize', 'Horsepower', 'RPM', 'Rev_per_mile', 'Man_trans_avail',\n",
            "       'Fuel_tank_capacity', 'Passengers', 'Length', 'Wheelbase', 'Width',\n",
            "       'Turn_circle', 'Rear_seat_room', 'Luggage_room', 'Weight', 'Origin',\n",
            "       'Make'],\n",
            "      dtype='object')\n"
          ]
        }
      ]
    },
    {
      "cell_type": "code",
      "source": [
        "#40. How to check if a dataframe has any missing values?\n",
        "\n",
        "# Input\n",
        "df = pd.read_csv('https://raw.githubusercontent.com/selva86/datasets/master/Cars93_miss.csv')\n",
        "\n",
        "# Solution\n",
        "df.isnull().values.any()"
      ],
      "metadata": {
        "colab": {
          "base_uri": "https://localhost:8080/"
        },
        "id": "ZPYLHAsYOiFj",
        "outputId": "9fa31b9e-79a3-403e-ba12-7ef2f799cfd9"
      },
      "execution_count": 49,
      "outputs": [
        {
          "output_type": "execute_result",
          "data": {
            "text/plain": [
              "True"
            ]
          },
          "metadata": {},
          "execution_count": 49
        }
      ]
    },
    {
      "cell_type": "code",
      "source": [
        "#41. How to count the number of missing values in each column?\n",
        "# Input\n",
        "df = pd.read_csv('https://raw.githubusercontent.com/selva86/datasets/master/Cars93_miss.csv')\n",
        "# Solution\n",
        "n_missings_each_col = df.apply(lambda x: x.isnull().sum())\n",
        "n_missings_each_col.argmax()"
      ],
      "metadata": {
        "colab": {
          "base_uri": "https://localhost:8080/"
        },
        "id": "F1AJ49NWOrgz",
        "outputId": "8e779e51-01b5-4a60-e002-16af8fd53143"
      },
      "execution_count": 54,
      "outputs": [
        {
          "output_type": "execute_result",
          "data": {
            "text/plain": [
              "23"
            ]
          },
          "metadata": {},
          "execution_count": 54
        }
      ]
    },
    {
      "cell_type": "code",
      "source": [
        "#42. How to replace missing values of multiple numeric columns with the mean?\n",
        "# Input\n",
        "df = pd.read_csv('https://raw.githubusercontent.com/selva86/datasets/master/Cars93_miss.csv')\n",
        "\n",
        "# Solution\n",
        "df_out = df[['Min.Price', 'Max.Price']] = df[['Min.Price', 'Max.Price']].apply(lambda x: x.fillna(x.mean()))\n",
        "print(df_out.head())"
      ],
      "metadata": {
        "colab": {
          "base_uri": "https://localhost:8080/"
        },
        "id": "NmZVH19YOvra",
        "outputId": "cc1680d6-5ac5-4ef7-ed5a-326c4ee3a01a"
      },
      "execution_count": 55,
      "outputs": [
        {
          "output_type": "stream",
          "name": "stdout",
          "text": [
            "   Min.Price  Max.Price\n",
            "0  12.900000  18.800000\n",
            "1  29.200000  38.700000\n",
            "2  25.900000  32.300000\n",
            "3  17.118605  44.600000\n",
            "4  17.118605  21.459091\n"
          ]
        }
      ]
    },
    {
      "cell_type": "code",
      "source": [
        "#43. How to use apply function on existing columns with global variables as additional arguments?\n",
        "# Input\n",
        "df = pd.read_csv('https://raw.githubusercontent.com/selva86/datasets/master/Cars93_miss.csv')\n",
        "\n",
        "# Solution\n",
        "d = {'Min.Price': np.nanmean, 'Max.Price': np.nanmedian}\n",
        "df[['Min.Price', 'Max.Price']] = df[['Min.Price', 'Max.Price']].apply(lambda x, d: x.fillna(d[x.name](x)), args=(d, ))\n",
        "df[['Min.Price', 'Max.Price']]"
      ],
      "metadata": {
        "colab": {
          "base_uri": "https://localhost:8080/",
          "height": 424
        },
        "id": "KyVYZZfKPHBV",
        "outputId": "f1a16c33-4ca8-4076-d4e8-be150252025d"
      },
      "execution_count": 57,
      "outputs": [
        {
          "output_type": "execute_result",
          "data": {
            "text/html": [
              "\n",
              "  <div id=\"df-a9e3bba0-3219-4196-8641-e1768c3a54fb\">\n",
              "    <div class=\"colab-df-container\">\n",
              "      <div>\n",
              "<style scoped>\n",
              "    .dataframe tbody tr th:only-of-type {\n",
              "        vertical-align: middle;\n",
              "    }\n",
              "\n",
              "    .dataframe tbody tr th {\n",
              "        vertical-align: top;\n",
              "    }\n",
              "\n",
              "    .dataframe thead th {\n",
              "        text-align: right;\n",
              "    }\n",
              "</style>\n",
              "<table border=\"1\" class=\"dataframe\">\n",
              "  <thead>\n",
              "    <tr style=\"text-align: right;\">\n",
              "      <th></th>\n",
              "      <th>Min.Price</th>\n",
              "      <th>Max.Price</th>\n",
              "    </tr>\n",
              "  </thead>\n",
              "  <tbody>\n",
              "    <tr>\n",
              "      <th>0</th>\n",
              "      <td>12.900000</td>\n",
              "      <td>18.80</td>\n",
              "    </tr>\n",
              "    <tr>\n",
              "      <th>1</th>\n",
              "      <td>29.200000</td>\n",
              "      <td>38.70</td>\n",
              "    </tr>\n",
              "    <tr>\n",
              "      <th>2</th>\n",
              "      <td>25.900000</td>\n",
              "      <td>32.30</td>\n",
              "    </tr>\n",
              "    <tr>\n",
              "      <th>3</th>\n",
              "      <td>17.118605</td>\n",
              "      <td>44.60</td>\n",
              "    </tr>\n",
              "    <tr>\n",
              "      <th>4</th>\n",
              "      <td>17.118605</td>\n",
              "      <td>19.15</td>\n",
              "    </tr>\n",
              "    <tr>\n",
              "      <th>...</th>\n",
              "      <td>...</td>\n",
              "      <td>...</td>\n",
              "    </tr>\n",
              "    <tr>\n",
              "      <th>88</th>\n",
              "      <td>16.600000</td>\n",
              "      <td>22.70</td>\n",
              "    </tr>\n",
              "    <tr>\n",
              "      <th>89</th>\n",
              "      <td>17.600000</td>\n",
              "      <td>22.40</td>\n",
              "    </tr>\n",
              "    <tr>\n",
              "      <th>90</th>\n",
              "      <td>22.900000</td>\n",
              "      <td>23.70</td>\n",
              "    </tr>\n",
              "    <tr>\n",
              "      <th>91</th>\n",
              "      <td>21.800000</td>\n",
              "      <td>23.50</td>\n",
              "    </tr>\n",
              "    <tr>\n",
              "      <th>92</th>\n",
              "      <td>24.800000</td>\n",
              "      <td>28.50</td>\n",
              "    </tr>\n",
              "  </tbody>\n",
              "</table>\n",
              "<p>93 rows × 2 columns</p>\n",
              "</div>\n",
              "      <button class=\"colab-df-convert\" onclick=\"convertToInteractive('df-a9e3bba0-3219-4196-8641-e1768c3a54fb')\"\n",
              "              title=\"Convert this dataframe to an interactive table.\"\n",
              "              style=\"display:none;\">\n",
              "        \n",
              "  <svg xmlns=\"http://www.w3.org/2000/svg\" height=\"24px\"viewBox=\"0 0 24 24\"\n",
              "       width=\"24px\">\n",
              "    <path d=\"M0 0h24v24H0V0z\" fill=\"none\"/>\n",
              "    <path d=\"M18.56 5.44l.94 2.06.94-2.06 2.06-.94-2.06-.94-.94-2.06-.94 2.06-2.06.94zm-11 1L8.5 8.5l.94-2.06 2.06-.94-2.06-.94L8.5 2.5l-.94 2.06-2.06.94zm10 10l.94 2.06.94-2.06 2.06-.94-2.06-.94-.94-2.06-.94 2.06-2.06.94z\"/><path d=\"M17.41 7.96l-1.37-1.37c-.4-.4-.92-.59-1.43-.59-.52 0-1.04.2-1.43.59L10.3 9.45l-7.72 7.72c-.78.78-.78 2.05 0 2.83L4 21.41c.39.39.9.59 1.41.59.51 0 1.02-.2 1.41-.59l7.78-7.78 2.81-2.81c.8-.78.8-2.07 0-2.86zM5.41 20L4 18.59l7.72-7.72 1.47 1.35L5.41 20z\"/>\n",
              "  </svg>\n",
              "      </button>\n",
              "      \n",
              "  <style>\n",
              "    .colab-df-container {\n",
              "      display:flex;\n",
              "      flex-wrap:wrap;\n",
              "      gap: 12px;\n",
              "    }\n",
              "\n",
              "    .colab-df-convert {\n",
              "      background-color: #E8F0FE;\n",
              "      border: none;\n",
              "      border-radius: 50%;\n",
              "      cursor: pointer;\n",
              "      display: none;\n",
              "      fill: #1967D2;\n",
              "      height: 32px;\n",
              "      padding: 0 0 0 0;\n",
              "      width: 32px;\n",
              "    }\n",
              "\n",
              "    .colab-df-convert:hover {\n",
              "      background-color: #E2EBFA;\n",
              "      box-shadow: 0px 1px 2px rgba(60, 64, 67, 0.3), 0px 1px 3px 1px rgba(60, 64, 67, 0.15);\n",
              "      fill: #174EA6;\n",
              "    }\n",
              "\n",
              "    [theme=dark] .colab-df-convert {\n",
              "      background-color: #3B4455;\n",
              "      fill: #D2E3FC;\n",
              "    }\n",
              "\n",
              "    [theme=dark] .colab-df-convert:hover {\n",
              "      background-color: #434B5C;\n",
              "      box-shadow: 0px 1px 3px 1px rgba(0, 0, 0, 0.15);\n",
              "      filter: drop-shadow(0px 1px 2px rgba(0, 0, 0, 0.3));\n",
              "      fill: #FFFFFF;\n",
              "    }\n",
              "  </style>\n",
              "\n",
              "      <script>\n",
              "        const buttonEl =\n",
              "          document.querySelector('#df-a9e3bba0-3219-4196-8641-e1768c3a54fb button.colab-df-convert');\n",
              "        buttonEl.style.display =\n",
              "          google.colab.kernel.accessAllowed ? 'block' : 'none';\n",
              "\n",
              "        async function convertToInteractive(key) {\n",
              "          const element = document.querySelector('#df-a9e3bba0-3219-4196-8641-e1768c3a54fb');\n",
              "          const dataTable =\n",
              "            await google.colab.kernel.invokeFunction('convertToInteractive',\n",
              "                                                     [key], {});\n",
              "          if (!dataTable) return;\n",
              "\n",
              "          const docLinkHtml = 'Like what you see? Visit the ' +\n",
              "            '<a target=\"_blank\" href=https://colab.research.google.com/notebooks/data_table.ipynb>data table notebook</a>'\n",
              "            + ' to learn more about interactive tables.';\n",
              "          element.innerHTML = '';\n",
              "          dataTable['output_type'] = 'display_data';\n",
              "          await google.colab.output.renderOutput(dataTable, element);\n",
              "          const docLink = document.createElement('div');\n",
              "          docLink.innerHTML = docLinkHtml;\n",
              "          element.appendChild(docLink);\n",
              "        }\n",
              "      </script>\n",
              "    </div>\n",
              "  </div>\n",
              "  "
            ],
            "text/plain": [
              "    Min.Price  Max.Price\n",
              "0   12.900000      18.80\n",
              "1   29.200000      38.70\n",
              "2   25.900000      32.30\n",
              "3   17.118605      44.60\n",
              "4   17.118605      19.15\n",
              "..        ...        ...\n",
              "88  16.600000      22.70\n",
              "89  17.600000      22.40\n",
              "90  22.900000      23.70\n",
              "91  21.800000      23.50\n",
              "92  24.800000      28.50\n",
              "\n",
              "[93 rows x 2 columns]"
            ]
          },
          "metadata": {},
          "execution_count": 57
        }
      ]
    },
    {
      "cell_type": "code",
      "source": [
        ""
      ],
      "metadata": {
        "id": "fRgbGskUPLq2"
      },
      "execution_count": null,
      "outputs": []
    }
  ]
}